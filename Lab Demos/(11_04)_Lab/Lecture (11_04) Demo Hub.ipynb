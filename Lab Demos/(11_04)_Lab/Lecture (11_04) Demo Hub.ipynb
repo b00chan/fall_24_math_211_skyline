{
 "cells": [
  {
   "cell_type": "markdown",
   "id": "7f29ec96",
   "metadata": {},
   "source": [
    "# [Python Reference Link](http://www.data8.org/sp20/python-reference.html)\n",
    "*Run the cell below so that we can set our modules up*"
   ]
  },
  {
   "cell_type": "code",
   "execution_count": null,
   "id": "6174467d",
   "metadata": {},
   "outputs": [],
   "source": [
    "import numpy as np\n",
    "from datascience import *\n",
    "\n",
    "# These lines set up graphing capabilities.\n",
    "import matplotlib\n",
    "%matplotlib inline\n",
    "import matplotlib.pyplot as plt\n",
    "plt.style.use('fivethirtyeight')\n",
    "import warnings\n",
    "warnings.simplefilter('ignore', FutureWarning)\n",
    "\n",
    "from ipywidgets import interact, interactive, fixed, interact_manual\n",
    "import ipywidgets as widgets"
   ]
  },
  {
   "cell_type": "markdown",
   "id": "334cd293",
   "metadata": {},
   "source": [
    "## Hypothesis Test Simulation: Extraversion and wanting more siblings?\n",
    "#### (Who is Older? a.k.a. A/B Testing)\n",
    "In our [Class Survey Analysis Assignment](https://smccd.instructure.com/courses/59594/assignments/1644639) some of us posed hypotheses that were prime for analysis with A/B Testing. For this example, we will test the hypothesis that whether or not extroverted individuals are **more likely** to wish they had more siblings"
   ]
  },
  {
   "cell_type": "code",
   "execution_count": null,
   "id": "364ed681",
   "metadata": {},
   "outputs": [],
   "source": [
    "math211_survey = Table().read_table('MATH_211_Survey_Cleaned_GPA.csv').select(2,12,13)\n",
    "math211_survey"
   ]
  },
  {
   "cell_type": "markdown",
   "id": "d7f109a1",
   "metadata": {},
   "source": [
    "### \"Define my hypothesis\""
   ]
  },
  {
   "cell_type": "code",
   "execution_count": null,
   "id": "f73cc4c5",
   "metadata": {},
   "outputs": [],
   "source": [
    "def more_or_less_siblings(num_siblings_have,num_siblings_wish):\n",
    "    if num_siblings_have > num_siblings_wish:\n",
    "        return 'Less'\n",
    "    elif num_siblings_have < num_siblings_wish:\n",
    "        return 'More'\n",
    "    else:\n",
    "        return 'same'\n",
    "\n",
    "sibling_classification_array = math211_survey.apply(more_or_less_siblings,'Num_Siblings','Wish_Siblings')\n",
    "math211_survey = math211_survey.with_column('more/less',sibling_classification_array)\n",
    "math211_survey"
   ]
  },
  {
   "cell_type": "markdown",
   "id": "16c44aad",
   "metadata": {},
   "source": [
    "### \"Define my test statistic\" based upon my Hypothesis"
   ]
  },
  {
   "cell_type": "code",
   "execution_count": null,
   "id": "34fa484f",
   "metadata": {},
   "outputs": [],
   "source": [
    "math211_survey_to_study = math211_survey.where('more/less',are.not_equal_to('same'))\n",
    "math211_survey_to_study"
   ]
  },
  {
   "cell_type": "code",
   "execution_count": null,
   "id": "4cff17f4",
   "metadata": {},
   "outputs": [],
   "source": [
    "grouped_by_more_less = math211_survey_to_study.group('more/less',np.average)\n",
    "grouped_by_more_less"
   ]
  },
  {
   "cell_type": "code",
   "execution_count": null,
   "id": "73e66145",
   "metadata": {},
   "outputs": [],
   "source": [
    "intro_extra_averages = grouped_by_more_less.column('Introversion/Extraversion average')\n",
    "intro_extra_averages"
   ]
  },
  {
   "cell_type": "code",
   "execution_count": null,
   "id": "3c2a9952",
   "metadata": {},
   "outputs": [],
   "source": [
    "intro_extra_averages"
   ]
  },
  {
   "cell_type": "code",
   "execution_count": null,
   "id": "1a6aefff",
   "metadata": {},
   "outputs": [],
   "source": [
    "test_statistic = intro_extra_averages.item(0) - intro_extra_averages.item(1)\n",
    "test_statistic"
   ]
  },
  {
   "cell_type": "markdown",
   "id": "d3297e6f",
   "metadata": {},
   "source": [
    "### Shuffle the labels of the original sample"
   ]
  },
  {
   "cell_type": "code",
   "execution_count": null,
   "id": "3bfa2b89",
   "metadata": {},
   "outputs": [],
   "source": [
    "# Run this cell a few times to observe that the order of the rows keep changing each time we run it\n",
    "math211_survey_to_study.sample( math211_survey_to_study.num_rows, with_replacement = False)"
   ]
  },
  {
   "cell_type": "code",
   "execution_count": null,
   "id": "a5feb56a",
   "metadata": {},
   "outputs": [],
   "source": [
    "shuffled_labels = math211_survey_to_study.sample( math211_survey_to_study.num_rows, with_replacement = False).column('more/less')\n",
    "shuffled_labels"
   ]
  },
  {
   "cell_type": "code",
   "execution_count": null,
   "id": "ae43e0d3",
   "metadata": {},
   "outputs": [],
   "source": [
    "simulated_shuffle = math211_survey_to_study.with_column('shuffled_label',shuffled_labels)\n",
    "simulated_shuffle"
   ]
  },
  {
   "cell_type": "code",
   "execution_count": null,
   "id": "f65506b5",
   "metadata": {},
   "outputs": [],
   "source": [
    "simulated_shuffle.select('Introversion/Extraversion','more/less','shuffled_label')"
   ]
  },
  {
   "cell_type": "markdown",
   "id": "d041310b",
   "metadata": {},
   "source": [
    "### Find your simulated test statistic"
   ]
  },
  {
   "cell_type": "code",
   "execution_count": null,
   "id": "d81d2422",
   "metadata": {},
   "outputs": [],
   "source": [
    "grouped_by_more_less = simulated_shuffle.group('shuffled_label',np.average)\n",
    "intro_extra_averages = grouped_by_more_less.column('Introversion/Extraversion average')\n",
    "test_statistic_shuffle = intro_extra_averages.item(0) - intro_extra_averages.item(1)\n",
    "test_statistic_shuffle"
   ]
  },
  {
   "cell_type": "markdown",
   "id": "f68cf821",
   "metadata": {},
   "source": [
    "### Repeat many times"
   ]
  },
  {
   "cell_type": "code",
   "execution_count": null,
   "id": "b78b78f5",
   "metadata": {},
   "outputs": [],
   "source": [
    "num_simulations = 1000\n",
    "simulated_statistics_ab = make_array()\n",
    "\n",
    "for i in np.arange(num_simulations):\n",
    "    shuffled_labels = math211_survey_to_study.sample( math211_survey_to_study.num_rows, with_replacement = False).column('more/less')\n",
    "    simulated_shuffle = math211_survey_to_study.with_column('shuffled_label',shuffled_labels)\n",
    "    \n",
    "    grouped_by_more_less = simulated_shuffle.group('shuffled_label',np.average)\n",
    "    intro_extra_averages = grouped_by_more_less.column('Introversion/Extraversion average')\n",
    "    test_statistic_shuffle = intro_extra_averages.item(0) - intro_extra_averages.item(1)\n",
    "    simulated_statistics_ab = np.append(test_statistics_ab,test_statistic_shuffle)\n",
    "\n",
    "simulated_statistics_ab"
   ]
  },
  {
   "cell_type": "markdown",
   "id": "2a21f2d3",
   "metadata": {},
   "source": [
    "### Calculate p-value"
   ]
  },
  {
   "cell_type": "code",
   "execution_count": null,
   "id": "2d175443",
   "metadata": {},
   "outputs": [],
   "source": [
    "observed_diff_ab = test_statistic"
   ]
  },
  {
   "cell_type": "code",
   "execution_count": null,
   "id": "57244106",
   "metadata": {},
   "outputs": [],
   "source": [
    "Table().with_columns('Simulated Statistic', simulated_statistics_ab).hist()\n",
    "plt.scatter(observed_diff_ab, -0.002, color='red', s=70);"
   ]
  },
  {
   "cell_type": "code",
   "execution_count": null,
   "id": "c5176249",
   "metadata": {},
   "outputs": [],
   "source": [
    "p_value = np.count_nonzero(simulated_statistics_ab < observed_diff_ab)/num_simulations\n",
    "p_value"
   ]
  },
  {
   "cell_type": "code",
   "execution_count": null,
   "id": "0d17d72c",
   "metadata": {},
   "outputs": [],
   "source": []
  }
 ],
 "metadata": {
  "kernelspec": {
   "display_name": "Python 3 (ipykernel)",
   "language": "python",
   "name": "python3"
  },
  "language_info": {
   "codemirror_mode": {
    "name": "ipython",
    "version": 3
   },
   "file_extension": ".py",
   "mimetype": "text/x-python",
   "name": "python",
   "nbconvert_exporter": "python",
   "pygments_lexer": "ipython3",
   "version": "3.10.11"
  }
 },
 "nbformat": 4,
 "nbformat_minor": 5
}
