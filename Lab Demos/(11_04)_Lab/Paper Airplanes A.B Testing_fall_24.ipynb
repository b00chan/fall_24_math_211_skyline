{
 "cells": [
  {
   "cell_type": "markdown",
   "id": "8f246f8d",
   "metadata": {},
   "source": [
    "# [Python Reference Link](http://www.data8.org/sp20/python-reference.html)\n",
    "*Run the cell below so that we can set our modules up*"
   ]
  },
  {
   "cell_type": "code",
   "execution_count": null,
   "id": "b2ff526c",
   "metadata": {},
   "outputs": [],
   "source": [
    "import numpy as np\n",
    "from datascience import *\n",
    "from IPython.display import YouTubeVideo\n",
    "\n",
    "# These lines do some fancy plotting magic.\n",
    "import matplotlib\n",
    "%matplotlib inline\n",
    "import matplotlib.pyplot as plt\n",
    "plt.style.use('fivethirtyeight')\n",
    "import warnings\n",
    "warnings.simplefilter('ignore', FutureWarning)"
   ]
  },
  {
   "cell_type": "markdown",
   "id": "53354e02",
   "metadata": {},
   "source": [
    "## A/B Test Simulation: Paper Airplanes"
   ]
  },
  {
   "cell_type": "code",
   "execution_count": null,
   "id": "7de51435",
   "metadata": {},
   "outputs": [],
   "source": [
    "paper_planes = Table.read_table('paper_planes.csv')\n",
    "paper_planes"
   ]
  },
  {
   "cell_type": "code",
   "execution_count": null,
   "id": "c5b959dd",
   "metadata": {
    "scrolled": true
   },
   "outputs": [],
   "source": [
    "paper_planes.group('Material Type', np.average)"
   ]
  },
  {
   "cell_type": "code",
   "execution_count": null,
   "id": "f413d0da",
   "metadata": {},
   "outputs": [],
   "source": [
    "observed_diff_ab = abs(paper_planes.group('Material Type', np.average).column(1).item(1) - \n",
    "                    paper_planes.group('Material Type', np.average).column(1).item(0))\n",
    "observed_diff_ab"
   ]
  },
  {
   "cell_type": "code",
   "execution_count": null,
   "id": "269c89da",
   "metadata": {},
   "outputs": [],
   "source": [
    "shuffled_labels = paper_planes.sample(paper_planes.num_rows,with_replacement = False).column('Material Type')\n",
    "shuffled_labels"
   ]
  },
  {
   "cell_type": "code",
   "execution_count": null,
   "id": "c011b550",
   "metadata": {
    "scrolled": true
   },
   "outputs": [],
   "source": [
    "paper_planes_with_shuffled = paper_planes.with_column('shuffled labels',shuffled_labels)\n",
    "paper_planes_with_shuffled"
   ]
  },
  {
   "cell_type": "code",
   "execution_count": null,
   "id": "ebe869d2",
   "metadata": {},
   "outputs": [],
   "source": [
    "paper_planes_with_shuffled.group('shuffled labels',np.average)"
   ]
  },
  {
   "cell_type": "code",
   "execution_count": null,
   "id": "c5e8b2f3",
   "metadata": {},
   "outputs": [],
   "source": [
    "simulated_statistics_ab = make_array()\n",
    "\n",
    "repetitions = 1000\n",
    "\n",
    "for i in np.arange(repetitions):\n",
    "    shuffled_labels = paper_planes.sample(paper_planes.num_rows,with_replacement = False).column('Material Type')\n",
    "    table_with_shuffled_labels = paper_planes.with_column('shuffled labels',shuffled_labels)\n",
    "    shuffled_group = table_with_shuffled_labels.group('shuffled labels',np.average)\n",
    "    simulated_stat = shuffled_group.column(2).item(1) - shuffled_group.column(2).item(0)\n",
    "    simulated_statistics_ab = np.append(simulated_statistics_ab,simulated_stat)\n",
    "    \n",
    "simulated_statistics_ab"
   ]
  },
  {
   "cell_type": "code",
   "execution_count": null,
   "id": "3fa11742",
   "metadata": {},
   "outputs": [],
   "source": [
    "Table().with_columns('Simulated Statistic', simulated_statistics_ab).hist()\n",
    "plt.scatter(observed_diff_ab, -0.002, color='red', s=70);"
   ]
  },
  {
   "cell_type": "code",
   "execution_count": null,
   "id": "4387ece7",
   "metadata": {},
   "outputs": [],
   "source": [
    "p_val = np.count_nonzero(simulated_statistics_ab >= observed_diff_ab) / repetitions\n",
    "p_val"
   ]
  },
  {
   "cell_type": "code",
   "execution_count": null,
   "id": "ce4b1f3f",
   "metadata": {},
   "outputs": [],
   "source": []
  }
 ],
 "metadata": {
  "kernelspec": {
   "display_name": "Python 3 (ipykernel)",
   "language": "python",
   "name": "python3"
  },
  "language_info": {
   "codemirror_mode": {
    "name": "ipython",
    "version": 3
   },
   "file_extension": ".py",
   "mimetype": "text/x-python",
   "name": "python",
   "nbconvert_exporter": "python",
   "pygments_lexer": "ipython3",
   "version": "3.10.11"
  }
 },
 "nbformat": 4,
 "nbformat_minor": 5
}
