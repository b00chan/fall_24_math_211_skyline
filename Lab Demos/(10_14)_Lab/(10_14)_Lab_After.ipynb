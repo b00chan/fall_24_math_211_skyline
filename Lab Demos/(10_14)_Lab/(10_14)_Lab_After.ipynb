{
 "cells": [
  {
   "cell_type": "markdown",
   "id": "ad2e12c1",
   "metadata": {},
   "source": [
    "# [Python Reference Link](http://www.data8.org/sp20/python-reference.html)\n",
    "*Run the cell below so that we can set our modules up*"
   ]
  },
  {
   "cell_type": "code",
   "execution_count": 2,
   "id": "ed49d269",
   "metadata": {},
   "outputs": [],
   "source": [
    "import numpy as np\n",
    "from datascience import *\n",
    "\n",
    "# These lines set up graphing capabilities.\n",
    "import matplotlib\n",
    "%matplotlib inline\n",
    "import matplotlib.pyplot as plt\n",
    "plt.style.use('fivethirtyeight')\n",
    "import warnings\n",
    "warnings.simplefilter('ignore', FutureWarning)\n",
    "\n",
    "from ipywidgets import interact, interactive, fixed, interact_manual\n",
    "import ipywidgets as widgets"
   ]
  },
  {
   "cell_type": "markdown",
   "id": "5b6a4570",
   "metadata": {},
   "source": [
    "# Importing our data"
   ]
  },
  {
   "cell_type": "code",
   "execution_count": 3,
   "id": "2569931d",
   "metadata": {},
   "outputs": [],
   "source": [
    "math211_survey = Table.read_table('MATH_211_Survey_Cleaned_GPA.csv')\n",
    "drinks = Table.read_table('drinks.csv')\n",
    "discounts = Table.read_table('discounts.csv')\n",
    "countries = Table.read_table('countries.csv').select('country', 'name', 'world_6region')"
   ]
  },
  {
   "cell_type": "markdown",
   "id": "bf4996d8",
   "metadata": {},
   "source": [
    "# Let's look at a [Demo Request](https://forms.gle/rtF16ch5ABCzM8qn7)\n",
    "\n",
    "For [Project01](https://skyline.cloudbank.2i2c.cloud/hub/user-redirect/git-pull?repo=https%3A%2F%2Fgithub.com%2Fb00chan%2Ffall_24_math_211_skyline&urlpath=tree%2Ffall_24_math_211_skyline%2FProjects%2Fproject1%2Fproject1.ipynb&branch=main): Question 7 from 'Global Poverty' Section:\n",
    "\n",
    "**Question 7.** Now, we'll actually write the function called `poverty_timeline`. Recall that `poverty_timeline` takes **the name of a country** as its argument (not the Alpha-3 country code). It should draw a line plot of the number of people living in poverty in that country with time on the horizontal axis. The line plot should have a point for each row in the `poverty` table for that country. To compute the population living in poverty from a poverty percentage, multiply by the population of the country **in that year**.\n",
    "\n",
    "*Hint:* This question is long. Feel free to create cells and experiment. You can create cells by going to the toolbar and hitting the `+` button, or by going to the `Insert` tab."
   ]
  },
  {
   "cell_type": "code",
   "execution_count": 4,
   "id": "e87c4145",
   "metadata": {},
   "outputs": [],
   "source": [
    "def poverty_timeline(country):\n",
    "    '''Draw a timeline of people living in extreme poverty in a country.'''\n",
    "    geo = ...\n",
    "    # This solution will take multiple lines of code. Use as many as you need\n",
    "    ...\n",
    "    # Don't change anything below this line. \n",
    "    plots.title(country)\n",
    "    plots.ylim(bottom=0)\n",
    "    plots.show() # This should be the last line of your function. "
   ]
  },
  {
   "cell_type": "markdown",
   "id": "e13b5a19",
   "metadata": {},
   "source": [
    "## The Strategy: Overall\n",
    "\n",
    "(1)The input is the name of a country, and it's corresponding output is a line plot of the number of people living in poverty within that country. We can use both the `poverty` and `population` tables, however they identify their countries through `geo` codes so we will need to find a way to convert the country name into it's corresponding `geo` code using the `countries` table. \n",
    "\n",
    "(2)While the `poverty` and `population` tables contain our information of interest, the population is given as a frequency/count, while the poverty table gives us a percentages. We will use both of these facts to help us calculate the number of people living in poverty (by multiplication). Therefore, we want to join these two tables to combine the information into a single table. \n",
    "\n",
    "To set up the join, we will need to filter the two tables to make sure that we have the `poverty` and `population` table contains the rows of only the country of interest (i.e. the input). Once we perform the appropriate filter, we will can then join by the `time` variable, since both tables contain years under the `time` column. This also makes sure that we match up the poverty percentage to their appropriate population count of that year (i.e. we want to match the 25% poverty of **1956** to the population size of India in **1956**). We will already know that the join will be mergining tables of the same country since we filtered it already as so. \n",
    "\n",
    "(4)Once we successfully join the table, then, we caluclate the number of people in poverty in a given country/year by multiplying the columns containing population and poverty and then appending that column to the table. \n",
    "\n",
    "(5) We will use the `.plot()` method to plot the corresponding poverty counts for an input country (will not be covered in demo request)"
   ]
  },
  {
   "cell_type": "markdown",
   "id": "25e3187d",
   "metadata": {},
   "source": [
    "#### (1) Input Conversion\n",
    "The input is the name of a country, and it's corresponding output is a line plot of the number of people living in poverty within that country. We can use both the `poverty` and `population` tables, however they identify their countries through `geo` codes so we will need to find a way to convert the country name into it's corresponding `geo` code using the `countries` table. \n",
    "\n",
    "Let's practice with the the data from the project below:"
   ]
  },
  {
   "cell_type": "code",
   "execution_count": 5,
   "id": "bd916170",
   "metadata": {},
   "outputs": [
    {
     "data": {
      "text/plain": [
       "'usa'"
      ]
     },
     "execution_count": 5,
     "metadata": {},
     "output_type": "execute_result"
    }
   ],
   "source": [
    "country = 'United States' #this line to mimic the input of the function in Question 7\n",
    "geo = countries.where('name',are.equal_to(country)).column('country').item(0)\n",
    "geo"
   ]
  },
  {
   "cell_type": "code",
   "execution_count": 6,
   "id": "72a245d9",
   "metadata": {},
   "outputs": [
    {
     "data": {
      "text/plain": [
       "'ind'"
      ]
     },
     "execution_count": 6,
     "metadata": {},
     "output_type": "execute_result"
    }
   ],
   "source": [
    "'ind'"
   ]
  },
  {
   "cell_type": "markdown",
   "id": "b838d576",
   "metadata": {},
   "source": [
    "#### (2) Filter and Join setup\n",
    "While the `poverty` and `population` tables contain our information of interest, the population is given as a frequency/count, while the poverty table gives us a percentages. We will use both of these facts to help us calculate the number of people living in poverty (by multiplication). Therefore, we want to join these two tables to combine the information into a single table.\n",
    "\n",
    "To set up the join, we will need to filter the two tables to make sure that we have the `poverty` and `population` table contains the rows of only the country of interest (i.e. the input). Once we perform the appropriate filter, we will can then join by the `time` variable, since both tables contain years under the `time` column. This also makes sure that we match up the poverty percentage to their appropriate population count of that year (i.e. we want to match the 25% poverty of **1956** to the population size of India in **1956**). We will already know that the join will be mergining tables of the same country since we filtered it already as so. \n",
    "\n",
    "**For this step (and beyond), we will practice a parallel process with `drinks` and `discounts` to match the drink prices with their discounts, and calculate their corresponding discounted price.**"
   ]
  },
  {
   "cell_type": "code",
   "execution_count": 7,
   "id": "bad46cc7",
   "metadata": {},
   "outputs": [
    {
     "data": {
      "text/html": [
       "<table border=\"1\" class=\"dataframe\">\n",
       "    <thead>\n",
       "        <tr>\n",
       "            <th>Drink</th> <th>Size</th> <th>Cafe</th> <th>Price ($)</th>\n",
       "        </tr>\n",
       "    </thead>\n",
       "    <tbody>\n",
       "        <tr>\n",
       "            <td>Milk Tea      </td> <td>Medium</td> <td>Asha</td> <td>5.5      </td>\n",
       "        </tr>\n",
       "        <tr>\n",
       "            <td>Tea           </td> <td>Medium</td> <td>Asha</td> <td>2.5      </td>\n",
       "        </tr>\n",
       "        <tr>\n",
       "            <td>Espresso      </td> <td>Medium</td> <td>Asha</td> <td>3        </td>\n",
       "        </tr>\n",
       "        <tr>\n",
       "            <td>Latte         </td> <td>Medium</td> <td>Asha</td> <td>4.75     </td>\n",
       "        </tr>\n",
       "        <tr>\n",
       "            <td>Cappucino     </td> <td>Medium</td> <td>Asha</td> <td>4.25     </td>\n",
       "        </tr>\n",
       "        <tr>\n",
       "            <td>Blended Coffee</td> <td>Medium</td> <td>Asha</td> <td>6        </td>\n",
       "        </tr>\n",
       "        <tr>\n",
       "            <td>Drip Coffee   </td> <td>Medium</td> <td>Asha</td> <td>3.5      </td>\n",
       "        </tr>\n",
       "        <tr>\n",
       "            <td>Milk Tea      </td> <td>Large </td> <td>Asha</td> <td>7        </td>\n",
       "        </tr>\n",
       "        <tr>\n",
       "            <td>Tea           </td> <td>Large </td> <td>Asha</td> <td>4        </td>\n",
       "        </tr>\n",
       "        <tr>\n",
       "            <td>Espresso      </td> <td>Large </td> <td>Asha</td> <td>4.5      </td>\n",
       "        </tr>\n",
       "    </tbody>\n",
       "</table>\n",
       "<p>... (4 rows omitted)</p>"
      ],
      "text/plain": [
       "Drink          | Size   | Cafe | Price ($)\n",
       "Milk Tea       | Medium | Asha | 5.5\n",
       "Tea            | Medium | Asha | 2.5\n",
       "Espresso       | Medium | Asha | 3\n",
       "Latte          | Medium | Asha | 4.75\n",
       "Cappucino      | Medium | Asha | 4.25\n",
       "Blended Coffee | Medium | Asha | 6\n",
       "Drip Coffee    | Medium | Asha | 3.5\n",
       "Milk Tea       | Large  | Asha | 7\n",
       "Tea            | Large  | Asha | 4\n",
       "Espresso       | Large  | Asha | 4.5\n",
       "... (4 rows omitted)"
      ]
     },
     "execution_count": 7,
     "metadata": {},
     "output_type": "execute_result"
    }
   ],
   "source": [
    "asha_drinks = drinks.where('Cafe',are.equal_to('Asha'))\n",
    "asha_drinks"
   ]
  },
  {
   "cell_type": "code",
   "execution_count": 8,
   "id": "dfe1d93d",
   "metadata": {},
   "outputs": [
    {
     "data": {
      "text/html": [
       "<table border=\"1\" class=\"dataframe\">\n",
       "    <thead>\n",
       "        <tr>\n",
       "            <th>Coupon</th> <th>Location</th>\n",
       "        </tr>\n",
       "    </thead>\n",
       "    <tbody>\n",
       "        <tr>\n",
       "            <td>0.05  </td> <td>Asha    </td>\n",
       "        </tr>\n",
       "        <tr>\n",
       "            <td>0.1   </td> <td>Asha    </td>\n",
       "        </tr>\n",
       "        <tr>\n",
       "            <td>0.15  </td> <td>Asha    </td>\n",
       "        </tr>\n",
       "        <tr>\n",
       "            <td>0.25  </td> <td>Asha    </td>\n",
       "        </tr>\n",
       "    </tbody>\n",
       "</table>"
      ],
      "text/plain": [
       "Coupon | Location\n",
       "0.05   | Asha\n",
       "0.1    | Asha\n",
       "0.15   | Asha\n",
       "0.25   | Asha"
      ]
     },
     "execution_count": 8,
     "metadata": {},
     "output_type": "execute_result"
    }
   ],
   "source": [
    "asha_discounts = discounts.where('Location',are.equal_to('Asha'))\n",
    "asha_discounts"
   ]
  },
  {
   "cell_type": "code",
   "execution_count": null,
   "id": "6a8d3fa5",
   "metadata": {},
   "outputs": [],
   "source": []
  },
  {
   "cell_type": "markdown",
   "id": "12dd73f6",
   "metadata": {},
   "source": [
    "#### (3) Join\n",
    "To set up the join, we will need to filter the two tables to make sure that we have the `poverty` and `population` table contains the rows of only the country of interest (i.e. the input). Once we perform the appropriate filter, we will can then join by the `time` variable, since both tables contain years under the `time` column. This also makes sure that we match up the poverty percentage to their appropriate population count of that year (i.e. we want to match the 25% poverty of **1956** to the population size of India in **1956**). We will already know that the join will be mergining tables of the same country since we filtered it already as so. "
   ]
  },
  {
   "cell_type": "code",
   "execution_count": 9,
   "id": "3d19b0a4",
   "metadata": {},
   "outputs": [
    {
     "data": {
      "text/html": [
       "<table border=\"1\" class=\"dataframe\">\n",
       "    <thead>\n",
       "        <tr>\n",
       "            <th>Cafe</th> <th>Drink</th> <th>Size</th> <th>Price ($)</th> <th>Coupon</th>\n",
       "        </tr>\n",
       "    </thead>\n",
       "    <tbody>\n",
       "        <tr>\n",
       "            <td>Asha</td> <td>Milk Tea</td> <td>Medium</td> <td>5.5      </td> <td>0.05  </td>\n",
       "        </tr>\n",
       "        <tr>\n",
       "            <td>Asha</td> <td>Milk Tea</td> <td>Medium</td> <td>5.5      </td> <td>0.1   </td>\n",
       "        </tr>\n",
       "        <tr>\n",
       "            <td>Asha</td> <td>Milk Tea</td> <td>Medium</td> <td>5.5      </td> <td>0.15  </td>\n",
       "        </tr>\n",
       "        <tr>\n",
       "            <td>Asha</td> <td>Milk Tea</td> <td>Medium</td> <td>5.5      </td> <td>0.25  </td>\n",
       "        </tr>\n",
       "        <tr>\n",
       "            <td>Asha</td> <td>Tea     </td> <td>Medium</td> <td>2.5      </td> <td>0.05  </td>\n",
       "        </tr>\n",
       "        <tr>\n",
       "            <td>Asha</td> <td>Tea     </td> <td>Medium</td> <td>2.5      </td> <td>0.1   </td>\n",
       "        </tr>\n",
       "        <tr>\n",
       "            <td>Asha</td> <td>Tea     </td> <td>Medium</td> <td>2.5      </td> <td>0.15  </td>\n",
       "        </tr>\n",
       "        <tr>\n",
       "            <td>Asha</td> <td>Tea     </td> <td>Medium</td> <td>2.5      </td> <td>0.25  </td>\n",
       "        </tr>\n",
       "        <tr>\n",
       "            <td>Asha</td> <td>Espresso</td> <td>Medium</td> <td>3        </td> <td>0.05  </td>\n",
       "        </tr>\n",
       "        <tr>\n",
       "            <td>Asha</td> <td>Espresso</td> <td>Medium</td> <td>3        </td> <td>0.1   </td>\n",
       "        </tr>\n",
       "    </tbody>\n",
       "</table>\n",
       "<p>... (46 rows omitted)</p>"
      ],
      "text/plain": [
       "Cafe | Drink    | Size   | Price ($) | Coupon\n",
       "Asha | Milk Tea | Medium | 5.5       | 0.05\n",
       "Asha | Milk Tea | Medium | 5.5       | 0.1\n",
       "Asha | Milk Tea | Medium | 5.5       | 0.15\n",
       "Asha | Milk Tea | Medium | 5.5       | 0.25\n",
       "Asha | Tea      | Medium | 2.5       | 0.05\n",
       "Asha | Tea      | Medium | 2.5       | 0.1\n",
       "Asha | Tea      | Medium | 2.5       | 0.15\n",
       "Asha | Tea      | Medium | 2.5       | 0.25\n",
       "Asha | Espresso | Medium | 3         | 0.05\n",
       "Asha | Espresso | Medium | 3         | 0.1\n",
       "... (46 rows omitted)"
      ]
     },
     "execution_count": 9,
     "metadata": {},
     "output_type": "execute_result"
    }
   ],
   "source": [
    "combined = asha_drinks.join('Cafe', asha_discounts,'Location')\n",
    "combined"
   ]
  },
  {
   "cell_type": "code",
   "execution_count": null,
   "id": "4136b4ce",
   "metadata": {},
   "outputs": [],
   "source": []
  },
  {
   "cell_type": "code",
   "execution_count": null,
   "id": "67edc8df",
   "metadata": {},
   "outputs": [],
   "source": []
  },
  {
   "cell_type": "markdown",
   "id": "916c443b",
   "metadata": {},
   "source": [
    "#### (4) Calculate and append\n",
    "Once we successfully join the table, then, we caluclate the number of people in poverty in a given country/year by multiplying the columns containing population and poverty and then appending that column to the table. "
   ]
  },
  {
   "cell_type": "code",
   "execution_count": 10,
   "id": "f5e8c946",
   "metadata": {},
   "outputs": [
    {
     "data": {
      "text/plain": [
       "array([ 0.275 ,  0.55  ,  0.825 ,  1.375 ,  0.125 ,  0.25  ,  0.375 ,\n",
       "        0.625 ,  0.15  ,  0.3   ,  0.45  ,  0.75  ,  0.2375,  0.475 ,\n",
       "        0.7125,  1.1875,  0.2125,  0.425 ,  0.6375,  1.0625,  0.3   ,\n",
       "        0.6   ,  0.9   ,  1.5   ,  0.175 ,  0.35  ,  0.525 ,  0.875 ,\n",
       "        0.35  ,  0.7   ,  1.05  ,  1.75  ,  0.2   ,  0.4   ,  0.6   ,\n",
       "        1.    ,  0.225 ,  0.45  ,  0.675 ,  1.125 ,  0.3125,  0.625 ,\n",
       "        0.9375,  1.5625,  0.2875,  0.575 ,  0.8625,  1.4375,  0.375 ,\n",
       "        0.75  ,  1.125 ,  1.875 ,  0.25  ,  0.5   ,  0.75  ,  1.25  ])"
      ]
     },
     "execution_count": 10,
     "metadata": {},
     "output_type": "execute_result"
    }
   ],
   "source": [
    "discount_prices = combined.column('Price ($)') * combined.column('Coupon')\n",
    "discount_prices"
   ]
  },
  {
   "cell_type": "code",
   "execution_count": 11,
   "id": "1c82d303",
   "metadata": {},
   "outputs": [
    {
     "data": {
      "text/html": [
       "<table border=\"1\" class=\"dataframe\">\n",
       "    <thead>\n",
       "        <tr>\n",
       "            <th>Cafe</th> <th>Drink</th> <th>Size</th> <th>Price ($)</th> <th>Coupon</th> <th>Discount ($ off)</th>\n",
       "        </tr>\n",
       "    </thead>\n",
       "    <tbody>\n",
       "        <tr>\n",
       "            <td>Asha</td> <td>Milk Tea</td> <td>Medium</td> <td>5.5      </td> <td>0.05  </td> <td>0.275           </td>\n",
       "        </tr>\n",
       "        <tr>\n",
       "            <td>Asha</td> <td>Milk Tea</td> <td>Medium</td> <td>5.5      </td> <td>0.1   </td> <td>0.55            </td>\n",
       "        </tr>\n",
       "        <tr>\n",
       "            <td>Asha</td> <td>Milk Tea</td> <td>Medium</td> <td>5.5      </td> <td>0.15  </td> <td>0.825           </td>\n",
       "        </tr>\n",
       "        <tr>\n",
       "            <td>Asha</td> <td>Milk Tea</td> <td>Medium</td> <td>5.5      </td> <td>0.25  </td> <td>1.375           </td>\n",
       "        </tr>\n",
       "        <tr>\n",
       "            <td>Asha</td> <td>Tea     </td> <td>Medium</td> <td>2.5      </td> <td>0.05  </td> <td>0.125           </td>\n",
       "        </tr>\n",
       "        <tr>\n",
       "            <td>Asha</td> <td>Tea     </td> <td>Medium</td> <td>2.5      </td> <td>0.1   </td> <td>0.25            </td>\n",
       "        </tr>\n",
       "        <tr>\n",
       "            <td>Asha</td> <td>Tea     </td> <td>Medium</td> <td>2.5      </td> <td>0.15  </td> <td>0.375           </td>\n",
       "        </tr>\n",
       "        <tr>\n",
       "            <td>Asha</td> <td>Tea     </td> <td>Medium</td> <td>2.5      </td> <td>0.25  </td> <td>0.625           </td>\n",
       "        </tr>\n",
       "        <tr>\n",
       "            <td>Asha</td> <td>Espresso</td> <td>Medium</td> <td>3        </td> <td>0.05  </td> <td>0.15            </td>\n",
       "        </tr>\n",
       "        <tr>\n",
       "            <td>Asha</td> <td>Espresso</td> <td>Medium</td> <td>3        </td> <td>0.1   </td> <td>0.3             </td>\n",
       "        </tr>\n",
       "    </tbody>\n",
       "</table>\n",
       "<p>... (46 rows omitted)</p>"
      ],
      "text/plain": [
       "Cafe | Drink    | Size   | Price ($) | Coupon | Discount ($ off)\n",
       "Asha | Milk Tea | Medium | 5.5       | 0.05   | 0.275\n",
       "Asha | Milk Tea | Medium | 5.5       | 0.1    | 0.55\n",
       "Asha | Milk Tea | Medium | 5.5       | 0.15   | 0.825\n",
       "Asha | Milk Tea | Medium | 5.5       | 0.25   | 1.375\n",
       "Asha | Tea      | Medium | 2.5       | 0.05   | 0.125\n",
       "Asha | Tea      | Medium | 2.5       | 0.1    | 0.25\n",
       "Asha | Tea      | Medium | 2.5       | 0.15   | 0.375\n",
       "Asha | Tea      | Medium | 2.5       | 0.25   | 0.625\n",
       "Asha | Espresso | Medium | 3         | 0.05   | 0.15\n",
       "Asha | Espresso | Medium | 3         | 0.1    | 0.3\n",
       "... (46 rows omitted)"
      ]
     },
     "execution_count": 11,
     "metadata": {},
     "output_type": "execute_result"
    }
   ],
   "source": [
    "combined.with_column('Discount ($ off)',discount_prices)"
   ]
  },
  {
   "cell_type": "code",
   "execution_count": null,
   "id": "358d2254",
   "metadata": {},
   "outputs": [],
   "source": []
  },
  {
   "cell_type": "markdown",
   "id": "74965b85",
   "metadata": {},
   "source": [
    "# Accessing Rows of our data"
   ]
  },
  {
   "cell_type": "code",
   "execution_count": 13,
   "id": "234a26f5",
   "metadata": {
    "scrolled": false
   },
   "outputs": [
    {
     "data": {
      "text/html": [
       "<table border=\"1\" class=\"dataframe\">\n",
       "    <thead>\n",
       "        <tr>\n",
       "            <th>Surveyor</th> <th>GPA</th> <th>Introversion/Extraversion</th> <th>Pets</th> <th>Campus_Commute</th> <th>Handed</th> <th>Sleep</th> <th>Num_Units</th> <th>Favorite_Show</th> <th>Time_Off</th> <th>pastime/hobby</th> <th>Motivation</th> <th>Num_Siblings</th> <th>Wish_Siblings</th>\n",
       "        </tr>\n",
       "    </thead>\n",
       "    <tbody>\n",
       "        <tr>\n",
       "            <td>Samantha</td> <td>3.77</td> <td>6                        </td> <td>Reptiles, Rodents</td> <td>Car, Walk     </td> <td>Left-handed</td> <td>On my side</td> <td>13       </td> <td>HunterxHunter</td> <td>Travel  </td> <td>Bowling      </td> <td>God â˜ðŸ½</td> <td>3           </td> <td>0            </td>\n",
       "        </tr>\n",
       "    </tbody>\n",
       "</table>\n",
       "<p>... (156 rows omitted)</p>"
      ],
      "text/plain": [
       "<IPython.core.display.HTML object>"
      ]
     },
     "metadata": {},
     "output_type": "display_data"
    }
   ],
   "source": [
    "math211_survey.show(1) # show me the first row of the table"
   ]
  },
  {
   "cell_type": "code",
   "execution_count": 15,
   "id": "783b5878",
   "metadata": {
    "scrolled": false
   },
   "outputs": [
    {
     "data": {
      "text/plain": [
       "Row(Surveyor='Samantha', GPA=3.77, Introversion/Extraversion=6, Pets='Reptiles, Rodents', Campus_Commute='Car, Walk', Handed='Left-handed', Sleep='On my side', Num_Units=13.0, Favorite_Show='HunterxHunter', Time_Off='Travel', pastime/hobby='Bowling', Motivation='God â˜\\x9dðŸ\\x8f½', Num_Siblings=3, Wish_Siblings=0)"
      ]
     },
     "execution_count": 15,
     "metadata": {},
     "output_type": "execute_result"
    }
   ],
   "source": [
    "first_row = math211_survey.row(0) # retrive the first row of the table, as an array\n",
    "first_row"
   ]
  },
  {
   "cell_type": "code",
   "execution_count": 19,
   "id": "801dcd18",
   "metadata": {},
   "outputs": [
    {
     "data": {
      "text/plain": [
       "'HunterxHunter'"
      ]
     },
     "execution_count": 19,
     "metadata": {},
     "output_type": "execute_result"
    }
   ],
   "source": [
    "first_row.item('Favorite_Show')"
   ]
  },
  {
   "cell_type": "code",
   "execution_count": 20,
   "id": "de07e423",
   "metadata": {},
   "outputs": [
    {
     "data": {
      "text/plain": [
       "'Travel'"
      ]
     },
     "execution_count": 20,
     "metadata": {},
     "output_type": "execute_result"
    }
   ],
   "source": [
    "first_row.item(9)"
   ]
  },
  {
   "cell_type": "markdown",
   "id": "4feb57b8",
   "metadata": {},
   "source": [
    "# Applying a function across the entire row"
   ]
  },
  {
   "cell_type": "code",
   "execution_count": 26,
   "id": "8b6d483c",
   "metadata": {},
   "outputs": [
    {
     "ename": "TypeError",
     "evalue": "unsupported operand type(s) for +: 'int' and 'numpy.str_'",
     "output_type": "error",
     "traceback": [
      "\u001b[0;31m---------------------------------------------------------------------------\u001b[0m",
      "\u001b[0;31mTypeError\u001b[0m                                 Traceback (most recent call last)",
      "Cell \u001b[0;32mIn[26], line 1\u001b[0m\n\u001b[0;32m----> 1\u001b[0m \u001b[43mmath211_survey\u001b[49m\u001b[38;5;241;43m.\u001b[39;49m\u001b[43mapply\u001b[49m\u001b[43m(\u001b[49m\u001b[38;5;28;43msum\u001b[39;49m\u001b[43m)\u001b[49m \u001b[38;5;66;03m# this does not work BECAUSE some columns have strings in them\u001b[39;00m\n",
      "File \u001b[0;32m/opt/conda/lib/python3.10/site-packages/datascience/tables.py:550\u001b[0m, in \u001b[0;36mTable.apply\u001b[0;34m(self, fn, *column_or_columns)\u001b[0m\n\u001b[1;32m    500\u001b[0m \u001b[38;5;250m\u001b[39m\u001b[38;5;124;03m\"\"\"Apply ``fn`` to each element or elements of ``column_or_columns``.\u001b[39;00m\n\u001b[1;32m    501\u001b[0m \u001b[38;5;124;03mIf no ``column_or_columns`` provided, `fn`` is applied to each row.\u001b[39;00m\n\u001b[1;32m    502\u001b[0m \n\u001b[0;32m   (...)\u001b[0m\n\u001b[1;32m    547\u001b[0m \u001b[38;5;124;03marray([18,  6,  6,  2])\u001b[39;00m\n\u001b[1;32m    548\u001b[0m \u001b[38;5;124;03m\"\"\"\u001b[39;00m\n\u001b[1;32m    549\u001b[0m \u001b[38;5;28;01mif\u001b[39;00m \u001b[38;5;129;01mnot\u001b[39;00m column_or_columns:\n\u001b[0;32m--> 550\u001b[0m     \u001b[38;5;28;01mreturn\u001b[39;00m np\u001b[38;5;241m.\u001b[39marray([fn(row) \u001b[38;5;28;01mfor\u001b[39;00m row \u001b[38;5;129;01min\u001b[39;00m \u001b[38;5;28mself\u001b[39m\u001b[38;5;241m.\u001b[39mrows])\n\u001b[1;32m    551\u001b[0m \u001b[38;5;28;01melse\u001b[39;00m:\n\u001b[1;32m    552\u001b[0m     \u001b[38;5;28;01mif\u001b[39;00m \u001b[38;5;28mlen\u001b[39m(column_or_columns) \u001b[38;5;241m==\u001b[39m \u001b[38;5;241m1\u001b[39m \u001b[38;5;129;01mand\u001b[39;00m \\\n\u001b[1;32m    553\u001b[0m             _util\u001b[38;5;241m.\u001b[39mis_non_string_iterable(column_or_columns[\u001b[38;5;241m0\u001b[39m]):\n",
      "File \u001b[0;32m/opt/conda/lib/python3.10/site-packages/datascience/tables.py:550\u001b[0m, in \u001b[0;36m<listcomp>\u001b[0;34m(.0)\u001b[0m\n\u001b[1;32m    500\u001b[0m \u001b[38;5;250m\u001b[39m\u001b[38;5;124;03m\"\"\"Apply ``fn`` to each element or elements of ``column_or_columns``.\u001b[39;00m\n\u001b[1;32m    501\u001b[0m \u001b[38;5;124;03mIf no ``column_or_columns`` provided, `fn`` is applied to each row.\u001b[39;00m\n\u001b[1;32m    502\u001b[0m \n\u001b[0;32m   (...)\u001b[0m\n\u001b[1;32m    547\u001b[0m \u001b[38;5;124;03marray([18,  6,  6,  2])\u001b[39;00m\n\u001b[1;32m    548\u001b[0m \u001b[38;5;124;03m\"\"\"\u001b[39;00m\n\u001b[1;32m    549\u001b[0m \u001b[38;5;28;01mif\u001b[39;00m \u001b[38;5;129;01mnot\u001b[39;00m column_or_columns:\n\u001b[0;32m--> 550\u001b[0m     \u001b[38;5;28;01mreturn\u001b[39;00m np\u001b[38;5;241m.\u001b[39marray([\u001b[43mfn\u001b[49m\u001b[43m(\u001b[49m\u001b[43mrow\u001b[49m\u001b[43m)\u001b[49m \u001b[38;5;28;01mfor\u001b[39;00m row \u001b[38;5;129;01min\u001b[39;00m \u001b[38;5;28mself\u001b[39m\u001b[38;5;241m.\u001b[39mrows])\n\u001b[1;32m    551\u001b[0m \u001b[38;5;28;01melse\u001b[39;00m:\n\u001b[1;32m    552\u001b[0m     \u001b[38;5;28;01mif\u001b[39;00m \u001b[38;5;28mlen\u001b[39m(column_or_columns) \u001b[38;5;241m==\u001b[39m \u001b[38;5;241m1\u001b[39m \u001b[38;5;129;01mand\u001b[39;00m \\\n\u001b[1;32m    553\u001b[0m             _util\u001b[38;5;241m.\u001b[39mis_non_string_iterable(column_or_columns[\u001b[38;5;241m0\u001b[39m]):\n",
      "\u001b[0;31mTypeError\u001b[0m: unsupported operand type(s) for +: 'int' and 'numpy.str_'"
     ]
    }
   ],
   "source": [
    "math211_survey.apply(sum) # this does not work BECAUSE some columns have strings in them"
   ]
  },
  {
   "cell_type": "code",
   "execution_count": 24,
   "id": "f7acb023",
   "metadata": {},
   "outputs": [
    {
     "data": {
      "text/plain": [
       "array([ 22.77 ,  20.   ,  19.4  ,  10.5  ,  22.   ,  14.   ,  23.9  ,\n",
       "        22.   ,  27.72 ,  12.5  ,  22.   ,  24.4  ,  23.8  ,  21.5  ,\n",
       "        22.   ,  11.   ,  19.   ,  22.1  ,  22.9  ,  25.7  ,  21.57 ,\n",
       "        14.2  ,  27.5  ,  19.   ,  21.2  ,  25.8  ,  15.2  ,  26.   ,\n",
       "        24.   ,  26.88 ,  29.1  ,  14.   ,  18.85 ,  18.   ,  13.   ,\n",
       "        23.   ,  21.   ,  15.3  ,  11.1  ,  17.9  ,  22.9  ,  25.83 ,\n",
       "         9.   ,  22.59 ,  28.7  ,  21.9  ,  26.81 ,  18.5  ,  26.5  ,\n",
       "        26.6  ,  20.75 ,  22.6  ,  23.1  ,  22.4  ,  18.84 ,  14.85 ,\n",
       "        30.98 ,  19.2  ,  29.   ,  27.5  ,  22.7  ,  30.   ,  16.4  ,\n",
       "        19.   ,  22.2  ,   7.6  ,  20.66 ,   9.3  ,  22.2  ,  16.2  ,\n",
       "        22.   ,  21.   ,  18.7  ,  22.6  ,  23.8  ,  26.   ,  14.67 ,\n",
       "        26.92 ,  23.8  ,  19.6  ,  24.7  ,  21.79 ,  29.5  ,  15.   ,\n",
       "        22.84 ,  25.95 ,  19.5  ,  24.9  ,  20.   ,  20.5  ,  12.6  ,\n",
       "        20.01 ,  26.8  ,  20.7  ,  20.7  ,   8.2  ,  22.5  ,  16.   ,\n",
       "        27.   ,  25.1  ,  11.11 ,  25.   ,  22.5  ,  25.8  ,  17.9  ,\n",
       "        30.6  ,  10.   ,  13.2  ,  49.6  ,  27.5  ,  32.   ,  17.7  ,\n",
       "        29.8  ,   9.2  ,  13.   ,  25.9  ,  20.2  ,  18.5  ,  23.5  ,\n",
       "        23.5  ,  21.8  ,  24.8  ,  23.   ,  20.4  ,  18.7  ,  22.7  ,\n",
       "        23.76 ,  26.7  ,  29.02 ,  24.7  ,  27.99 ,  23.17 ,   9.8  ,\n",
       "        26.28 ,  18.1  ,  17.3  ,  19.   ,  21.2  ,  28.   ,  26.2  ,\n",
       "        15.91 ,  17.   ,  22.667,  26.7  ,  23.5  ,  16.   ,  22.94 ,\n",
       "        23.   ,  23.8  ,  18.   ,  22.16 ,  19.4  ,  12.5  ,  23.8  ,\n",
       "        22.839,  28.2  ,  14.86 ])"
      ]
     },
     "execution_count": 24,
     "metadata": {},
     "output_type": "execute_result"
    }
   ],
   "source": [
    "math211_survey.select('GPA','Introversion/Extraversion', 'Num_Units').apply(sum)\n",
    "#now it works because we selected columns with ONLY NUMBERS"
   ]
  },
  {
   "cell_type": "code",
   "execution_count": 22,
   "id": "4e2215ae",
   "metadata": {},
   "outputs": [
    {
     "ename": "TypeError",
     "evalue": "unsupported operand type(s) for +: 'int' and 'numpy.str_'",
     "output_type": "error",
     "traceback": [
      "\u001b[0;31m---------------------------------------------------------------------------\u001b[0m",
      "\u001b[0;31mTypeError\u001b[0m                                 Traceback (most recent call last)",
      "Cell \u001b[0;32mIn[22], line 1\u001b[0m\n\u001b[0;32m----> 1\u001b[0m \u001b[38;5;28;43msum\u001b[39;49m\u001b[43m(\u001b[49m\u001b[43mfirst_row\u001b[49m\u001b[43m)\u001b[49m\n",
      "\u001b[0;31mTypeError\u001b[0m: unsupported operand type(s) for +: 'int' and 'numpy.str_'"
     ]
    }
   ],
   "source": [
    "sum(first_row)"
   ]
  },
  {
   "cell_type": "code",
   "execution_count": 27,
   "id": "c9e3f026",
   "metadata": {},
   "outputs": [
    {
     "data": {
      "text/plain": [
       "22.77"
      ]
     },
     "execution_count": 27,
     "metadata": {},
     "output_type": "execute_result"
    }
   ],
   "source": [
    "sum(math211_survey.select('GPA','Introversion/Extraversion', 'Num_Units').row(0))"
   ]
  },
  {
   "cell_type": "markdown",
   "id": "1b1ff86d",
   "metadata": {},
   "source": [
    "# Comparison Statements\n",
    "\n",
    "### Assignments vs. Comparisons"
   ]
  },
  {
   "cell_type": "code",
   "execution_count": 28,
   "id": "e7a68561",
   "metadata": {},
   "outputs": [
    {
     "data": {
      "text/plain": [
       "7"
      ]
     },
     "execution_count": 28,
     "metadata": {},
     "output_type": "execute_result"
    }
   ],
   "source": [
    "this_variable = 7 #assignment line \n",
    "this_variable"
   ]
  },
  {
   "cell_type": "code",
   "execution_count": 29,
   "id": "641525ce",
   "metadata": {},
   "outputs": [
    {
     "data": {
      "text/plain": [
       "True"
      ]
     },
     "execution_count": 29,
     "metadata": {},
     "output_type": "execute_result"
    }
   ],
   "source": [
    "this_variable == 7"
   ]
  },
  {
   "cell_type": "code",
   "execution_count": 30,
   "id": "9b8c82d5",
   "metadata": {},
   "outputs": [
    {
     "data": {
      "text/plain": [
       "False"
      ]
     },
     "execution_count": 30,
     "metadata": {},
     "output_type": "execute_result"
    }
   ],
   "source": [
    "this_variable == 6"
   ]
  },
  {
   "cell_type": "code",
   "execution_count": 31,
   "id": "99f65dda",
   "metadata": {},
   "outputs": [
    {
     "data": {
      "text/plain": [
       "6"
      ]
     },
     "execution_count": 31,
     "metadata": {},
     "output_type": "execute_result"
    }
   ],
   "source": [
    "this_variable = 6 \n",
    "this_variable"
   ]
  },
  {
   "cell_type": "code",
   "execution_count": 32,
   "id": "da6247aa",
   "metadata": {},
   "outputs": [
    {
     "data": {
      "text/plain": [
       "(True, False)"
      ]
     },
     "execution_count": 32,
     "metadata": {},
     "output_type": "execute_result"
    }
   ],
   "source": [
    "this_variable == 6, this_variable == 7 "
   ]
  },
  {
   "cell_type": "code",
   "execution_count": 33,
   "id": "ec918b09",
   "metadata": {},
   "outputs": [
    {
     "data": {
      "text/plain": [
       "True"
      ]
     },
     "execution_count": 33,
     "metadata": {},
     "output_type": "execute_result"
    }
   ],
   "source": [
    "this_variable >1"
   ]
  },
  {
   "cell_type": "code",
   "execution_count": 34,
   "id": "d3165ee4",
   "metadata": {},
   "outputs": [
    {
     "data": {
      "text/plain": [
       "True"
      ]
     },
     "execution_count": 34,
     "metadata": {},
     "output_type": "execute_result"
    }
   ],
   "source": [
    "this_variable != 5"
   ]
  },
  {
   "cell_type": "code",
   "execution_count": 35,
   "id": "df681f12",
   "metadata": {},
   "outputs": [
    {
     "data": {
      "text/plain": [
       "True"
      ]
     },
     "execution_count": 35,
     "metadata": {},
     "output_type": "execute_result"
    }
   ],
   "source": [
    "2 < this_variable <50"
   ]
  },
  {
   "cell_type": "code",
   "execution_count": 36,
   "id": "6c074196",
   "metadata": {},
   "outputs": [
    {
     "data": {
      "text/plain": [
       "True"
      ]
     },
     "execution_count": 36,
     "metadata": {},
     "output_type": "execute_result"
    }
   ],
   "source": [
    "is_this_variable_between = (2 < this_variable <50)\n",
    "is_this_variable_between"
   ]
  },
  {
   "cell_type": "markdown",
   "id": "86532b6d",
   "metadata": {},
   "source": [
    "### Aggregating Comparisons"
   ]
  },
  {
   "cell_type": "code",
   "execution_count": 37,
   "id": "77790a98",
   "metadata": {},
   "outputs": [],
   "source": [
    "this_array = make_array(1, 2, 4, 8, 16, 32, 64, 67)"
   ]
  },
  {
   "cell_type": "code",
   "execution_count": 38,
   "id": "a653f154",
   "metadata": {},
   "outputs": [
    {
     "data": {
      "text/plain": [
       "array([False, False, False, False, False,  True,  True,  True], dtype=bool)"
      ]
     },
     "execution_count": 38,
     "metadata": {},
     "output_type": "execute_result"
    }
   ],
   "source": [
    "this_array > 20"
   ]
  },
  {
   "cell_type": "code",
   "execution_count": 39,
   "id": "97b20a92",
   "metadata": {},
   "outputs": [
    {
     "data": {
      "text/plain": [
       "array([1, 0, 0, 0, 0, 0, 0, 1])"
      ]
     },
     "execution_count": 39,
     "metadata": {},
     "output_type": "execute_result"
    }
   ],
   "source": [
    "this_array % 2 # this is a way we can check if a number is divisible by 2"
   ]
  },
  {
   "cell_type": "code",
   "execution_count": 41,
   "id": "cc68fe2a",
   "metadata": {},
   "outputs": [
    {
     "data": {
      "text/plain": [
       "3"
      ]
     },
     "execution_count": 41,
     "metadata": {},
     "output_type": "execute_result"
    }
   ],
   "source": [
    "sum(this_array>20)"
   ]
  },
  {
   "cell_type": "markdown",
   "id": "1c085ddb",
   "metadata": {},
   "source": [
    "# Control Statements"
   ]
  },
  {
   "cell_type": "code",
   "execution_count": 42,
   "id": "506959fd",
   "metadata": {},
   "outputs": [],
   "source": [
    "x = 20\n",
    "s = 'You are 20'"
   ]
  },
  {
   "cell_type": "code",
   "execution_count": 43,
   "id": "6e416344",
   "metadata": {},
   "outputs": [
    {
     "data": {
      "text/plain": [
       "'You are 20'"
      ]
     },
     "execution_count": 43,
     "metadata": {},
     "output_type": "execute_result"
    }
   ],
   "source": [
    "if x >= 21:\n",
    "    s = 'You may enter this bar/nightclub'\n",
    "s"
   ]
  },
  {
   "cell_type": "code",
   "execution_count": 44,
   "id": "a2b9719e",
   "metadata": {},
   "outputs": [
    {
     "data": {
      "text/plain": [
       "'You can legally vote'"
      ]
     },
     "execution_count": 44,
     "metadata": {},
     "output_type": "execute_result"
    }
   ],
   "source": [
    "if x >= 18:\n",
    "    s = 'You can legally vote'\n",
    "s"
   ]
  },
  {
   "cell_type": "markdown",
   "id": "5a49c079",
   "metadata": {},
   "source": [
    "### Combining Control Statements"
   ]
  },
  {
   "cell_type": "code",
   "execution_count": 55,
   "id": "f7ad0352",
   "metadata": {},
   "outputs": [
    {
     "data": {
      "text/plain": [
       "'Full-Time'"
      ]
     },
     "execution_count": 55,
     "metadata": {},
     "output_type": "execute_result"
    }
   ],
   "source": [
    "#determining our students as 'Full-Time', 'Part-Time', and 'Less Than Part Time'\n",
    "# we look at the Number of units to determine this classification\\\n",
    "\n",
    "num_units = 24\n",
    "classification = ''\n",
    "\n",
    "if num_units >= 12:\n",
    "    classification = 'Full-Time'\n",
    "elif num_units >= 6:\n",
    "    classification = 'Part-Time'\n",
    "else:\n",
    "    classification = 'Less Than Part Time'\n",
    "\n",
    "\n",
    "classification"
   ]
  },
  {
   "cell_type": "code",
   "execution_count": 57,
   "id": "62ac552c",
   "metadata": {},
   "outputs": [],
   "source": [
    "def full_time_part_time(num_units):\n",
    "    if num_units >= 12:\n",
    "        classification = 'Full-Time'\n",
    "    elif num_units >= 6:\n",
    "        classification = 'Part-Time'\n",
    "    else:                                 # If the above two statements are both false\n",
    "        classification = 'Less Than Part Time'\n",
    "    return classification\n",
    "    "
   ]
  },
  {
   "cell_type": "code",
   "execution_count": 58,
   "id": "253aaf6d",
   "metadata": {},
   "outputs": [
    {
     "data": {
      "text/plain": [
       "array(['Full-Time', 'Full-Time', 'Full-Time', 'Less Than Part Time',\n",
       "       'Full-Time', 'Part-Time', 'Full-Time', 'Full-Time', 'Full-Time',\n",
       "       'Less Than Part Time', 'Full-Time', 'Full-Time', 'Full-Time',\n",
       "       'Part-Time', 'Full-Time', 'Less Than Part Time', 'Full-Time',\n",
       "       'Full-Time', 'Full-Time', 'Full-Time', 'Full-Time',\n",
       "       'Less Than Part Time', 'Full-Time', 'Full-Time', 'Full-Time',\n",
       "       'Full-Time', 'Less Than Part Time', 'Full-Time', 'Full-Time',\n",
       "       'Full-Time', 'Full-Time', 'Less Than Part Time', 'Full-Time',\n",
       "       'Full-Time', 'Part-Time', 'Full-Time', 'Full-Time',\n",
       "       'Less Than Part Time', 'Less Than Part Time', 'Part-Time',\n",
       "       'Full-Time', 'Full-Time', 'Less Than Part Time', 'Full-Time',\n",
       "       'Full-Time', 'Full-Time', 'Full-Time', 'Part-Time', 'Full-Time',\n",
       "       'Full-Time', 'Full-Time', 'Full-Time', 'Full-Time', 'Full-Time',\n",
       "       'Full-Time', 'Less Than Part Time', 'Full-Time', 'Part-Time',\n",
       "       'Full-Time', 'Full-Time', 'Full-Time', 'Full-Time', 'Part-Time',\n",
       "       'Full-Time', 'Full-Time', 'Less Than Part Time', 'Full-Time',\n",
       "       'Less Than Part Time', 'Full-Time', 'Full-Time', 'Full-Time',\n",
       "       'Full-Time', 'Part-Time', 'Full-Time', 'Full-Time', 'Full-Time',\n",
       "       'Part-Time', 'Full-Time', 'Full-Time', 'Part-Time', 'Full-Time',\n",
       "       'Full-Time', 'Full-Time', 'Part-Time', 'Part-Time', 'Full-Time',\n",
       "       'Full-Time', 'Full-Time', 'Part-Time', 'Full-Time', 'Part-Time',\n",
       "       'Part-Time', 'Full-Time', 'Full-Time', 'Full-Time',\n",
       "       'Less Than Part Time', 'Full-Time', 'Less Than Part Time',\n",
       "       'Full-Time', 'Full-Time', 'Less Than Part Time', 'Full-Time',\n",
       "       'Full-Time', 'Full-Time', 'Part-Time', 'Full-Time',\n",
       "       'Less Than Part Time', 'Part-Time', 'Full-Time', 'Full-Time',\n",
       "       'Full-Time', 'Part-Time', 'Full-Time', 'Less Than Part Time',\n",
       "       'Less Than Part Time', 'Full-Time', 'Part-Time', 'Part-Time',\n",
       "       'Full-Time', 'Full-Time', 'Full-Time', 'Full-Time', 'Full-Time',\n",
       "       'Full-Time', 'Part-Time', 'Full-Time', 'Full-Time', 'Full-Time',\n",
       "       'Full-Time', 'Full-Time', 'Full-Time', 'Full-Time',\n",
       "       'Less Than Part Time', 'Full-Time', 'Part-Time', 'Part-Time',\n",
       "       'Full-Time', 'Full-Time', 'Full-Time', 'Full-Time', 'Part-Time',\n",
       "       'Part-Time', 'Part-Time', 'Full-Time', 'Full-Time', 'Part-Time',\n",
       "       'Full-Time', 'Full-Time', 'Full-Time', 'Part-Time', 'Part-Time',\n",
       "       'Part-Time', 'Less Than Part Time', 'Full-Time', 'Full-Time',\n",
       "       'Full-Time', 'Part-Time'],\n",
       "      dtype='<U19')"
      ]
     },
     "execution_count": 58,
     "metadata": {},
     "output_type": "execute_result"
    }
   ],
   "source": [
    "math211_survey.apply(full_time_part_time,'Num_Units')"
   ]
  },
  {
   "cell_type": "code",
   "execution_count": 59,
   "id": "33d03421",
   "metadata": {},
   "outputs": [
    {
     "data": {
      "text/html": [
       "<table border=\"1\" class=\"dataframe\">\n",
       "    <thead>\n",
       "        <tr>\n",
       "            <th>Surveyor</th> <th>GPA</th> <th>Introversion/Extraversion</th> <th>Pets</th> <th>Campus_Commute</th> <th>Handed</th> <th>Sleep</th> <th>Num_Units</th> <th>Favorite_Show</th> <th>Time_Off</th> <th>pastime/hobby</th> <th>Motivation</th> <th>Num_Siblings</th> <th>Wish_Siblings</th> <th>Classification</th>\n",
       "        </tr>\n",
       "    </thead>\n",
       "    <tbody>\n",
       "        <tr>\n",
       "            <td>Samantha       </td> <td>3.77</td> <td>6                        </td> <td>Reptiles, Rodents</td> <td>Car, Walk     </td> <td>Left-handed </td> <td>On my side               </td> <td>13       </td> <td>HunterxHunter                            </td> <td>Travel                                                     </td> <td>Bowling                                           </td> <td>God â˜ðŸ½                          </td> <td>3           </td> <td>0            </td> <td>Full-Time          </td>\n",
       "        </tr>\n",
       "        <tr>\n",
       "            <td>Samantha       </td> <td>3   </td> <td>5                        </td> <td>nan              </td> <td>Car           </td> <td>Right-handed</td> <td>On my side               </td> <td>12       </td> <td>One Piece                                </td> <td>Travel all around Asia                                     </td> <td>Driving                                           </td> <td> Family                              </td> <td>3           </td> <td>3            </td> <td>Full-Time          </td>\n",
       "        </tr>\n",
       "        <tr>\n",
       "            <td>Samantha       </td> <td>3.4 </td> <td>4                        </td> <td>Dogs             </td> <td>Bus           </td> <td>Right-handed</td> <td>On my side               </td> <td>12       </td> <td>My Wife and Kids                         </td> <td>Rest                                                       </td> <td>Watching TV                                       </td> <td>Money                                </td> <td>2           </td> <td>1            </td> <td>Full-Time          </td>\n",
       "        </tr>\n",
       "        <tr>\n",
       "            <td>Samantha       </td> <td>3.5 </td> <td>3                        </td> <td>nan              </td> <td>Car           </td> <td>Right-handed</td> <td>Mountain climber position</td> <td>4        </td> <td>Spy x Family                             </td> <td>Go to Japan                                                </td> <td>I like making tech projects using microcontrollers</td> <td>My dreams in life keeps me motivated.</td> <td>2           </td> <td>0            </td> <td>Less Than Part Time</td>\n",
       "        </tr>\n",
       "        <tr>\n",
       "            <td>Samantha       </td> <td>3   </td> <td>7                        </td> <td>Dogs             </td> <td>Car           </td> <td>Right-handed</td> <td>On my stomach            </td> <td>12       </td> <td>My Hero Academia                         </td> <td>Travel to other countries.                                 </td> <td>Reading                                           </td> <td>My dreams and ambitions              </td> <td>2           </td> <td>3            </td> <td>Full-Time          </td>\n",
       "        </tr>\n",
       "        <tr>\n",
       "            <td>Samantha       </td> <td>3   </td> <td>5                        </td> <td>nan              </td> <td>Car           </td> <td>Left-handed </td> <td>On my stomach            </td> <td>6        </td> <td>Full Metal Alchemist The Dark Brotherhood</td> <td>Regain sleep, hiking/trail walking/exercise, maybe a trip. </td> <td>Video games                                       </td> <td>Helping those I care for.            </td> <td>2           </td> <td>2            </td> <td>Part-Time          </td>\n",
       "        </tr>\n",
       "        <tr>\n",
       "            <td>my best friend </td> <td>2.9 </td> <td>6                        </td> <td>Dogs             </td> <td>Car, Bus, Walk</td> <td>Right-handed</td> <td>On my back               </td> <td>15       </td> <td>Maury                                    </td> <td>go to mexico                                               </td> <td>working out                                       </td> <td>becoming a better version of myself  </td> <td>6           </td> <td>8            </td> <td>Full-Time          </td>\n",
       "        </tr>\n",
       "        <tr>\n",
       "            <td>Samantha       </td> <td>4   </td> <td>5                        </td> <td>Dogs             </td> <td>Car           </td> <td>Right-handed</td> <td>On my side               </td> <td>13       </td> <td>Friends                                  </td> <td>I would go to mexico                                       </td> <td>Doing arts and crafts                             </td> <td>Working hard and being with friends  </td> <td>8           </td> <td>8            </td> <td>Full-Time          </td>\n",
       "        </tr>\n",
       "        <tr>\n",
       "            <td>Samantha       </td> <td>3.72</td> <td>8                        </td> <td>Dogs             </td> <td>Car           </td> <td>Left-handed </td> <td>On my side               </td> <td>16       </td> <td>Baddies West                             </td> <td>Travel                                                     </td> <td>Sitting at the beach                              </td> <td>Money                                </td> <td>2           </td> <td>5            </td> <td>Full-Time          </td>\n",
       "        </tr>\n",
       "        <tr>\n",
       "            <td>Samantha       </td> <td>3.5 </td> <td>5                        </td> <td>nan              </td> <td>Car           </td> <td>Right-handed</td> <td>On my side               </td> <td>4        </td> <td>Your Name                                </td> <td>Travel, relax and have fun.                                </td> <td>Hiking                                            </td> <td>Family                               </td> <td>2           </td> <td>2            </td> <td>Less Than Part Time</td>\n",
       "        </tr>\n",
       "    </tbody>\n",
       "</table>\n",
       "<p>... (147 rows omitted)</p>"
      ],
      "text/plain": [
       "Surveyor        | GPA  | Introversion/Extraversion | Pets              | Campus_Commute | Handed       | Sleep                     | Num_Units | Favorite_Show                             | Time_Off                                                    | pastime/hobby                                      | Motivation                            | Num_Siblings | Wish_Siblings | Classification\n",
       "Samantha        | 3.77 | 6                         | Reptiles, Rodents | Car, Walk      | Left-handed  | On my side                | 13        | HunterxHunter                             | Travel                                                      | Bowling                                            | God â˜ðŸ½                           | 3            | 0             | Full-Time\n",
       "Samantha        | 3    | 5                         | nan               | Car            | Right-handed | On my side                | 12        | One Piece                                 | Travel all around Asia                                      | Driving                                            |  Family                               | 3            | 3             | Full-Time\n",
       "Samantha        | 3.4  | 4                         | Dogs              | Bus            | Right-handed | On my side                | 12        | My Wife and Kids                          | Rest                                                        | Watching TV                                        | Money                                 | 2            | 1             | Full-Time\n",
       "Samantha        | 3.5  | 3                         | nan               | Car            | Right-handed | Mountain climber position | 4         | Spy x Family                              | Go to Japan                                                 | I like making tech projects using microcontrollers | My dreams in life keeps me motivated. | 2            | 0             | Less Than Part Time\n",
       "Samantha        | 3    | 7                         | Dogs              | Car            | Right-handed | On my stomach             | 12        | My Hero Academia                          | Travel to other countries.                                  | Reading                                            | My dreams and ambitions               | 2            | 3             | Full-Time\n",
       "Samantha        | 3    | 5                         | nan               | Car            | Left-handed  | On my stomach             | 6         | Full Metal Alchemist The Dark Brotherhood | Regain sleep, hiking/trail walking/exercise, maybe a trip.  | Video games                                        | Helping those I care for.             | 2            | 2             | Part-Time\n",
       "my best friend  | 2.9  | 6                         | Dogs              | Car, Bus, Walk | Right-handed | On my back                | 15        | Maury                                     | go to mexico                                                | working out                                        | becoming a better version of myself   | 6            | 8             | Full-Time\n",
       "Samantha        | 4    | 5                         | Dogs              | Car            | Right-handed | On my side                | 13        | Friends                                   | I would go to mexico                                        | Doing arts and crafts                              | Working hard and being with friends   | 8            | 8             | Full-Time\n",
       "Samantha        | 3.72 | 8                         | Dogs              | Car            | Left-handed  | On my side                | 16        | Baddies West                              | Travel                                                      | Sitting at the beach                               | Money                                 | 2            | 5             | Full-Time\n",
       "Samantha        | 3.5  | 5                         | nan               | Car            | Right-handed | On my side                | 4         | Your Name                                 | Travel, relax and have fun.                                 | Hiking                                             | Family                                | 2            | 2             | Less Than Part Time\n",
       "... (147 rows omitted)"
      ]
     },
     "execution_count": 59,
     "metadata": {},
     "output_type": "execute_result"
    }
   ],
   "source": [
    "math211_survey.with_column('Classification',math211_survey.apply(full_time_part_time,'Num_Units'))"
   ]
  },
  {
   "cell_type": "code",
   "execution_count": null,
   "id": "a0d1cd31",
   "metadata": {},
   "outputs": [],
   "source": []
  }
 ],
 "metadata": {
  "kernelspec": {
   "display_name": "Python 3 (ipykernel)",
   "language": "python",
   "name": "python3"
  },
  "language_info": {
   "codemirror_mode": {
    "name": "ipython",
    "version": 3
   },
   "file_extension": ".py",
   "mimetype": "text/x-python",
   "name": "python",
   "nbconvert_exporter": "python",
   "pygments_lexer": "ipython3",
   "version": "3.10.11"
  }
 },
 "nbformat": 4,
 "nbformat_minor": 5
}
