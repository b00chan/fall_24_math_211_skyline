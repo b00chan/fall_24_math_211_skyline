{
 "cells": [
  {
   "cell_type": "markdown",
   "id": "ad2e12c1",
   "metadata": {},
   "source": [
    "# [Python Reference Link](http://www.data8.org/sp20/python-reference.html)\n",
    "*Run the cell below so that we can set our modules up*"
   ]
  },
  {
   "cell_type": "code",
   "execution_count": 3,
   "id": "ed49d269",
   "metadata": {},
   "outputs": [],
   "source": [
    "import numpy as np\n",
    "from datascience import *\n",
    "\n",
    "# These lines set up graphing capabilities.\n",
    "import matplotlib\n",
    "%matplotlib inline\n",
    "import matplotlib.pyplot as plt\n",
    "plt.style.use('fivethirtyeight')\n",
    "import warnings\n",
    "warnings.simplefilter('ignore', FutureWarning)\n",
    "\n",
    "from ipywidgets import interact, interactive, fixed, interact_manual\n",
    "import ipywidgets as widgets"
   ]
  },
  {
   "cell_type": "markdown",
   "id": "5b6a4570",
   "metadata": {},
   "source": [
    "# Importing our data"
   ]
  },
  {
   "cell_type": "code",
   "execution_count": null,
   "id": "2569931d",
   "metadata": {},
   "outputs": [],
   "source": [
    "math211_survey = Table.read_table('MATH_211_Survey_Cleaned_GPA.csv')\n",
    "drinks = Table.read_table('drinks.csv')\n",
    "discounts = Table.read_table('discounts.csv')\n",
    "countries = Table.read_table('countries.csv').select('country', 'name', 'world_6region')"
   ]
  },
  {
   "cell_type": "markdown",
   "id": "bf4996d8",
   "metadata": {},
   "source": [
    "# Let's look at a [Demo Request](https://forms.gle/rtF16ch5ABCzM8qn7)\n",
    "\n",
    "For [Project01](https://skyline.cloudbank.2i2c.cloud/hub/user-redirect/git-pull?repo=https%3A%2F%2Fgithub.com%2Fb00chan%2Ffall_24_math_211_skyline&urlpath=tree%2Ffall_24_math_211_skyline%2FProjects%2Fproject1%2Fproject1.ipynb&branch=main): Question 7 from 'Global Poverty' Section:\n",
    "\n",
    "**Question 7.** Now, we'll actually write the function called `poverty_timeline`. Recall that `poverty_timeline` takes **the name of a country** as its argument (not the Alpha-3 country code). It should draw a line plot of the number of people living in poverty in that country with time on the horizontal axis. The line plot should have a point for each row in the `poverty` table for that country. To compute the population living in poverty from a poverty percentage, multiply by the population of the country **in that year**.\n",
    "\n",
    "*Hint:* This question is long. Feel free to create cells and experiment. You can create cells by going to the toolbar and hitting the `+` button, or by going to the `Insert` tab."
   ]
  },
  {
   "cell_type": "code",
   "execution_count": null,
   "id": "e87c4145",
   "metadata": {},
   "outputs": [],
   "source": [
    "def poverty_timeline(country):\n",
    "    '''Draw a timeline of people living in extreme poverty in a country.'''\n",
    "    geo = ...\n",
    "    # This solution will take multiple lines of code. Use as many as you need\n",
    "    ...\n",
    "    # Don't change anything below this line. \n",
    "    plots.title(country)\n",
    "    plots.ylim(bottom=0)\n",
    "    plots.show() # This should be the last line of your function. "
   ]
  },
  {
   "cell_type": "markdown",
   "id": "e13b5a19",
   "metadata": {},
   "source": [
    "## The Strategy: Overall\n",
    "\n",
    "(1)The input is the name of a country, and it's corresponding output is a line plot of the number of people living in poverty within that country. We can use both the `poverty` and `population` tables, however they identify their countries through `geo` codes so we will need to find a way to convert the country name into it's corresponding `geo` code using the `countries` table. \n",
    "\n",
    "(2)While the `poverty` and `population` tables contain our information of interest, the population is given as a frequency/count, while the poverty table gives us a percentages. We will use both of these facts to help us calculate the number of people living in poverty (by multiplication). Therefore, we want to join these two tables to combine the information into a single table. \n",
    "\n",
    "To set up the join, we will need to filter the two tables to make sure that we have the `poverty` and `population` table contains the rows of only the country of interest (i.e. the input). Once we perform the appropriate filter, we will can then join by the `time` variable, since both tables contain years under the `time` column. This also makes sure that we match up the poverty percentage to their appropriate population count of that year (i.e. we want to match the 25% poverty of **1956** to the population size of India in **1956**). We will already know that the join will be mergining tables of the same country since we filtered it already as so. \n",
    "\n",
    "(4)Once we successfully join the table, then, we caluclate the number of people in poverty in a given country/year by multiplying the columns containing population and poverty and then appending that column to the table. \n",
    "\n",
    "(5) We will use the `.plot()` method to plot the corresponding poverty counts for an input country (will not be covered in demo request)"
   ]
  },
  {
   "cell_type": "markdown",
   "id": "da1496a6",
   "metadata": {},
   "source": [
    "#### (1) Input Conversion\n",
    "The input is the name of a country, and it's corresponding output is a line plot of the number of people living in poverty within that country. We can use both the `poverty` and `population` tables, however they identify their countries through `geo` codes so we will need to find a way to convert the country name into it's corresponding `geo` code using the `countries` table. \n",
    "\n",
    "Let's practice with the the data from the project below:"
   ]
  },
  {
   "cell_type": "code",
   "execution_count": null,
   "id": "bd916170",
   "metadata": {},
   "outputs": [],
   "source": [
    "countries"
   ]
  },
  {
   "cell_type": "code",
   "execution_count": null,
   "id": "2a6bd289",
   "metadata": {},
   "outputs": [],
   "source": []
  },
  {
   "cell_type": "code",
   "execution_count": null,
   "id": "72a245d9",
   "metadata": {},
   "outputs": [],
   "source": []
  },
  {
   "cell_type": "markdown",
   "id": "b838d576",
   "metadata": {},
   "source": [
    "#### (2) Filter and Join setup\n",
    "While the `poverty` and `population` tables contain our information of interest, the population is given as a frequency/count, while the poverty table gives us a percentages. We will use both of these facts to help us calculate the number of people living in poverty (by multiplication). Therefore, we want to join these two tables to combine the information into a single table.\n",
    "\n",
    "To set up the join, we will need to filter the two tables to make sure that we have the `poverty` and `population` table contains the rows of only the country of interest (i.e. the input). Once we perform the appropriate filter, we will can then join by the `time` variable, since both tables contain years under the `time` column. This also makes sure that we match up the poverty percentage to their appropriate population count of that year (i.e. we want to match the 25% poverty of **1956** to the population size of India in **1956**). We will already know that the join will be mergining tables of the same country since we filtered it already as so. \n",
    "\n",
    "**For this step (and beyond), we will practice a parallel process with `drinks` and `discounts` to match the drink prices with their discounts, and calculate their corresponding discounted price.**"
   ]
  },
  {
   "cell_type": "code",
   "execution_count": null,
   "id": "bad46cc7",
   "metadata": {},
   "outputs": [],
   "source": []
  },
  {
   "cell_type": "code",
   "execution_count": null,
   "id": "dfe1d93d",
   "metadata": {},
   "outputs": [],
   "source": []
  },
  {
   "cell_type": "code",
   "execution_count": null,
   "id": "6a8d3fa5",
   "metadata": {},
   "outputs": [],
   "source": []
  },
  {
   "cell_type": "markdown",
   "id": "12dd73f6",
   "metadata": {},
   "source": [
    "#### (3) Join\n",
    "To set up the join, we will need to filter the two tables to make sure that we have the `poverty` and `population` table contains the rows of only the country of interest (i.e. the input). Once we perform the appropriate filter, we will can then join by the `time` variable, since both tables contain years under the `time` column. This also makes sure that we match up the poverty percentage to their appropriate population count of that year (i.e. we want to match the 25% poverty of **1956** to the population size of India in **1956**). We will already know that the join will be mergining tables of the same country since we filtered it already as so. "
   ]
  },
  {
   "cell_type": "code",
   "execution_count": null,
   "id": "3d19b0a4",
   "metadata": {},
   "outputs": [],
   "source": []
  },
  {
   "cell_type": "code",
   "execution_count": null,
   "id": "4136b4ce",
   "metadata": {},
   "outputs": [],
   "source": []
  },
  {
   "cell_type": "code",
   "execution_count": null,
   "id": "67edc8df",
   "metadata": {},
   "outputs": [],
   "source": []
  },
  {
   "cell_type": "markdown",
   "id": "916c443b",
   "metadata": {},
   "source": [
    "#### (4) Calculate and append\n",
    "Once we successfully join the table, then, we caluclate the number of people in poverty in a given country/year by multiplying the columns containing population and poverty and then appending that column to the table. "
   ]
  },
  {
   "cell_type": "code",
   "execution_count": null,
   "id": "f5e8c946",
   "metadata": {},
   "outputs": [],
   "source": []
  },
  {
   "cell_type": "code",
   "execution_count": null,
   "id": "1c82d303",
   "metadata": {},
   "outputs": [],
   "source": []
  },
  {
   "cell_type": "code",
   "execution_count": null,
   "id": "358d2254",
   "metadata": {},
   "outputs": [],
   "source": []
  },
  {
   "cell_type": "markdown",
   "id": "74965b85",
   "metadata": {},
   "source": [
    "# Accessing Rows of our data"
   ]
  },
  {
   "cell_type": "code",
   "execution_count": null,
   "id": "234a26f5",
   "metadata": {
    "scrolled": false
   },
   "outputs": [],
   "source": []
  },
  {
   "cell_type": "code",
   "execution_count": null,
   "id": "783b5878",
   "metadata": {
    "scrolled": false
   },
   "outputs": [],
   "source": []
  },
  {
   "cell_type": "code",
   "execution_count": null,
   "id": "801dcd18",
   "metadata": {},
   "outputs": [],
   "source": []
  },
  {
   "cell_type": "code",
   "execution_count": null,
   "id": "de07e423",
   "metadata": {},
   "outputs": [],
   "source": []
  },
  {
   "cell_type": "markdown",
   "id": "4feb57b8",
   "metadata": {},
   "source": [
    "# Applying a function across the entire row"
   ]
  },
  {
   "cell_type": "code",
   "execution_count": null,
   "id": "f7acb023",
   "metadata": {},
   "outputs": [],
   "source": []
  },
  {
   "cell_type": "code",
   "execution_count": null,
   "id": "4e2215ae",
   "metadata": {},
   "outputs": [],
   "source": []
  },
  {
   "cell_type": "code",
   "execution_count": null,
   "id": "c9e3f026",
   "metadata": {},
   "outputs": [],
   "source": []
  },
  {
   "cell_type": "markdown",
   "id": "1b1ff86d",
   "metadata": {},
   "source": [
    "# Comparison Statements\n",
    "\n",
    "### Assignments vs. Comparisons"
   ]
  },
  {
   "cell_type": "code",
   "execution_count": 4,
   "id": "e7a68561",
   "metadata": {},
   "outputs": [
    {
     "data": {
      "text/plain": [
       "7"
      ]
     },
     "execution_count": 4,
     "metadata": {},
     "output_type": "execute_result"
    }
   ],
   "source": [
    "this_variable = 7\n",
    "this_variable"
   ]
  },
  {
   "cell_type": "code",
   "execution_count": null,
   "id": "641525ce",
   "metadata": {},
   "outputs": [],
   "source": [
    "this_variable == 7"
   ]
  },
  {
   "cell_type": "code",
   "execution_count": null,
   "id": "9b8c82d5",
   "metadata": {},
   "outputs": [],
   "source": [
    "this_variable == 6"
   ]
  },
  {
   "cell_type": "code",
   "execution_count": null,
   "id": "b3cb8396",
   "metadata": {},
   "outputs": [],
   "source": [
    "this_variable = 6 \n",
    "this_variable"
   ]
  },
  {
   "cell_type": "code",
   "execution_count": null,
   "id": "f0b1d604",
   "metadata": {},
   "outputs": [],
   "source": [
    "this_variable == 6, this_variable == 7 "
   ]
  },
  {
   "cell_type": "code",
   "execution_count": null,
   "id": "49dff14d",
   "metadata": {},
   "outputs": [],
   "source": [
    "this_variable >1"
   ]
  },
  {
   "cell_type": "code",
   "execution_count": null,
   "id": "b0a330d1",
   "metadata": {},
   "outputs": [],
   "source": [
    "this_variable != 5"
   ]
  },
  {
   "cell_type": "code",
   "execution_count": null,
   "id": "37f2eebf",
   "metadata": {},
   "outputs": [],
   "source": [
    "2 < this_variable <50"
   ]
  },
  {
   "cell_type": "code",
   "execution_count": null,
   "id": "e0be08e1",
   "metadata": {},
   "outputs": [],
   "source": [
    "is_this_variable_between = 2 < this_variable <50\n",
    "is_this_variable_between"
   ]
  },
  {
   "cell_type": "markdown",
   "id": "86532b6d",
   "metadata": {},
   "source": [
    "### Aggregating Comparisons"
   ]
  },
  {
   "cell_type": "code",
   "execution_count": 5,
   "id": "77790a98",
   "metadata": {},
   "outputs": [],
   "source": [
    "this_array = make_array(1, 2, 4, 8, 16, 32, 64, 67)"
   ]
  },
  {
   "cell_type": "code",
   "execution_count": 6,
   "id": "a653f154",
   "metadata": {},
   "outputs": [
    {
     "data": {
      "text/plain": [
       "array([False, False, False, False, False,  True,  True,  True], dtype=bool)"
      ]
     },
     "execution_count": 6,
     "metadata": {},
     "output_type": "execute_result"
    }
   ],
   "source": [
    "this_array > 20"
   ]
  },
  {
   "cell_type": "code",
   "execution_count": 7,
   "id": "97b20a92",
   "metadata": {},
   "outputs": [
    {
     "data": {
      "text/plain": [
       "array([1, 0, 0, 0, 0, 0, 0, 1])"
      ]
     },
     "execution_count": 7,
     "metadata": {},
     "output_type": "execute_result"
    }
   ],
   "source": [
    "this_array % 2 # this is a way we can check if a number is divisible by 2"
   ]
  },
  {
   "cell_type": "code",
   "execution_count": null,
   "id": "3b82579e",
   "metadata": {},
   "outputs": [],
   "source": [
    "sum()"
   ]
  },
  {
   "cell_type": "markdown",
   "id": "1c085ddb",
   "metadata": {},
   "source": [
    "# Control Statements"
   ]
  },
  {
   "cell_type": "code",
   "execution_count": null,
   "id": "506959fd",
   "metadata": {},
   "outputs": [],
   "source": [
    "x = 20\n",
    "s = 'You are 20'"
   ]
  },
  {
   "cell_type": "code",
   "execution_count": null,
   "id": "9d6e1e77",
   "metadata": {},
   "outputs": [],
   "source": [
    "if x >= 21:\n",
    "    s = 'You may enter this bar/nightclub'\n",
    "s"
   ]
  },
  {
   "cell_type": "code",
   "execution_count": null,
   "id": "3b5a6285",
   "metadata": {},
   "outputs": [],
   "source": [
    "if x >= 18:\n",
    "    s = 'You can legally vote'\n",
    "s"
   ]
  },
  {
   "cell_type": "markdown",
   "id": "b554b950",
   "metadata": {},
   "source": [
    "### Combining Control Statements"
   ]
  },
  {
   "cell_type": "code",
   "execution_count": null,
   "id": "5c438127",
   "metadata": {},
   "outputs": [],
   "source": []
  },
  {
   "cell_type": "code",
   "execution_count": null,
   "id": "6c7c1c04",
   "metadata": {},
   "outputs": [],
   "source": []
  },
  {
   "cell_type": "code",
   "execution_count": null,
   "id": "4ed4d4c3",
   "metadata": {},
   "outputs": [],
   "source": []
  }
 ],
 "metadata": {
  "kernelspec": {
   "display_name": "Python 3 (ipykernel)",
   "language": "python",
   "name": "python3"
  },
  "language_info": {
   "codemirror_mode": {
    "name": "ipython",
    "version": 3
   },
   "file_extension": ".py",
   "mimetype": "text/x-python",
   "name": "python",
   "nbconvert_exporter": "python",
   "pygments_lexer": "ipython3",
   "version": "3.10.11"
  }
 },
 "nbformat": 4,
 "nbformat_minor": 5
}
