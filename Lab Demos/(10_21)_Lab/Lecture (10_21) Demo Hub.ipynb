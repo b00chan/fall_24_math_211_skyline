{
 "cells": [
  {
   "cell_type": "markdown",
   "id": "ad2e12c1",
   "metadata": {},
   "source": [
    "# [Python Reference Link](http://www.data8.org/sp20/python-reference.html)\n",
    "*Run the cell below so that we can set our modules up*"
   ]
  },
  {
   "cell_type": "code",
   "execution_count": 1,
   "id": "ed49d269",
   "metadata": {},
   "outputs": [],
   "source": [
    "import numpy as np\n",
    "from datascience import *\n",
    "\n",
    "# These lines set up graphing capabilities.\n",
    "import matplotlib\n",
    "%matplotlib inline\n",
    "import matplotlib.pyplot as plt\n",
    "plt.style.use('fivethirtyeight')\n",
    "import warnings\n",
    "warnings.simplefilter('ignore', FutureWarning)\n",
    "\n",
    "from ipywidgets import interact, interactive, fixed, interact_manual\n",
    "import ipywidgets as widgets"
   ]
  },
  {
   "cell_type": "markdown",
   "id": "5b6a4570",
   "metadata": {},
   "source": [
    "# Importing our data"
   ]
  },
  {
   "cell_type": "code",
   "execution_count": 2,
   "id": "2569931d",
   "metadata": {},
   "outputs": [
    {
     "data": {
      "text/html": [
       "<table border=\"1\" class=\"dataframe\">\n",
       "    <thead>\n",
       "        <tr>\n",
       "            <th>Surveyor</th> <th>GPA</th> <th>Introversion/Extraversion</th> <th>Pets</th> <th>Campus_Commute</th> <th>Handed</th> <th>Sleep</th> <th>Num_Units</th> <th>Favorite_Show</th> <th>Time_Off</th> <th>pastime/hobby</th> <th>Motivation</th> <th>Num_Siblings</th> <th>Wish_Siblings</th>\n",
       "        </tr>\n",
       "    </thead>\n",
       "    <tbody>\n",
       "        <tr>\n",
       "            <td>Samantha       </td> <td>3.77</td> <td>6                        </td> <td>Reptiles, Rodents</td> <td>Car, Walk     </td> <td>Left-handed </td> <td>On my side               </td> <td>13       </td> <td>HunterxHunter                            </td> <td>Travel                                                     </td> <td>Bowling                                           </td> <td>God â˜ðŸ½                          </td> <td>3           </td> <td>0            </td>\n",
       "        </tr>\n",
       "        <tr>\n",
       "            <td>Samantha       </td> <td>3   </td> <td>5                        </td> <td>nan              </td> <td>Car           </td> <td>Right-handed</td> <td>On my side               </td> <td>12       </td> <td>One Piece                                </td> <td>Travel all around Asia                                     </td> <td>Driving                                           </td> <td> Family                              </td> <td>3           </td> <td>3            </td>\n",
       "        </tr>\n",
       "        <tr>\n",
       "            <td>Samantha       </td> <td>3.4 </td> <td>4                        </td> <td>Dogs             </td> <td>Bus           </td> <td>Right-handed</td> <td>On my side               </td> <td>12       </td> <td>My Wife and Kids                         </td> <td>Rest                                                       </td> <td>Watching TV                                       </td> <td>Money                                </td> <td>2           </td> <td>1            </td>\n",
       "        </tr>\n",
       "        <tr>\n",
       "            <td>Samantha       </td> <td>3.5 </td> <td>3                        </td> <td>nan              </td> <td>Car           </td> <td>Right-handed</td> <td>Mountain climber position</td> <td>4        </td> <td>Spy x Family                             </td> <td>Go to Japan                                                </td> <td>I like making tech projects using microcontrollers</td> <td>My dreams in life keeps me motivated.</td> <td>2           </td> <td>0            </td>\n",
       "        </tr>\n",
       "        <tr>\n",
       "            <td>Samantha       </td> <td>3   </td> <td>7                        </td> <td>Dogs             </td> <td>Car           </td> <td>Right-handed</td> <td>On my stomach            </td> <td>12       </td> <td>My Hero Academia                         </td> <td>Travel to other countries.                                 </td> <td>Reading                                           </td> <td>My dreams and ambitions              </td> <td>2           </td> <td>3            </td>\n",
       "        </tr>\n",
       "        <tr>\n",
       "            <td>Samantha       </td> <td>3   </td> <td>5                        </td> <td>nan              </td> <td>Car           </td> <td>Left-handed </td> <td>On my stomach            </td> <td>6        </td> <td>Full Metal Alchemist The Dark Brotherhood</td> <td>Regain sleep, hiking/trail walking/exercise, maybe a trip. </td> <td>Video games                                       </td> <td>Helping those I care for.            </td> <td>2           </td> <td>2            </td>\n",
       "        </tr>\n",
       "        <tr>\n",
       "            <td>my best friend </td> <td>2.9 </td> <td>6                        </td> <td>Dogs             </td> <td>Car, Bus, Walk</td> <td>Right-handed</td> <td>On my back               </td> <td>15       </td> <td>Maury                                    </td> <td>go to mexico                                               </td> <td>working out                                       </td> <td>becoming a better version of myself  </td> <td>6           </td> <td>8            </td>\n",
       "        </tr>\n",
       "        <tr>\n",
       "            <td>Samantha       </td> <td>4   </td> <td>5                        </td> <td>Dogs             </td> <td>Car           </td> <td>Right-handed</td> <td>On my side               </td> <td>13       </td> <td>Friends                                  </td> <td>I would go to mexico                                       </td> <td>Doing arts and crafts                             </td> <td>Working hard and being with friends  </td> <td>8           </td> <td>8            </td>\n",
       "        </tr>\n",
       "        <tr>\n",
       "            <td>Samantha       </td> <td>3.72</td> <td>8                        </td> <td>Dogs             </td> <td>Car           </td> <td>Left-handed </td> <td>On my side               </td> <td>16       </td> <td>Baddies West                             </td> <td>Travel                                                     </td> <td>Sitting at the beach                              </td> <td>Money                                </td> <td>2           </td> <td>5            </td>\n",
       "        </tr>\n",
       "        <tr>\n",
       "            <td>Samantha       </td> <td>3.5 </td> <td>5                        </td> <td>nan              </td> <td>Car           </td> <td>Right-handed</td> <td>On my side               </td> <td>4        </td> <td>Your Name                                </td> <td>Travel, relax and have fun.                                </td> <td>Hiking                                            </td> <td>Family                               </td> <td>2           </td> <td>2            </td>\n",
       "        </tr>\n",
       "    </tbody>\n",
       "</table>\n",
       "<p>... (147 rows omitted)</p>"
      ],
      "text/plain": [
       "Surveyor        | GPA  | Introversion/Extraversion | Pets              | Campus_Commute | Handed       | Sleep                     | Num_Units | Favorite_Show                             | Time_Off                                                    | pastime/hobby                                      | Motivation                            | Num_Siblings | Wish_Siblings\n",
       "Samantha        | 3.77 | 6                         | Reptiles, Rodents | Car, Walk      | Left-handed  | On my side                | 13        | HunterxHunter                             | Travel                                                      | Bowling                                            | God â˜ðŸ½                           | 3            | 0\n",
       "Samantha        | 3    | 5                         | nan               | Car            | Right-handed | On my side                | 12        | One Piece                                 | Travel all around Asia                                      | Driving                                            |  Family                               | 3            | 3\n",
       "Samantha        | 3.4  | 4                         | Dogs              | Bus            | Right-handed | On my side                | 12        | My Wife and Kids                          | Rest                                                        | Watching TV                                        | Money                                 | 2            | 1\n",
       "Samantha        | 3.5  | 3                         | nan               | Car            | Right-handed | Mountain climber position | 4         | Spy x Family                              | Go to Japan                                                 | I like making tech projects using microcontrollers | My dreams in life keeps me motivated. | 2            | 0\n",
       "Samantha        | 3    | 7                         | Dogs              | Car            | Right-handed | On my stomach             | 12        | My Hero Academia                          | Travel to other countries.                                  | Reading                                            | My dreams and ambitions               | 2            | 3\n",
       "Samantha        | 3    | 5                         | nan               | Car            | Left-handed  | On my stomach             | 6         | Full Metal Alchemist The Dark Brotherhood | Regain sleep, hiking/trail walking/exercise, maybe a trip.  | Video games                                        | Helping those I care for.             | 2            | 2\n",
       "my best friend  | 2.9  | 6                         | Dogs              | Car, Bus, Walk | Right-handed | On my back                | 15        | Maury                                     | go to mexico                                                | working out                                        | becoming a better version of myself   | 6            | 8\n",
       "Samantha        | 4    | 5                         | Dogs              | Car            | Right-handed | On my side                | 13        | Friends                                   | I would go to mexico                                        | Doing arts and crafts                              | Working hard and being with friends   | 8            | 8\n",
       "Samantha        | 3.72 | 8                         | Dogs              | Car            | Left-handed  | On my side                | 16        | Baddies West                              | Travel                                                      | Sitting at the beach                               | Money                                 | 2            | 5\n",
       "Samantha        | 3.5  | 5                         | nan               | Car            | Right-handed | On my side                | 4         | Your Name                                 | Travel, relax and have fun.                                 | Hiking                                             | Family                                | 2            | 2\n",
       "... (147 rows omitted)"
      ]
     },
     "execution_count": 2,
     "metadata": {},
     "output_type": "execute_result"
    }
   ],
   "source": [
    "math211_survey = Table.read_table('MATH_211_Survey_Cleaned_GPA.csv')\n",
    "math211_survey"
   ]
  },
  {
   "cell_type": "markdown",
   "id": "c5f4467f",
   "metadata": {},
   "source": [
    "# Control Statements"
   ]
  },
  {
   "cell_type": "markdown",
   "id": "d612d0d3",
   "metadata": {},
   "source": [
    "## `if` statements"
   ]
  },
  {
   "cell_type": "code",
   "execution_count": 3,
   "id": "783b5878",
   "metadata": {
    "scrolled": true
   },
   "outputs": [],
   "source": [
    "x = 20\n",
    "s = 'You are 20'"
   ]
  },
  {
   "cell_type": "code",
   "execution_count": 4,
   "id": "163c9b15",
   "metadata": {},
   "outputs": [
    {
     "data": {
      "text/plain": [
       "'You are 20'"
      ]
     },
     "execution_count": 4,
     "metadata": {},
     "output_type": "execute_result"
    }
   ],
   "source": [
    "if x >= 21:\n",
    "    s = 'You may enter this bar/nightclub'\n",
    "s"
   ]
  },
  {
   "cell_type": "code",
   "execution_count": 5,
   "id": "09045ad7",
   "metadata": {},
   "outputs": [
    {
     "data": {
      "text/plain": [
       "'You can legally vote'"
      ]
     },
     "execution_count": 5,
     "metadata": {},
     "output_type": "execute_result"
    }
   ],
   "source": [
    "if x >= 18:\n",
    "    s = 'You can legally vote'\n",
    "s"
   ]
  },
  {
   "cell_type": "markdown",
   "id": "f6427ea2",
   "metadata": {},
   "source": [
    "### Let's classify our survey responses to the introversion/extroversion question:\n",
    "We will consider respondents extroverted if they self-report a number above: **7** <br>\n",
    "We will consider respondents ambiverted if they self-report a number between: **3** and **8**<br>\n",
    "We will consider respondents introverted if they self-report a number below: **4**"
   ]
  },
  {
   "cell_type": "code",
   "execution_count": 6,
   "id": "5a695386",
   "metadata": {},
   "outputs": [
    {
     "data": {
      "text/plain": [
       "'introverted'"
      ]
     },
     "execution_count": 6,
     "metadata": {},
     "output_type": "execute_result"
    }
   ],
   "source": [
    "def introverted_or_extroverted(score):\n",
    "    if score > 7:\n",
    "        classification = 'extroverted'\n",
    "    elif score >3:\n",
    "        classification = 'ambivert'\n",
    "    else: \n",
    "        classification = 'introverted'\n",
    "    return classification\n",
    "\n",
    "introverted_or_extroverted(2)"
   ]
  },
  {
   "cell_type": "code",
   "execution_count": 7,
   "id": "bc50cb0f",
   "metadata": {
    "scrolled": true
   },
   "outputs": [
    {
     "data": {
      "text/plain": [
       "array(['ambivert', 'ambivert', 'ambivert', 'introverted', 'ambivert',\n",
       "       'ambivert', 'ambivert', 'ambivert', 'extroverted', 'ambivert',\n",
       "       'ambivert', 'extroverted', 'extroverted', 'extroverted',\n",
       "       'introverted', 'ambivert', 'ambivert', 'ambivert', 'extroverted',\n",
       "       'ambivert', 'ambivert', 'ambivert', 'ambivert', 'introverted',\n",
       "       'ambivert', 'extroverted', 'extroverted', 'ambivert', 'ambivert',\n",
       "       'ambivert', 'ambivert', 'extroverted', 'ambivert', 'introverted',\n",
       "       'introverted', 'ambivert', 'ambivert', 'extroverted', 'ambivert',\n",
       "       'ambivert', 'ambivert', 'ambivert', 'introverted', 'ambivert',\n",
       "       'ambivert', 'ambivert', 'extroverted', 'ambivert', 'ambivert',\n",
       "       'extroverted', 'ambivert', 'introverted', 'ambivert', 'ambivert',\n",
       "       'introverted', 'ambivert', 'ambivert', 'ambivert', 'ambivert',\n",
       "       'introverted', 'extroverted', 'ambivert', 'introverted',\n",
       "       'introverted', 'introverted', 'introverted', 'introverted',\n",
       "       'introverted', 'introverted', 'introverted', 'ambivert', 'ambivert',\n",
       "       'ambivert', 'ambivert', 'ambivert', 'extroverted', 'ambivert',\n",
       "       'ambivert', 'extroverted', 'ambivert', 'ambivert', 'ambivert',\n",
       "       'ambivert', 'introverted', 'extroverted', 'ambivert', 'ambivert',\n",
       "       'ambivert', 'extroverted', 'introverted', 'introverted', 'ambivert',\n",
       "       'ambivert', 'ambivert', 'introverted', 'introverted', 'ambivert',\n",
       "       'extroverted', 'introverted', 'ambivert', 'ambivert', 'introverted',\n",
       "       'extroverted', 'ambivert', 'extroverted', 'ambivert', 'ambivert',\n",
       "       'ambivert', 'ambivert', 'extroverted', 'ambivert', 'ambivert',\n",
       "       'extroverted', 'introverted', 'extroverted', 'ambivert', 'ambivert',\n",
       "       'extroverted', 'extroverted', 'ambivert', 'ambivert', 'extroverted',\n",
       "       'ambivert', 'ambivert', 'ambivert', 'ambivert', 'ambivert',\n",
       "       'ambivert', 'extroverted', 'ambivert', 'extroverted', 'ambivert',\n",
       "       'introverted', 'extroverted', 'extroverted', 'introverted',\n",
       "       'introverted', 'ambivert', 'ambivert', 'extroverted', 'ambivert',\n",
       "       'ambivert', 'extroverted', 'extroverted', 'ambivert', 'ambivert',\n",
       "       'introverted', 'ambivert', 'extroverted', 'extroverted',\n",
       "       'extroverted', 'ambivert', 'ambivert', 'introverted', 'ambivert',\n",
       "       'ambivert', 'ambivert'],\n",
       "      dtype='<U11')"
      ]
     },
     "execution_count": 7,
     "metadata": {},
     "output_type": "execute_result"
    }
   ],
   "source": [
    "introversion_extroversion_array = math211_survey.apply(introverted_or_extroverted,'Introversion/Extraversion')\n",
    "introversion_extroversion_array"
   ]
  },
  {
   "cell_type": "code",
   "execution_count": 8,
   "id": "3b28a2f4",
   "metadata": {
    "scrolled": true
   },
   "outputs": [
    {
     "data": {
      "text/plain": [
       "array([False, False, False, False, False, False, False, False,  True,\n",
       "       False, False,  True,  True,  True, False, False, False, False,\n",
       "        True, False, False, False, False, False, False,  True,  True,\n",
       "       False, False, False, False,  True, False, False, False, False,\n",
       "       False,  True, False, False, False, False, False, False, False,\n",
       "       False,  True, False, False,  True, False, False, False, False,\n",
       "       False, False, False, False, False, False,  True, False, False,\n",
       "       False, False, False, False, False, False, False, False, False,\n",
       "       False, False, False,  True, False, False,  True, False, False,\n",
       "       False, False, False,  True, False, False, False,  True, False,\n",
       "       False, False, False, False, False, False, False,  True, False,\n",
       "       False, False, False,  True, False,  True, False, False, False,\n",
       "       False,  True, False, False,  True, False,  True, False, False,\n",
       "        True,  True, False, False,  True, False, False, False, False,\n",
       "       False, False,  True, False,  True, False, False,  True,  True,\n",
       "       False, False, False, False,  True, False, False,  True,  True,\n",
       "       False, False, False, False,  True,  True,  True, False, False,\n",
       "       False, False, False, False], dtype=bool)"
      ]
     },
     "execution_count": 8,
     "metadata": {},
     "output_type": "execute_result"
    }
   ],
   "source": [
    "introversion_extroversion_array == 'extroverted'"
   ]
  },
  {
   "cell_type": "code",
   "execution_count": 9,
   "id": "801dcd18",
   "metadata": {},
   "outputs": [
    {
     "data": {
      "text/plain": [
       "35"
      ]
     },
     "execution_count": 9,
     "metadata": {},
     "output_type": "execute_result"
    }
   ],
   "source": [
    "np.count_nonzero(introversion_extroversion_array == 'extroverted')"
   ]
  },
  {
   "cell_type": "markdown",
   "id": "4b2bed8c",
   "metadata": {},
   "source": [
    "## `for` loops \n"
   ]
  },
  {
   "cell_type": "code",
   "execution_count": 10,
   "id": "de07e423",
   "metadata": {},
   "outputs": [
    {
     "name": "stdout",
     "output_type": "stream",
     "text": [
      "I love my Cat\n",
      "I love my Dog\n",
      "I love my Rabbit\n",
      "I love my Ferret\n"
     ]
    }
   ],
   "source": [
    "for pet in make_array('cat','dog','rabbit','ferret'):\n",
    "    print_pet = pet.capitalize()\n",
    "    print('I love my '+print_pet)"
   ]
  },
  {
   "cell_type": "code",
   "execution_count": 11,
   "id": "638e571a",
   "metadata": {},
   "outputs": [
    {
     "name": "stdout",
     "output_type": "stream",
     "text": [
      "99 bottles of beer on the wall, 99 bottles of beer!\n",
      "take one down, pass it around! 98 bottles of beer on the wall!\n",
      "98 bottles of beer on the wall, 98 bottles of beer!\n",
      "take one down, pass it around! 97 bottles of beer on the wall!\n",
      "97 bottles of beer on the wall, 97 bottles of beer!\n",
      "take one down, pass it around! 96 bottles of beer on the wall!\n",
      "96 bottles of beer on the wall, 96 bottles of beer!\n",
      "take one down, pass it around! 95 bottles of beer on the wall!\n",
      "95 bottles of beer on the wall, 95 bottles of beer!\n",
      "take one down, pass it around! 94 bottles of beer on the wall!\n",
      "94 bottles of beer on the wall, 94 bottles of beer!\n",
      "take one down, pass it around! 93 bottles of beer on the wall!\n",
      "93 bottles of beer on the wall, 93 bottles of beer!\n",
      "take one down, pass it around! 92 bottles of beer on the wall!\n",
      "92 bottles of beer on the wall, 92 bottles of beer!\n",
      "take one down, pass it around! 91 bottles of beer on the wall!\n",
      "91 bottles of beer on the wall, 91 bottles of beer!\n",
      "take one down, pass it around! 90 bottles of beer on the wall!\n",
      "90 bottles of beer on the wall, 90 bottles of beer!\n",
      "take one down, pass it around! 89 bottles of beer on the wall!\n",
      "89 bottles of beer on the wall, 89 bottles of beer!\n",
      "take one down, pass it around! 88 bottles of beer on the wall!\n",
      "88 bottles of beer on the wall, 88 bottles of beer!\n",
      "take one down, pass it around! 87 bottles of beer on the wall!\n",
      "87 bottles of beer on the wall, 87 bottles of beer!\n",
      "take one down, pass it around! 86 bottles of beer on the wall!\n",
      "86 bottles of beer on the wall, 86 bottles of beer!\n",
      "take one down, pass it around! 85 bottles of beer on the wall!\n",
      "85 bottles of beer on the wall, 85 bottles of beer!\n",
      "take one down, pass it around! 84 bottles of beer on the wall!\n",
      "84 bottles of beer on the wall, 84 bottles of beer!\n",
      "take one down, pass it around! 83 bottles of beer on the wall!\n",
      "83 bottles of beer on the wall, 83 bottles of beer!\n",
      "take one down, pass it around! 82 bottles of beer on the wall!\n",
      "82 bottles of beer on the wall, 82 bottles of beer!\n",
      "take one down, pass it around! 81 bottles of beer on the wall!\n",
      "81 bottles of beer on the wall, 81 bottles of beer!\n",
      "take one down, pass it around! 80 bottles of beer on the wall!\n",
      "80 bottles of beer on the wall, 80 bottles of beer!\n",
      "take one down, pass it around! 79 bottles of beer on the wall!\n",
      "79 bottles of beer on the wall, 79 bottles of beer!\n",
      "take one down, pass it around! 78 bottles of beer on the wall!\n",
      "78 bottles of beer on the wall, 78 bottles of beer!\n",
      "take one down, pass it around! 77 bottles of beer on the wall!\n",
      "77 bottles of beer on the wall, 77 bottles of beer!\n",
      "take one down, pass it around! 76 bottles of beer on the wall!\n",
      "76 bottles of beer on the wall, 76 bottles of beer!\n",
      "take one down, pass it around! 75 bottles of beer on the wall!\n",
      "75 bottles of beer on the wall, 75 bottles of beer!\n",
      "take one down, pass it around! 74 bottles of beer on the wall!\n",
      "74 bottles of beer on the wall, 74 bottles of beer!\n",
      "take one down, pass it around! 73 bottles of beer on the wall!\n",
      "73 bottles of beer on the wall, 73 bottles of beer!\n",
      "take one down, pass it around! 72 bottles of beer on the wall!\n",
      "72 bottles of beer on the wall, 72 bottles of beer!\n",
      "take one down, pass it around! 71 bottles of beer on the wall!\n",
      "71 bottles of beer on the wall, 71 bottles of beer!\n",
      "take one down, pass it around! 70 bottles of beer on the wall!\n",
      "70 bottles of beer on the wall, 70 bottles of beer!\n",
      "take one down, pass it around! 69 bottles of beer on the wall!\n",
      "69 bottles of beer on the wall, 69 bottles of beer!\n",
      "take one down, pass it around! 68 bottles of beer on the wall!\n",
      "68 bottles of beer on the wall, 68 bottles of beer!\n",
      "take one down, pass it around! 67 bottles of beer on the wall!\n",
      "67 bottles of beer on the wall, 67 bottles of beer!\n",
      "take one down, pass it around! 66 bottles of beer on the wall!\n",
      "66 bottles of beer on the wall, 66 bottles of beer!\n",
      "take one down, pass it around! 65 bottles of beer on the wall!\n",
      "65 bottles of beer on the wall, 65 bottles of beer!\n",
      "take one down, pass it around! 64 bottles of beer on the wall!\n",
      "64 bottles of beer on the wall, 64 bottles of beer!\n",
      "take one down, pass it around! 63 bottles of beer on the wall!\n",
      "63 bottles of beer on the wall, 63 bottles of beer!\n",
      "take one down, pass it around! 62 bottles of beer on the wall!\n",
      "62 bottles of beer on the wall, 62 bottles of beer!\n",
      "take one down, pass it around! 61 bottles of beer on the wall!\n",
      "61 bottles of beer on the wall, 61 bottles of beer!\n",
      "take one down, pass it around! 60 bottles of beer on the wall!\n",
      "60 bottles of beer on the wall, 60 bottles of beer!\n",
      "take one down, pass it around! 59 bottles of beer on the wall!\n",
      "59 bottles of beer on the wall, 59 bottles of beer!\n",
      "take one down, pass it around! 58 bottles of beer on the wall!\n",
      "58 bottles of beer on the wall, 58 bottles of beer!\n",
      "take one down, pass it around! 57 bottles of beer on the wall!\n",
      "57 bottles of beer on the wall, 57 bottles of beer!\n",
      "take one down, pass it around! 56 bottles of beer on the wall!\n",
      "56 bottles of beer on the wall, 56 bottles of beer!\n",
      "take one down, pass it around! 55 bottles of beer on the wall!\n",
      "55 bottles of beer on the wall, 55 bottles of beer!\n",
      "take one down, pass it around! 54 bottles of beer on the wall!\n",
      "54 bottles of beer on the wall, 54 bottles of beer!\n",
      "take one down, pass it around! 53 bottles of beer on the wall!\n",
      "53 bottles of beer on the wall, 53 bottles of beer!\n",
      "take one down, pass it around! 52 bottles of beer on the wall!\n",
      "52 bottles of beer on the wall, 52 bottles of beer!\n",
      "take one down, pass it around! 51 bottles of beer on the wall!\n",
      "51 bottles of beer on the wall, 51 bottles of beer!\n",
      "take one down, pass it around! 50 bottles of beer on the wall!\n",
      "50 bottles of beer on the wall, 50 bottles of beer!\n",
      "take one down, pass it around! 49 bottles of beer on the wall!\n",
      "49 bottles of beer on the wall, 49 bottles of beer!\n",
      "take one down, pass it around! 48 bottles of beer on the wall!\n",
      "48 bottles of beer on the wall, 48 bottles of beer!\n",
      "take one down, pass it around! 47 bottles of beer on the wall!\n",
      "47 bottles of beer on the wall, 47 bottles of beer!\n",
      "take one down, pass it around! 46 bottles of beer on the wall!\n",
      "46 bottles of beer on the wall, 46 bottles of beer!\n",
      "take one down, pass it around! 45 bottles of beer on the wall!\n",
      "45 bottles of beer on the wall, 45 bottles of beer!\n",
      "take one down, pass it around! 44 bottles of beer on the wall!\n",
      "44 bottles of beer on the wall, 44 bottles of beer!\n",
      "take one down, pass it around! 43 bottles of beer on the wall!\n",
      "43 bottles of beer on the wall, 43 bottles of beer!\n",
      "take one down, pass it around! 42 bottles of beer on the wall!\n",
      "42 bottles of beer on the wall, 42 bottles of beer!\n",
      "take one down, pass it around! 41 bottles of beer on the wall!\n",
      "41 bottles of beer on the wall, 41 bottles of beer!\n",
      "take one down, pass it around! 40 bottles of beer on the wall!\n",
      "40 bottles of beer on the wall, 40 bottles of beer!\n",
      "take one down, pass it around! 39 bottles of beer on the wall!\n",
      "39 bottles of beer on the wall, 39 bottles of beer!\n",
      "take one down, pass it around! 38 bottles of beer on the wall!\n",
      "38 bottles of beer on the wall, 38 bottles of beer!\n",
      "take one down, pass it around! 37 bottles of beer on the wall!\n",
      "37 bottles of beer on the wall, 37 bottles of beer!\n",
      "take one down, pass it around! 36 bottles of beer on the wall!\n",
      "36 bottles of beer on the wall, 36 bottles of beer!\n",
      "take one down, pass it around! 35 bottles of beer on the wall!\n",
      "35 bottles of beer on the wall, 35 bottles of beer!\n",
      "take one down, pass it around! 34 bottles of beer on the wall!\n",
      "34 bottles of beer on the wall, 34 bottles of beer!\n",
      "take one down, pass it around! 33 bottles of beer on the wall!\n",
      "33 bottles of beer on the wall, 33 bottles of beer!\n",
      "take one down, pass it around! 32 bottles of beer on the wall!\n",
      "32 bottles of beer on the wall, 32 bottles of beer!\n",
      "take one down, pass it around! 31 bottles of beer on the wall!\n",
      "31 bottles of beer on the wall, 31 bottles of beer!\n",
      "take one down, pass it around! 30 bottles of beer on the wall!\n",
      "30 bottles of beer on the wall, 30 bottles of beer!\n",
      "take one down, pass it around! 29 bottles of beer on the wall!\n",
      "29 bottles of beer on the wall, 29 bottles of beer!\n",
      "take one down, pass it around! 28 bottles of beer on the wall!\n",
      "28 bottles of beer on the wall, 28 bottles of beer!\n",
      "take one down, pass it around! 27 bottles of beer on the wall!\n",
      "27 bottles of beer on the wall, 27 bottles of beer!\n",
      "take one down, pass it around! 26 bottles of beer on the wall!\n",
      "26 bottles of beer on the wall, 26 bottles of beer!\n",
      "take one down, pass it around! 25 bottles of beer on the wall!\n",
      "25 bottles of beer on the wall, 25 bottles of beer!\n",
      "take one down, pass it around! 24 bottles of beer on the wall!\n",
      "24 bottles of beer on the wall, 24 bottles of beer!\n",
      "take one down, pass it around! 23 bottles of beer on the wall!\n",
      "23 bottles of beer on the wall, 23 bottles of beer!\n",
      "take one down, pass it around! 22 bottles of beer on the wall!\n",
      "22 bottles of beer on the wall, 22 bottles of beer!\n",
      "take one down, pass it around! 21 bottles of beer on the wall!\n",
      "21 bottles of beer on the wall, 21 bottles of beer!\n",
      "take one down, pass it around! 20 bottles of beer on the wall!\n",
      "20 bottles of beer on the wall, 20 bottles of beer!\n",
      "take one down, pass it around! 19 bottles of beer on the wall!\n",
      "19 bottles of beer on the wall, 19 bottles of beer!\n",
      "take one down, pass it around! 18 bottles of beer on the wall!\n",
      "18 bottles of beer on the wall, 18 bottles of beer!\n",
      "take one down, pass it around! 17 bottles of beer on the wall!\n",
      "17 bottles of beer on the wall, 17 bottles of beer!\n",
      "take one down, pass it around! 16 bottles of beer on the wall!\n",
      "16 bottles of beer on the wall, 16 bottles of beer!\n",
      "take one down, pass it around! 15 bottles of beer on the wall!\n",
      "15 bottles of beer on the wall, 15 bottles of beer!\n",
      "take one down, pass it around! 14 bottles of beer on the wall!\n",
      "14 bottles of beer on the wall, 14 bottles of beer!\n",
      "take one down, pass it around! 13 bottles of beer on the wall!\n",
      "13 bottles of beer on the wall, 13 bottles of beer!\n",
      "take one down, pass it around! 12 bottles of beer on the wall!\n",
      "12 bottles of beer on the wall, 12 bottles of beer!\n",
      "take one down, pass it around! 11 bottles of beer on the wall!\n",
      "11 bottles of beer on the wall, 11 bottles of beer!\n",
      "take one down, pass it around! 10 bottles of beer on the wall!\n",
      "10 bottles of beer on the wall, 10 bottles of beer!\n",
      "take one down, pass it around! 9 bottles of beer on the wall!\n",
      "9 bottles of beer on the wall, 9 bottles of beer!\n",
      "take one down, pass it around! 8 bottles of beer on the wall!\n",
      "8 bottles of beer on the wall, 8 bottles of beer!\n",
      "take one down, pass it around! 7 bottles of beer on the wall!\n",
      "7 bottles of beer on the wall, 7 bottles of beer!\n",
      "take one down, pass it around! 6 bottles of beer on the wall!\n",
      "6 bottles of beer on the wall, 6 bottles of beer!\n",
      "take one down, pass it around! 5 bottles of beer on the wall!\n",
      "5 bottles of beer on the wall, 5 bottles of beer!\n",
      "take one down, pass it around! 4 bottles of beer on the wall!\n",
      "4 bottles of beer on the wall, 4 bottles of beer!\n",
      "take one down, pass it around! 3 bottles of beer on the wall!\n",
      "3 bottles of beer on the wall, 3 bottles of beer!\n",
      "take one down, pass it around! 2 bottles of beer on the wall!\n",
      "2 bottles of beer on the wall, 2 bottles of beer!\n",
      "take one down, pass it around! 1 bottles of beer on the wall!\n",
      "1 bottles of beer on the wall, 1 bottles of beer!\n",
      "take one down, pass it around! 0 bottles of beer on the wall!\n"
     ]
    }
   ],
   "source": [
    "for beer_num in np.arange(99,0,-1):\n",
    "    print(beer_num,\"bottles of beer on the wall,\",beer_num,\"bottles of beer!\")\n",
    "    print(\"take one down, pass it around!\",beer_num-1,\"bottles of beer on the wall!\")"
   ]
  },
  {
   "cell_type": "markdown",
   "id": "e7284fd8",
   "metadata": {},
   "source": [
    "### For practice: using a `for`-loop to analyze our [STEM Center](https://skylinecollege.edu/stemcenter/) Webpage"
   ]
  },
  {
   "cell_type": "code",
   "execution_count": 12,
   "id": "ee49c4f5",
   "metadata": {},
   "outputs": [
    {
     "data": {
      "text/plain": [
       "'The Skyline College STEM Center brings together academic and student support services for students taking science, technology, engineering and math courses.The center supports student success by ensuring students have access to resources such as academic tutoring, counseling services, a resource depository for STEM pathways and transfer, a hub for internships and work based learning opportunities, as well as a place where students and staff can collaborate and build a community and supportive connection. This STEM Center was brought to campus by a U.S. Department of Education, Title V, Developing Hispanic-Serving Institutions Program “Strengthening Pathways to Success in STEM” grant awarded in 2018.'"
      ]
     },
     "execution_count": 12,
     "metadata": {},
     "output_type": "execute_result"
    }
   ],
   "source": [
    "STEM_Center_Webpage_string = 'The Skyline College STEM Center brings together academic and student support services for students taking science, technology, engineering and math courses.The center supports student success by ensuring students have access to resources such as academic tutoring, counseling services, a resource depository for STEM pathways and transfer, a hub for internships and work based learning opportunities, as well as a place where students and staff can collaborate and build a community and supportive connection. This STEM Center was brought to campus by a U.S. Department of Education, Title V, Developing Hispanic-Serving Institutions Program “Strengthening Pathways to Success in STEM” grant awarded in 2018.'\n",
    "STEM_Center_Webpage_string"
   ]
  },
  {
   "cell_type": "markdown",
   "id": "3ad93cb1",
   "metadata": {},
   "source": [
    "We'll use the `.split()` method to store each word into a list:"
   ]
  },
  {
   "cell_type": "code",
   "execution_count": 13,
   "id": "6d1c402c",
   "metadata": {
    "scrolled": true
   },
   "outputs": [
    {
     "data": {
      "text/plain": [
       "['The',\n",
       " 'Skyline',\n",
       " 'College',\n",
       " 'STEM',\n",
       " 'Center',\n",
       " 'brings',\n",
       " 'together',\n",
       " 'academic',\n",
       " 'and',\n",
       " 'student',\n",
       " 'support',\n",
       " 'services',\n",
       " 'for',\n",
       " 'students',\n",
       " 'taking',\n",
       " 'science,',\n",
       " 'technology,',\n",
       " 'engineering',\n",
       " 'and',\n",
       " 'math',\n",
       " 'courses.The',\n",
       " 'center',\n",
       " 'supports',\n",
       " 'student',\n",
       " 'success',\n",
       " 'by',\n",
       " 'ensuring',\n",
       " 'students',\n",
       " 'have',\n",
       " 'access',\n",
       " 'to',\n",
       " 'resources',\n",
       " 'such',\n",
       " 'as',\n",
       " 'academic',\n",
       " 'tutoring,',\n",
       " 'counseling',\n",
       " 'services,',\n",
       " 'a',\n",
       " 'resource',\n",
       " 'depository',\n",
       " 'for',\n",
       " 'STEM',\n",
       " 'pathways',\n",
       " 'and',\n",
       " 'transfer,',\n",
       " 'a',\n",
       " 'hub',\n",
       " 'for',\n",
       " 'internships',\n",
       " 'and',\n",
       " 'work',\n",
       " 'based',\n",
       " 'learning',\n",
       " 'opportunities,',\n",
       " 'as',\n",
       " 'well',\n",
       " 'as',\n",
       " 'a',\n",
       " 'place',\n",
       " 'where',\n",
       " 'students',\n",
       " 'and',\n",
       " 'staff',\n",
       " 'can',\n",
       " 'collaborate',\n",
       " 'and',\n",
       " 'build',\n",
       " 'a',\n",
       " 'community',\n",
       " 'and',\n",
       " 'supportive',\n",
       " 'connection.',\n",
       " 'This',\n",
       " 'STEM',\n",
       " 'Center',\n",
       " 'was',\n",
       " 'brought',\n",
       " 'to',\n",
       " 'campus',\n",
       " 'by',\n",
       " 'a',\n",
       " 'U.S.',\n",
       " 'Department',\n",
       " 'of',\n",
       " 'Education,',\n",
       " 'Title',\n",
       " 'V,',\n",
       " 'Developing',\n",
       " 'Hispanic-Serving',\n",
       " 'Institutions',\n",
       " 'Program',\n",
       " '“Strengthening',\n",
       " 'Pathways',\n",
       " 'to',\n",
       " 'Success',\n",
       " 'in',\n",
       " 'STEM”',\n",
       " 'grant',\n",
       " 'awarded',\n",
       " 'in',\n",
       " '2018.']"
      ]
     },
     "execution_count": 13,
     "metadata": {},
     "output_type": "execute_result"
    }
   ],
   "source": [
    "STEM_split = STEM_Center_Webpage_string.split()\n",
    "STEM_split"
   ]
  },
  {
   "cell_type": "markdown",
   "id": "7b8a5152",
   "metadata": {},
   "source": [
    "Now, we can use a for-loop to check the list to see how many times 'student' is mentioned on the webpage"
   ]
  },
  {
   "cell_type": "code",
   "execution_count": 14,
   "id": "9068bc5a",
   "metadata": {
    "scrolled": false
   },
   "outputs": [
    {
     "name": "stdout",
     "output_type": "stream",
     "text": [
      "checking:  The\n",
      "checking:  Skyline\n",
      "checking:  College\n",
      "checking:  STEM\n",
      "checking:  Center\n",
      "checking:  brings\n",
      "checking:  together\n",
      "checking:  academic\n",
      "checking:  and\n",
      "checking:  student\n",
      "checking:  support\n",
      "checking:  services\n",
      "checking:  for\n",
      "checking:  students\n",
      "studentsFound!\n",
      "old count: 0\n",
      "new count: 1\n",
      "checking:  taking\n",
      "checking:  science,\n",
      "checking:  technology,\n",
      "checking:  engineering\n",
      "checking:  and\n",
      "checking:  math\n",
      "checking:  courses.The\n",
      "checking:  center\n",
      "checking:  supports\n",
      "checking:  student\n",
      "checking:  success\n",
      "checking:  by\n",
      "checking:  ensuring\n",
      "checking:  students\n",
      "studentsFound!\n",
      "old count: 1\n",
      "new count: 2\n",
      "checking:  have\n",
      "checking:  access\n",
      "checking:  to\n",
      "checking:  resources\n",
      "checking:  such\n",
      "checking:  as\n",
      "checking:  academic\n",
      "checking:  tutoring,\n",
      "checking:  counseling\n",
      "checking:  services,\n",
      "checking:  a\n",
      "checking:  resource\n",
      "checking:  depository\n",
      "checking:  for\n",
      "checking:  STEM\n",
      "checking:  pathways\n",
      "checking:  and\n",
      "checking:  transfer,\n",
      "checking:  a\n",
      "checking:  hub\n",
      "checking:  for\n",
      "checking:  internships\n",
      "checking:  and\n",
      "checking:  work\n",
      "checking:  based\n",
      "checking:  learning\n",
      "checking:  opportunities,\n",
      "checking:  as\n",
      "checking:  well\n",
      "checking:  as\n",
      "checking:  a\n",
      "checking:  place\n",
      "checking:  where\n",
      "checking:  students\n",
      "studentsFound!\n",
      "old count: 2\n",
      "new count: 3\n",
      "checking:  and\n",
      "checking:  staff\n",
      "checking:  can\n",
      "checking:  collaborate\n",
      "checking:  and\n",
      "checking:  build\n",
      "checking:  a\n",
      "checking:  community\n",
      "checking:  and\n",
      "checking:  supportive\n",
      "checking:  connection.\n",
      "checking:  This\n",
      "checking:  STEM\n",
      "checking:  Center\n",
      "checking:  was\n",
      "checking:  brought\n",
      "checking:  to\n",
      "checking:  campus\n",
      "checking:  by\n",
      "checking:  a\n",
      "checking:  U.S.\n",
      "checking:  Department\n",
      "checking:  of\n",
      "checking:  Education,\n",
      "checking:  Title\n",
      "checking:  V,\n",
      "checking:  Developing\n",
      "checking:  Hispanic-Serving\n",
      "checking:  Institutions\n",
      "checking:  Program\n",
      "checking:  “Strengthening\n",
      "checking:  Pathways\n",
      "checking:  to\n",
      "checking:  Success\n",
      "checking:  in\n",
      "checking:  STEM”\n",
      "checking:  grant\n",
      "checking:  awarded\n",
      "checking:  in\n",
      "checking:  2018.\n"
     ]
    },
    {
     "data": {
      "text/plain": [
       "3"
      ]
     },
     "execution_count": 14,
     "metadata": {},
     "output_type": "execute_result"
    }
   ],
   "source": [
    "#before we check the 'STEM_split' list, we have not found any words matching 'student' (not yet anyway)\n",
    "student_count = 0 \n",
    "\n",
    "#this for-loop will help us look through the list, word by word\n",
    "for word in STEM_split:\n",
    "    print('checking: ',word)\n",
    "    \n",
    "    if word == 'students':\n",
    "        #once we find the student, we will increase our student_count variable by adding +1 to it's \n",
    "        #previous value\n",
    "        \n",
    "        print(word + 'Found!') #this confirms we matched 'student'\n",
    "        \n",
    "        print(\"old count:\",student_count)\n",
    "        #student_count = (student_count + 1) #this will update the count\n",
    "        \n",
    "        student_count += 1\n",
    "        print(\"new count:\",student_count)\n",
    "        \n",
    "student_count"
   ]
  },
  {
   "cell_type": "markdown",
   "id": "136ccaa1",
   "metadata": {},
   "source": [
    "# Sampling Methods "
   ]
  },
  {
   "cell_type": "markdown",
   "id": "5e0227b6",
   "metadata": {},
   "source": [
    "## `np.random.choice`\n",
    "<img src=\"random_choice.png\" alt=\"drawing\" width=\"1200\"/>\n",
    "\n",
    "*From the [Python reference](http://www.data8.org/sp20/python-reference.html) page\n",
    "\n",
    "Consider the array of food we could get at the Sky Cafe here on campus: "
   ]
  },
  {
   "cell_type": "code",
   "execution_count": 15,
   "id": "4e2215ae",
   "metadata": {},
   "outputs": [
    {
     "data": {
      "text/plain": [
       "array(['Salad Bar', 'Chicken Tendies', 'Quesadilla', 'Burger',\n",
       "       'Just hella fries', 'Daily Special', 'Sandwich', 'Cup Noodle'],\n",
       "      dtype='<U16')"
      ]
     },
     "execution_count": 15,
     "metadata": {},
     "output_type": "execute_result"
    }
   ],
   "source": [
    "cafe_lunch_options = make_array('Salad Bar','Chicken Tendies','Quesadilla','Burger','Just hella fries',\n",
    "                                'Daily Special','Sandwich','Cup Noodle')\n",
    "cafe_lunch_options"
   ]
  },
  {
   "cell_type": "markdown",
   "id": "07ca6dd0",
   "metadata": {},
   "source": [
    "#### I forgot to bring my lunch from home today, what am I getting? Run the cell below:"
   ]
  },
  {
   "cell_type": "code",
   "execution_count": 16,
   "id": "3c9967b1",
   "metadata": {},
   "outputs": [
    {
     "data": {
      "text/plain": [
       "'Cup Noodle'"
      ]
     },
     "execution_count": 16,
     "metadata": {},
     "output_type": "execute_result"
    }
   ],
   "source": [
    "np.random.choice(cafe_lunch_options)"
   ]
  },
  {
   "cell_type": "markdown",
   "id": "12ed1061",
   "metadata": {},
   "source": [
    "#### Denise also forgot hers. She said, \"I don't know, surprise me.\" What are we each getting?"
   ]
  },
  {
   "cell_type": "code",
   "execution_count": 17,
   "id": "6fabf59a",
   "metadata": {},
   "outputs": [
    {
     "data": {
      "text/plain": [
       "array(['Quesadilla', 'Chicken Tendies'],\n",
       "      dtype='<U16')"
      ]
     },
     "execution_count": 17,
     "metadata": {},
     "output_type": "execute_result"
    }
   ],
   "source": [
    "np.random.choice(cafe_lunch_options,2)"
   ]
  },
  {
   "cell_type": "code",
   "execution_count": 18,
   "id": "e54151f8",
   "metadata": {},
   "outputs": [
    {
     "name": "stdout",
     "output_type": "stream",
     "text": [
      "Monday Sandwich\n",
      "Tuesday Burger\n",
      "Wednesday Quesadilla\n",
      "Thursday Quesadilla\n",
      "Friday Burger\n"
     ]
    }
   ],
   "source": [
    "weekday= make_array('Monday','Tuesday','Wednesday','Thursday','Friday')\n",
    "for day in weekday:\n",
    "    im_eating = np.random.choice(cafe_lunch_options)\n",
    "    print(day,im_eating)"
   ]
  },
  {
   "cell_type": "markdown",
   "id": "a329cf89",
   "metadata": {},
   "source": [
    "## `tbl.sample`\n",
    "<img src=\"table_sample.png\" alt=\"drawing\" width=\"1200\"/>\n",
    "\n",
    "*From the [Python reference](http://www.data8.org/sp20/python-reference.html) page"
   ]
  },
  {
   "cell_type": "code",
   "execution_count": 19,
   "id": "7d368bd4",
   "metadata": {},
   "outputs": [
    {
     "data": {
      "text/html": [
       "<table border=\"1\" class=\"dataframe\">\n",
       "    <thead>\n",
       "        <tr>\n",
       "            <th>What I can eat</th>\n",
       "        </tr>\n",
       "    </thead>\n",
       "    <tbody>\n",
       "        <tr>\n",
       "            <td>Salad Bar       </td>\n",
       "        </tr>\n",
       "        <tr>\n",
       "            <td>Chicken Tendies </td>\n",
       "        </tr>\n",
       "        <tr>\n",
       "            <td>Quesadilla      </td>\n",
       "        </tr>\n",
       "        <tr>\n",
       "            <td>Burger          </td>\n",
       "        </tr>\n",
       "        <tr>\n",
       "            <td>Just hella fries</td>\n",
       "        </tr>\n",
       "        <tr>\n",
       "            <td>Daily Special   </td>\n",
       "        </tr>\n",
       "        <tr>\n",
       "            <td>Sandwich        </td>\n",
       "        </tr>\n",
       "        <tr>\n",
       "            <td>Cup Noodle      </td>\n",
       "        </tr>\n",
       "    </tbody>\n",
       "</table>"
      ],
      "text/plain": [
       "What I can eat\n",
       "Salad Bar\n",
       "Chicken Tendies\n",
       "Quesadilla\n",
       "Burger\n",
       "Just hella fries\n",
       "Daily Special\n",
       "Sandwich\n",
       "Cup Noodle"
      ]
     },
     "execution_count": 19,
     "metadata": {},
     "output_type": "execute_result"
    }
   ],
   "source": [
    "cafe_options_table = Table().with_columns('What I can eat',cafe_lunch_options)\n",
    "cafe_options_table"
   ]
  },
  {
   "cell_type": "code",
   "execution_count": 20,
   "id": "a21fc773",
   "metadata": {},
   "outputs": [
    {
     "data": {
      "text/html": [
       "<table border=\"1\" class=\"dataframe\">\n",
       "    <thead>\n",
       "        <tr>\n",
       "            <th>What I can eat</th> <th>Day of Week</th>\n",
       "        </tr>\n",
       "    </thead>\n",
       "    <tbody>\n",
       "        <tr>\n",
       "            <td>Daily Special </td> <td>Monday     </td>\n",
       "        </tr>\n",
       "        <tr>\n",
       "            <td>Salad Bar     </td> <td>Tuesday    </td>\n",
       "        </tr>\n",
       "        <tr>\n",
       "            <td>Sandwich      </td> <td>Wednesday  </td>\n",
       "        </tr>\n",
       "        <tr>\n",
       "            <td>Quesadilla    </td> <td>Thursday   </td>\n",
       "        </tr>\n",
       "        <tr>\n",
       "            <td>Daily Special </td> <td>Friday     </td>\n",
       "        </tr>\n",
       "    </tbody>\n",
       "</table>"
      ],
      "text/plain": [
       "What I can eat | Day of Week\n",
       "Daily Special  | Monday\n",
       "Salad Bar      | Tuesday\n",
       "Sandwich       | Wednesday\n",
       "Quesadilla     | Thursday\n",
       "Daily Special  | Friday"
      ]
     },
     "execution_count": 20,
     "metadata": {},
     "output_type": "execute_result"
    }
   ],
   "source": [
    "cafe_options_table.sample(5).with_columns('Day of Week',weekday)"
   ]
  },
  {
   "cell_type": "markdown",
   "id": "cbc5b9d7",
   "metadata": {},
   "source": [
    "# Appending Arrays"
   ]
  },
  {
   "cell_type": "code",
   "execution_count": 21,
   "id": "7b0eeba5",
   "metadata": {},
   "outputs": [
    {
     "data": {
      "text/plain": [
       "array(['Monday', 'Tuesday', 'Wednesday', 'Thursday', 'Friday'],\n",
       "      dtype='<U9')"
      ]
     },
     "execution_count": 21,
     "metadata": {},
     "output_type": "execute_result"
    }
   ],
   "source": [
    "weekday"
   ]
  },
  {
   "cell_type": "code",
   "execution_count": 22,
   "id": "b0c31186",
   "metadata": {},
   "outputs": [
    {
     "data": {
      "text/plain": [
       "array(['Monday', 'Tuesday', 'Wednesday', 'Thursday', 'Friday', 'Saturday'],\n",
       "      dtype='<U9')"
      ]
     },
     "execution_count": 22,
     "metadata": {},
     "output_type": "execute_result"
    }
   ],
   "source": [
    "add_saturday = np.append(weekday,'Saturday')\n",
    "add_saturday"
   ]
  },
  {
   "cell_type": "code",
   "execution_count": 23,
   "id": "655c767a",
   "metadata": {},
   "outputs": [],
   "source": [
    "weekend = make_array('Saturday','Sunday')"
   ]
  },
  {
   "cell_type": "code",
   "execution_count": 24,
   "id": "4937be61",
   "metadata": {},
   "outputs": [],
   "source": [
    "full_week = np.append(weekday,weekend)"
   ]
  },
  {
   "cell_type": "code",
   "execution_count": 25,
   "id": "02c714e7",
   "metadata": {},
   "outputs": [
    {
     "data": {
      "text/plain": [
       "array(['Monday', 'Tuesday', 'Wednesday', 'Thursday', 'Friday', 'Saturday',\n",
       "       'Sunday'],\n",
       "      dtype='<U9')"
      ]
     },
     "execution_count": 25,
     "metadata": {},
     "output_type": "execute_result"
    }
   ],
   "source": [
    "full_week"
   ]
  },
  {
   "cell_type": "markdown",
   "id": "a516e52d",
   "metadata": {},
   "source": [
    "# For the probability demo"
   ]
  },
  {
   "cell_type": "markdown",
   "id": "a4c7eb2d",
   "metadata": {},
   "source": [
    "The cell below is a function that I have defined to analyze an input list/array and prints out a statement that reports the element that repeats the most consecutively, and the length of that streak "
   ]
  },
  {
   "cell_type": "code",
   "execution_count": 26,
   "id": "6ba3e859",
   "metadata": {},
   "outputs": [],
   "source": [
    "def longest_consecutive(input_list):\n",
    "    \n",
    "    longest_repeat = None         #the element in the list that repeats the most, so far\n",
    "    \n",
    "    current_number = None          #the element that the program is 'currently checking,' always testing\n",
    "                                   # to see if it exceeds the max\n",
    "    \n",
    "    repeated_times = 0             #the number of times the longest_repeat appears consecutively\n",
    "    \n",
    "    current_number_repeat = 0      #the number of times the current_number appears consecutively\n",
    "    \n",
    "    #this for-loop checks the elements in the list, in order, item by item.\n",
    "    for i in input_list:\n",
    "        \n",
    "        if current_number != i:   #if item 'i' in the input_list is different than the current_number we are tracking\n",
    "            current_number = i    # we are tracking a new element, therefore re-assign 'i' to 'current_number'\n",
    "            current_number_repeat = 1  #we are re-starting the count so it starts off as 1.\n",
    "        else:\n",
    "            current_number_repeat += 1   #if item 'i' is the same as the current-number, then it is a succeeding term\n",
    "                                         #in a consecutive sequence, therefore increase the count by one. \n",
    "        \n",
    "        \n",
    "        #if at any point the current_number reaches a higher number of consecutive terms, we have a new leader in \n",
    "        #consecutive terms in the list. Thus, we re-assign our 'current' variables to the variables that hold info\n",
    "        #on the greatest value.\n",
    "        \n",
    "        if current_number_repeat > repeated_times:  \n",
    "            longest_repeat = current_number\n",
    "            repeated_times = current_number_repeat\n",
    "            \n",
    "    print('The longest streak was',longest_repeat,'which showed up',repeated_times,'times')\n",
    "    #return longest_repeat , repeated_times"
   ]
  },
  {
   "cell_type": "markdown",
   "id": "4993159f",
   "metadata": {},
   "source": [
    "The cell below uses the `np.random.choice` method to randomly samples from the array containing the results of a coin flip, to simulate 100 coin flips (originally, however, feel free to tweak this value). We finally use the defined function above (i.e.`longest_consecutive`) to print out the result that resulted the most consecutive times."
   ]
  },
  {
   "cell_type": "code",
   "execution_count": 31,
   "id": "92467836",
   "metadata": {},
   "outputs": [
    {
     "name": "stdout",
     "output_type": "stream",
     "text": [
      "['H' 'T' 'T' 'T' 'H' 'T' 'T' 'T' 'T' 'T' 'T' 'T' 'H' 'H' 'H' 'H' 'H' 'T'\n",
      " 'H' 'H' 'T' 'H' 'H' 'H' 'H' 'T' 'T' 'T' 'T' 'T' 'T' 'T' 'T' 'T' 'T' 'T'\n",
      " 'T' 'T' 'T' 'H' 'H' 'H' 'H' 'T' 'H' 'H' 'H' 'T' 'H' 'T' 'H' 'T' 'T' 'T'\n",
      " 'T' 'T' 'T' 'T' 'H' 'H' 'T' 'H' 'T' 'H' 'H' 'T' 'H' 'T' 'H' 'H' 'T' 'H'\n",
      " 'T' 'H' 'H' 'H' 'H' 'T' 'T' 'H' 'T' 'T' 'T' 'H' 'T' 'T' 'T' 'H' 'T' 'H'\n",
      " 'H' 'T' 'T' 'H' 'H' 'T' 'T' 'H' 'H' 'T']\n",
      "The longest streak was T which showed up 14 times\n"
     ]
    }
   ],
   "source": [
    "#feel free to run this cell as many times as you would like. Take note on how large the streaks get based upon the \n",
    "#number of coin flips you are simulating. \n",
    "\n",
    "number_of_flips = 100\n",
    "#originally 100\n",
    "\n",
    "coin_flip_results = make_array('T','H')\n",
    "\n",
    "hella_coin_flips = np.random.choice( coin_flip_results , number_of_flips )\n",
    "\n",
    "\n",
    "print(hella_coin_flips)\n",
    "longest_consecutive(hella_coin_flips)"
   ]
  },
  {
   "cell_type": "code",
   "execution_count": 32,
   "id": "59b4f2c5",
   "metadata": {},
   "outputs": [
    {
     "data": {
      "text/plain": [
       "44"
      ]
     },
     "execution_count": 32,
     "metadata": {},
     "output_type": "execute_result"
    }
   ],
   "source": [
    "sum(hella_coin_flips == 'H')"
   ]
  },
  {
   "cell_type": "code",
   "execution_count": 33,
   "id": "78abaab8",
   "metadata": {},
   "outputs": [
    {
     "data": {
      "text/plain": [
       "56"
      ]
     },
     "execution_count": 33,
     "metadata": {},
     "output_type": "execute_result"
    }
   ],
   "source": [
    "sum(hella_coin_flips == 'T')"
   ]
  },
  {
   "cell_type": "markdown",
   "id": "04135da2",
   "metadata": {},
   "source": [
    "## The same steps above, but using `sample_proportions`"
   ]
  },
  {
   "cell_type": "code",
   "execution_count": 35,
   "id": "60c3ef50",
   "metadata": {},
   "outputs": [
    {
     "data": {
      "text/plain": [
       "array([ 0.5,  0.5])"
      ]
     },
     "execution_count": 35,
     "metadata": {},
     "output_type": "execute_result"
    }
   ],
   "source": [
    "heads_or_tails = make_array(.50,.50)\n",
    "sample_proportions(100,heads_or_tails)"
   ]
  },
  {
   "cell_type": "code",
   "execution_count": null,
   "id": "67aac559",
   "metadata": {},
   "outputs": [],
   "source": []
  }
 ],
 "metadata": {
  "kernelspec": {
   "display_name": "Python 3 (ipykernel)",
   "language": "python",
   "name": "python3"
  },
  "language_info": {
   "codemirror_mode": {
    "name": "ipython",
    "version": 3
   },
   "file_extension": ".py",
   "mimetype": "text/x-python",
   "name": "python",
   "nbconvert_exporter": "python",
   "pygments_lexer": "ipython3",
   "version": "3.10.11"
  }
 },
 "nbformat": 4,
 "nbformat_minor": 5
}
