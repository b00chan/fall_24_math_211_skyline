{
 "cells": [
  {
   "cell_type": "markdown",
   "id": "ad2e12c1",
   "metadata": {},
   "source": [
    "# [Python Reference Link](http://www.data8.org/sp20/python-reference.html)\n",
    "*Run the cell below so that we can set our modules up*"
   ]
  },
  {
   "cell_type": "code",
   "execution_count": null,
   "id": "ed49d269",
   "metadata": {},
   "outputs": [],
   "source": [
    "import numpy as np\n",
    "from datascience import *\n",
    "\n",
    "# These lines set up graphing capabilities.\n",
    "import matplotlib\n",
    "%matplotlib inline\n",
    "import matplotlib.pyplot as plt\n",
    "plt.style.use('fivethirtyeight')\n",
    "import warnings\n",
    "warnings.simplefilter('ignore', FutureWarning)\n",
    "\n",
    "from ipywidgets import interact, interactive, fixed, interact_manual\n",
    "import ipywidgets as widgets"
   ]
  },
  {
   "cell_type": "markdown",
   "id": "5b6a4570",
   "metadata": {},
   "source": [
    "# Importing our data"
   ]
  },
  {
   "cell_type": "code",
   "execution_count": null,
   "id": "2569931d",
   "metadata": {},
   "outputs": [],
   "source": [
    "math211_survey = Table.read_table('MATH_211_Survey_Cleaned_GPA.csv')\n",
    "math211_survey"
   ]
  },
  {
   "cell_type": "markdown",
   "id": "c5f4467f",
   "metadata": {},
   "source": [
    "# Control Statements"
   ]
  },
  {
   "cell_type": "markdown",
   "id": "d612d0d3",
   "metadata": {},
   "source": [
    "## `if` statements"
   ]
  },
  {
   "cell_type": "code",
   "execution_count": null,
   "id": "783b5878",
   "metadata": {
    "scrolled": true
   },
   "outputs": [],
   "source": [
    "x = 20\n",
    "s = 'You are 20'"
   ]
  },
  {
   "cell_type": "code",
   "execution_count": null,
   "id": "163c9b15",
   "metadata": {},
   "outputs": [],
   "source": [
    "if x >= 21:\n",
    "    s = 'You may enter this bar/nightclub'\n",
    "s"
   ]
  },
  {
   "cell_type": "code",
   "execution_count": null,
   "id": "09045ad7",
   "metadata": {},
   "outputs": [],
   "source": [
    "if x >= 18:\n",
    "    s = 'You can legally vote'\n",
    "s"
   ]
  },
  {
   "cell_type": "markdown",
   "id": "f6427ea2",
   "metadata": {},
   "source": [
    "### Let's classify our survey responses to the introversion/extroversion question:\n",
    "We will consider respondents extroverted if they self-report a number above: **7** <br>\n",
    "We will consider respondents ambiverted if they self-report a number between: **3** and **8**<br>\n",
    "We will consider respondents introverted if they self-report a number below: **4**"
   ]
  },
  {
   "cell_type": "code",
   "execution_count": null,
   "id": "5a695386",
   "metadata": {},
   "outputs": [],
   "source": [
    "def introverted_or_extroverted(score):\n",
    "    if score > 7:\n",
    "        classification = 'extroverted'\n",
    "    elif score >3:\n",
    "        classification = 'ambivert'\n",
    "    else: \n",
    "        classification = 'introverted'\n",
    "    return classification\n",
    "\n",
    "introverted_or_extroverted(2)"
   ]
  },
  {
   "cell_type": "code",
   "execution_count": null,
   "id": "bc50cb0f",
   "metadata": {
    "scrolled": true
   },
   "outputs": [],
   "source": [
    "introversion_extroversion_array = math211_survey.apply(introverted_or_extroverted,'Introversion/Extraversion')\n",
    "introversion_extroversion_array"
   ]
  },
  {
   "cell_type": "code",
   "execution_count": null,
   "id": "3b28a2f4",
   "metadata": {
    "scrolled": true
   },
   "outputs": [],
   "source": [
    "introversion_extroversion_array == 'extroverted'"
   ]
  },
  {
   "cell_type": "code",
   "execution_count": null,
   "id": "801dcd18",
   "metadata": {},
   "outputs": [],
   "source": [
    "np.count_nonzero(introversion_extroversion_array == 'extroverted')"
   ]
  },
  {
   "cell_type": "markdown",
   "id": "4b2bed8c",
   "metadata": {},
   "source": [
    "## `for` loops \n"
   ]
  },
  {
   "cell_type": "code",
   "execution_count": null,
   "id": "de07e423",
   "metadata": {},
   "outputs": [],
   "source": [
    "for pet in make_array('cat','dog','rabbit','ferret'):\n",
    "    print_pet = pet.capitalize()\n",
    "    print('I love my '+print_pet)"
   ]
  },
  {
   "cell_type": "code",
   "execution_count": null,
   "id": "638e571a",
   "metadata": {},
   "outputs": [],
   "source": [
    "for beer_num in np.arange(99,0,-1):\n",
    "    print(beer_num,\"bottles of beer on the wall,\",beer_num,\"bottles of beer!\")\n",
    "    print(\"take one down, pass it around!\",beer_num-1,\"bottles of beer on the wall!\")"
   ]
  },
  {
   "cell_type": "markdown",
   "id": "e7284fd8",
   "metadata": {},
   "source": [
    "### For practice: using a `for`-loop to analyze our [STEM Center](https://skylinecollege.edu/stemcenter/) Webpage"
   ]
  },
  {
   "cell_type": "code",
   "execution_count": null,
   "id": "ee49c4f5",
   "metadata": {},
   "outputs": [],
   "source": [
    "STEM_Center_Webpage_string = 'The Skyline College STEM Center brings together academic and student support services for students taking science, technology, engineering and math courses.The center supports student success by ensuring students have access to resources such as academic tutoring, counseling services, a resource depository for STEM pathways and transfer, a hub for internships and work based learning opportunities, as well as a place where students and staff can collaborate and build a community and supportive connection. This STEM Center was brought to campus by a U.S. Department of Education, Title V, Developing Hispanic-Serving Institutions Program “Strengthening Pathways to Success in STEM” grant awarded in 2018.'\n",
    "STEM_Center_Webpage_string"
   ]
  },
  {
   "cell_type": "markdown",
   "id": "3ad93cb1",
   "metadata": {},
   "source": [
    "We'll use the `.split()` method to store each word into a list:"
   ]
  },
  {
   "cell_type": "code",
   "execution_count": null,
   "id": "6d1c402c",
   "metadata": {
    "scrolled": true
   },
   "outputs": [],
   "source": [
    "STEM_split = STEM_Center_Webpage_string.split()\n",
    "STEM_split"
   ]
  },
  {
   "cell_type": "markdown",
   "id": "7b8a5152",
   "metadata": {},
   "source": [
    "Now, we can use a for-loop to check the list to see how many times 'student' is mentioned on the webpage"
   ]
  },
  {
   "cell_type": "code",
   "execution_count": null,
   "id": "9068bc5a",
   "metadata": {
    "scrolled": false
   },
   "outputs": [],
   "source": [
    "#before we check the 'STEM_split' list, we have not found any words matching 'student' (not yet anyway)\n",
    "student_count = 0 \n",
    "\n",
    "#this for-loop will help us look through the list, word by word\n",
    "for word in STEM_split:\n",
    "    print('checking: ',word)\n",
    "    \n",
    "    if word == 'students':\n",
    "        #once we find the student, we will increase our student_count variable by adding +1 to it's \n",
    "        #previous value\n",
    "        \n",
    "        print(word + 'Found!') #this confirms we matched 'student'\n",
    "        \n",
    "        print(\"old count:\",student_count)\n",
    "        #student_count = (student_count + 1) #this will update the count\n",
    "        \n",
    "        student_count += 1\n",
    "        print(\"new count:\",student_count)\n",
    "        \n",
    "student_count"
   ]
  },
  {
   "cell_type": "markdown",
   "id": "136ccaa1",
   "metadata": {},
   "source": [
    "# Sampling Methods "
   ]
  },
  {
   "cell_type": "markdown",
   "id": "5e0227b6",
   "metadata": {},
   "source": [
    "## `np.random.choice`\n",
    "<img src=\"random_choice.png\" alt=\"drawing\" width=\"1200\"/>\n",
    "\n",
    "*From the [Python reference](http://www.data8.org/sp20/python-reference.html) page\n",
    "\n",
    "Consider the array of food we could get at the Sky Cafe here on campus: "
   ]
  },
  {
   "cell_type": "code",
   "execution_count": null,
   "id": "4e2215ae",
   "metadata": {},
   "outputs": [],
   "source": [
    "cafe_lunch_options = make_array('Salad Bar','Chicken Tendies','Quesadilla','Burger','Just hella fries',\n",
    "                                'Daily Special','Sandwich','Cup Noodle')\n",
    "cafe_lunch_options"
   ]
  },
  {
   "cell_type": "markdown",
   "id": "07ca6dd0",
   "metadata": {},
   "source": [
    "#### I forgot to bring my lunch from home today, what am I getting? Run the cell below:"
   ]
  },
  {
   "cell_type": "code",
   "execution_count": null,
   "id": "3c9967b1",
   "metadata": {},
   "outputs": [],
   "source": [
    "np.random.choice(cafe_lunch_options)"
   ]
  },
  {
   "cell_type": "markdown",
   "id": "12ed1061",
   "metadata": {},
   "source": [
    "#### Denise also forgot hers. She said, \"I don't know, surprise me.\" What are we each getting?"
   ]
  },
  {
   "cell_type": "code",
   "execution_count": null,
   "id": "6fabf59a",
   "metadata": {},
   "outputs": [],
   "source": [
    "np.random.choice(cafe_lunch_options,2)"
   ]
  },
  {
   "cell_type": "code",
   "execution_count": null,
   "id": "e54151f8",
   "metadata": {},
   "outputs": [],
   "source": [
    "weekday= make_array('Monday','Tuesday','Wednesday','Thursday','Friday')\n",
    "for day in weekday:\n",
    "    im_eating = np.random.choice(cafe_lunch_options)\n",
    "    print(day,im_eating)"
   ]
  },
  {
   "cell_type": "markdown",
   "id": "a329cf89",
   "metadata": {},
   "source": [
    "## `tbl.sample`\n",
    "<img src=\"table_sample.png\" alt=\"drawing\" width=\"1200\"/>\n",
    "\n",
    "*From the [Python reference](http://www.data8.org/sp20/python-reference.html) page"
   ]
  },
  {
   "cell_type": "code",
   "execution_count": null,
   "id": "7d368bd4",
   "metadata": {},
   "outputs": [],
   "source": [
    "cafe_options_table = Table().with_columns('What I can eat',cafe_lunch_options)\n",
    "cafe_options_table"
   ]
  },
  {
   "cell_type": "code",
   "execution_count": null,
   "id": "a21fc773",
   "metadata": {},
   "outputs": [],
   "source": [
    "cafe_options_table.sample(5).with_columns('Day of Week',weekday)"
   ]
  },
  {
   "cell_type": "markdown",
   "id": "cbc5b9d7",
   "metadata": {},
   "source": [
    "# Appending Arrays"
   ]
  },
  {
   "cell_type": "code",
   "execution_count": null,
   "id": "7b0eeba5",
   "metadata": {},
   "outputs": [],
   "source": [
    "weekday"
   ]
  },
  {
   "cell_type": "code",
   "execution_count": null,
   "id": "b0c31186",
   "metadata": {},
   "outputs": [],
   "source": [
    "add_saturday = np.append(weekday,'Saturday')\n",
    "add_saturday"
   ]
  },
  {
   "cell_type": "code",
   "execution_count": null,
   "id": "655c767a",
   "metadata": {},
   "outputs": [],
   "source": [
    "weekend = make_array('Saturday','Sunday')"
   ]
  },
  {
   "cell_type": "code",
   "execution_count": null,
   "id": "4937be61",
   "metadata": {},
   "outputs": [],
   "source": [
    "full_week = np.append(weekday,weekend)"
   ]
  },
  {
   "cell_type": "code",
   "execution_count": null,
   "id": "02c714e7",
   "metadata": {},
   "outputs": [],
   "source": [
    "full_week"
   ]
  },
  {
   "cell_type": "markdown",
   "id": "a516e52d",
   "metadata": {},
   "source": [
    "# For the probability demo"
   ]
  },
  {
   "cell_type": "markdown",
   "id": "a4c7eb2d",
   "metadata": {},
   "source": [
    "The cell below is a function that I have defined to analyze an input list/array and prints out a statement that reports the element that repeats the most consecutively, and the length of that streak "
   ]
  },
  {
   "cell_type": "code",
   "execution_count": null,
   "id": "6ba3e859",
   "metadata": {},
   "outputs": [],
   "source": [
    "def longest_consecutive(input_list):\n",
    "    \n",
    "    longest_repeat = None         #the element in the list that repeats the most, so far\n",
    "    \n",
    "    current_number = None          #the element that the program is 'currently checking,' always testing\n",
    "                                   # to see if it exceeds the max\n",
    "    \n",
    "    repeated_times = 0             #the number of times the longest_repeat appears consecutively\n",
    "    \n",
    "    current_number_repeat = 0      #the number of times the current_number appears consecutively\n",
    "    \n",
    "    #this for-loop checks the elements in the list, in order, item by item.\n",
    "    for i in input_list:\n",
    "        \n",
    "        if current_number != i:   #if item 'i' in the input_list is different than the current_number we are tracking\n",
    "            current_number = i    # we are tracking a new element, therefore re-assign 'i' to 'current_number'\n",
    "            current_number_repeat = 1  #we are re-starting the count so it starts off as 1.\n",
    "        else:\n",
    "            current_number_repeat += 1   #if item 'i' is the same as the current-number, then it is a succeeding term\n",
    "                                         #in a consecutive sequence, therefore increase the count by one. \n",
    "        \n",
    "        \n",
    "        #if at any point the current_number reaches a higher number of consecutive terms, we have a new leader in \n",
    "        #consecutive terms in the list. Thus, we re-assign our 'current' variables to the variables that hold info\n",
    "        #on the greatest value.\n",
    "        \n",
    "        if current_number_repeat > repeated_times:  \n",
    "            longest_repeat = current_number\n",
    "            repeated_times = current_number_repeat\n",
    "            \n",
    "    print('The longest streak was',longest_repeat,'which showed up',repeated_times,'times')\n",
    "    #return longest_repeat , repeated_times"
   ]
  },
  {
   "cell_type": "markdown",
   "id": "4993159f",
   "metadata": {},
   "source": [
    "The cell below uses the `np.random.choice` method to randomly samples from the array containing the results of a coin flip, to simulate 100 coin flips (originally, however, feel free to tweak this value). We finally use the defined function above (i.e.`longest_consecutive`) to print out the result that resulted the most consecutive times."
   ]
  },
  {
   "cell_type": "code",
   "execution_count": null,
   "id": "92467836",
   "metadata": {},
   "outputs": [],
   "source": [
    "#feel free to run this cell as many times as you would like. Take note on how large the streaks get based upon the \n",
    "#number of coin flips you are simulating. \n",
    "\n",
    "number_of_flips = 100\n",
    "#originally 100\n",
    "\n",
    "coin_flip_results = make_array('T','H')\n",
    "\n",
    "hella_coin_flips = np.random.choice( coin_flip_results , number_of_flips )\n",
    "\n",
    "\n",
    "print(hella_coin_flips)\n",
    "longest_consecutive(hella_coin_flips)"
   ]
  },
  {
   "cell_type": "code",
   "execution_count": null,
   "id": "59b4f2c5",
   "metadata": {},
   "outputs": [],
   "source": [
    "sum(hella_coin_flips == 'H')"
   ]
  }
 ],
 "metadata": {
  "kernelspec": {
   "display_name": "Python 3 (ipykernel)",
   "language": "python",
   "name": "python3"
  },
  "language_info": {
   "codemirror_mode": {
    "name": "ipython",
    "version": 3
   },
   "file_extension": ".py",
   "mimetype": "text/x-python",
   "name": "python",
   "nbconvert_exporter": "python",
   "pygments_lexer": "ipython3",
   "version": "3.10.11"
  }
 },
 "nbformat": 4,
 "nbformat_minor": 5
}
