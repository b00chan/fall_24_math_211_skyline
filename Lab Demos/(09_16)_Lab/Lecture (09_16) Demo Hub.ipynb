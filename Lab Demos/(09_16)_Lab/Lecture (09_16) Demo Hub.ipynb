{
 "cells": [
  {
   "cell_type": "markdown",
   "id": "ad2e12c1",
   "metadata": {},
   "source": [
    "# [Python Reference Link](http://www.data8.org/sp20/python-reference.html)\n",
    "*Run the cell below so that we can set our modules up*"
   ]
  },
  {
   "cell_type": "code",
   "execution_count": null,
   "id": "ed49d269",
   "metadata": {},
   "outputs": [],
   "source": [
    "import numpy as np\n",
    "from datascience import *\n",
    "\n",
    "# These lines set up graphing capabilities.\n",
    "import matplotlib\n",
    "%matplotlib inline\n",
    "import matplotlib.pyplot as plt\n",
    "plt.style.use('fivethirtyeight')\n",
    "import warnings\n",
    "warnings.simplefilter('ignore', FutureWarning)\n",
    "\n",
    "from ipywidgets import interact, interactive, fixed, interact_manual\n",
    "import ipywidgets as widgets"
   ]
  },
  {
   "cell_type": "markdown",
   "id": "5b6a4570",
   "metadata": {},
   "source": [
    "# Creating Functions"
   ]
  },
  {
   "cell_type": "code",
   "execution_count": null,
   "id": "2569931d",
   "metadata": {},
   "outputs": [],
   "source": [
    "def triple(sample_input):\n",
    "    #\n",
    "    ...\n",
    "    return ..."
   ]
  },
  {
   "cell_type": "code",
   "execution_count": null,
   "id": "b3b217d0",
   "metadata": {},
   "outputs": [],
   "source": [
    "triple(8)"
   ]
  },
  {
   "cell_type": "code",
   "execution_count": null,
   "id": "3f1728b1",
   "metadata": {},
   "outputs": [],
   "source": [
    "triple('Haha')"
   ]
  },
  {
   "cell_type": "code",
   "execution_count": null,
   "id": "e5b520f7",
   "metadata": {},
   "outputs": [],
   "source": [
    "def convert_fahrenheit_to_celsius\n",
    "    "
   ]
  },
  {
   "cell_type": "code",
   "execution_count": null,
   "id": "cb0c708a",
   "metadata": {},
   "outputs": [],
   "source": [
    "convert_fahrenheit_to_celsius(100)"
   ]
  },
  {
   "cell_type": "markdown",
   "id": "c5f4467f",
   "metadata": {},
   "source": [
    "# Applying Functions\n",
    "We will use Spring 2024's survey data to practice applying our functions"
   ]
  },
  {
   "cell_type": "code",
   "execution_count": null,
   "id": "783b5878",
   "metadata": {
    "scrolled": true
   },
   "outputs": [],
   "source": [
    "math211_survey = Table.read_table('Sp24_Math_211_Survey_cleaned.csv')\n",
    "math211_survey.show(50)"
   ]
  },
  {
   "cell_type": "markdown",
   "id": "182c554c",
   "metadata": {},
   "source": [
    "### Inquiry: \n",
    "Although the survey lists our responses about desired travel destination, **by name**, I want to capture a sense of **how far** they are from our campus. So, I used a website (called [\"distance.to\"](https://www.distance.to/San-Bruno,CA,USA) to find the distance to each mentioned travel destination and I got the following table: "
   ]
  },
  {
   "cell_type": "code",
   "execution_count": null,
   "id": "2f00f240",
   "metadata": {},
   "outputs": [],
   "source": [
    "travel_distances = Table.read_table('Travel_Destination_Distances.csv')\n",
    "travel_distances.show()"
   ]
  },
  {
   "cell_type": "code",
   "execution_count": null,
   "id": "60180554",
   "metadata": {},
   "outputs": [],
   "source": [
    "# Practice with extracting the distance from Skyline College to San Jose\n",
    "travel_distances.where('Place','San Jose').column('Distance (mi)').item(0)"
   ]
  },
  {
   "cell_type": "code",
   "execution_count": null,
   "id": "efe9a521",
   "metadata": {},
   "outputs": [],
   "source": [
    "def find_distance(travel_destination):\n",
    "    mileage = ...\n",
    "    return mileage"
   ]
  },
  {
   "cell_type": "code",
   "execution_count": null,
   "id": "95eb8c75",
   "metadata": {},
   "outputs": [],
   "source": [
    "find_distance('Hawaii')"
   ]
  },
  {
   "cell_type": "markdown",
   "id": "136ccaa1",
   "metadata": {},
   "source": [
    "### Applying our function to the table\n",
    "First, we will start with looking at how to import our data into the notebook:\n",
    "<img src=\"apply_function.png\" alt=\"drawing\" width=\"1200\"/>\n",
    "*From the [Python reference](http://www.data8.org/sp20/python-reference.html) page"
   ]
  },
  {
   "cell_type": "code",
   "execution_count": null,
   "id": "571303f3",
   "metadata": {},
   "outputs": [],
   "source": [
    "# Selecting a narrower set of columns (for easier viewing)\n",
    "math211_survey.select('Timestamp','Surveyor','GPA','Introversion/Extroversion','Travel')"
   ]
  },
  {
   "cell_type": "code",
   "execution_count": null,
   "id": "9339d371",
   "metadata": {},
   "outputs": [],
   "source": [
    "# Practice using the apply method here\n",
    "..."
   ]
  },
  {
   "cell_type": "code",
   "execution_count": null,
   "id": "be9903dc",
   "metadata": {},
   "outputs": [],
   "source": [
    "..."
   ]
  },
  {
   "cell_type": "code",
   "execution_count": null,
   "id": "f7acb023",
   "metadata": {},
   "outputs": [],
   "source": [
    "..."
   ]
  },
  {
   "cell_type": "markdown",
   "id": "63a196ca",
   "metadata": {},
   "source": [
    "## Let's create some other functions to try and apply to our table"
   ]
  },
  {
   "cell_type": "markdown",
   "id": "9ea60805",
   "metadata": {},
   "source": [
    "With your group, come up with another function that we can try and apply to `math211_survey` table. If you can, define your function and apply it to the table. Otherwise, if we are unfamiliar with Python methods (i.e. string methods, list methods, etc.), check in with me to chat about your approach to the function and how would you apply it. Feel free to get creative! "
   ]
  },
  {
   "cell_type": "code",
   "execution_count": null,
   "id": "23a1731c",
   "metadata": {},
   "outputs": [],
   "source": [
    "math211_survey.where('')"
   ]
  },
  {
   "cell_type": "markdown",
   "id": "a191d698",
   "metadata": {},
   "source": [
    "If you aren't comfortable coding it, try describing what you would do in the text cell below:"
   ]
  },
  {
   "cell_type": "markdown",
   "id": "b948f1fc",
   "metadata": {},
   "source": []
  }
 ],
 "metadata": {
  "kernelspec": {
   "display_name": "Python 3 (ipykernel)",
   "language": "python",
   "name": "python3"
  },
  "language_info": {
   "codemirror_mode": {
    "name": "ipython",
    "version": 3
   },
   "file_extension": ".py",
   "mimetype": "text/x-python",
   "name": "python",
   "nbconvert_exporter": "python",
   "pygments_lexer": "ipython3",
   "version": "3.10.11"
  }
 },
 "nbformat": 4,
 "nbformat_minor": 5
}
