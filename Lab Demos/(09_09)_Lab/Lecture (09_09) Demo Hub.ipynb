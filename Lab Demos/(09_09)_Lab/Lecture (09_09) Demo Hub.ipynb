{
 "cells": [
  {
   "cell_type": "markdown",
   "id": "7f85cd2c",
   "metadata": {},
   "source": [
    "# [Python Reference Link](http://www.data8.org/sp20/python-reference.html)\n",
    "*Run the cell below so that we can set our modules up*"
   ]
  },
  {
   "cell_type": "code",
   "execution_count": null,
   "id": "3b5e82ac",
   "metadata": {},
   "outputs": [],
   "source": [
    "import numpy as np\n",
    "from datascience import *\n",
    "import math"
   ]
  },
  {
   "cell_type": "markdown",
   "id": "219d2543",
   "metadata": {},
   "source": [
    "# Numbers "
   ]
  },
  {
   "cell_type": "code",
   "execution_count": null,
   "id": "22c36f0c",
   "metadata": {},
   "outputs": [],
   "source": [
    "10/3"
   ]
  },
  {
   "cell_type": "code",
   "execution_count": null,
   "id": "6846b5bd",
   "metadata": {},
   "outputs": [],
   "source": [
    "3"
   ]
  },
  {
   "cell_type": "code",
   "execution_count": null,
   "id": "d976a29b",
   "metadata": {},
   "outputs": [],
   "source": [
    "3.0"
   ]
  },
  {
   "cell_type": "code",
   "execution_count": null,
   "id": "35263ecb",
   "metadata": {},
   "outputs": [],
   "source": [
    "1.329487569238476592348765293456293478650234875029438"
   ]
  },
  {
   "cell_type": "code",
   "execution_count": null,
   "id": "ef9133ac",
   "metadata": {},
   "outputs": [],
   "source": [
    "123.5**123"
   ]
  },
  {
   "cell_type": "code",
   "execution_count": null,
   "id": "609cf4f0",
   "metadata": {},
   "outputs": [],
   "source": []
  },
  {
   "cell_type": "markdown",
   "id": "4276d7f4",
   "metadata": {},
   "source": [
    "# Strings"
   ]
  },
  {
   "cell_type": "code",
   "execution_count": null,
   "id": "9fce4afd",
   "metadata": {},
   "outputs": [],
   "source": [
    "'Here is a string'"
   ]
  },
  {
   "cell_type": "code",
   "execution_count": null,
   "id": "e720ee5e",
   "metadata": {},
   "outputs": [],
   "source": [
    "\"Here is a string as well\""
   ]
  },
  {
   "cell_type": "code",
   "execution_count": null,
   "id": "2b820986",
   "metadata": {},
   "outputs": [],
   "source": [
    "greeting = 'hi, wassup'"
   ]
  },
  {
   "cell_type": "code",
   "execution_count": null,
   "id": "4b600a55",
   "metadata": {},
   "outputs": [],
   "source": [
    "greeting"
   ]
  },
  {
   "cell_type": "code",
   "execution_count": null,
   "id": "cf412267",
   "metadata": {},
   "outputs": [],
   "source": [
    "greeting +' class'"
   ]
  },
  {
   "cell_type": "code",
   "execution_count": null,
   "id": "ac893ae8",
   "metadata": {},
   "outputs": [],
   "source": [
    "x = 'ha'\n",
    "'mua'+x*10"
   ]
  },
  {
   "cell_type": "markdown",
   "id": "bf98c13b",
   "metadata": {},
   "source": [
    "### Challenge! \n",
    "\n",
    "In the code cell below, try to create a print line that says (verbatim): <br> \n",
    "\n",
    "\"I don't like sand.\" - Anakin Skywalker "
   ]
  },
  {
   "cell_type": "code",
   "execution_count": null,
   "id": "003e09db",
   "metadata": {},
   "outputs": [],
   "source": []
  },
  {
   "cell_type": "markdown",
   "id": "bc75ee7e",
   "metadata": {},
   "source": [
    "# Types"
   ]
  },
  {
   "cell_type": "code",
   "execution_count": null,
   "id": "eabdc642",
   "metadata": {},
   "outputs": [],
   "source": [
    "float(str(5678))"
   ]
  },
  {
   "cell_type": "code",
   "execution_count": null,
   "id": "385b7bfa",
   "metadata": {},
   "outputs": [],
   "source": [
    "type(greeting)"
   ]
  },
  {
   "cell_type": "code",
   "execution_count": null,
   "id": "2d37815d",
   "metadata": {},
   "outputs": [],
   "source": [
    "abs?"
   ]
  },
  {
   "cell_type": "code",
   "execution_count": null,
   "id": "af9bc296",
   "metadata": {},
   "outputs": [],
   "source": []
  },
  {
   "cell_type": "markdown",
   "id": "49ac03aa",
   "metadata": {},
   "source": [
    "# Looking at the difference between the Strings, Ints, and Floats"
   ]
  },
  {
   "cell_type": "code",
   "execution_count": null,
   "id": "212a2265",
   "metadata": {},
   "outputs": [],
   "source": [
    "print('4'+'4')\n",
    "print(4+4)"
   ]
  },
  {
   "cell_type": "code",
   "execution_count": null,
   "id": "7dadff8b",
   "metadata": {},
   "outputs": [],
   "source": []
  },
  {
   "cell_type": "markdown",
   "id": "a1bc0d6a",
   "metadata": {},
   "source": [
    "# Arrays and the [NumPy Module](https://numpy.org/doc/stable/reference/index.html)"
   ]
  },
  {
   "cell_type": "code",
   "execution_count": null,
   "id": "2941b733",
   "metadata": {},
   "outputs": [],
   "source": [
    "first_four = make_array(1,2,3,4)"
   ]
  },
  {
   "cell_type": "code",
   "execution_count": null,
   "id": "c1e02db0",
   "metadata": {},
   "outputs": [],
   "source": [
    "first_four"
   ]
  },
  {
   "cell_type": "code",
   "execution_count": null,
   "id": "b4175494",
   "metadata": {},
   "outputs": [],
   "source": [
    "random = make_array(1,4,\"this string\")"
   ]
  },
  {
   "cell_type": "code",
   "execution_count": null,
   "id": "fb351c16",
   "metadata": {},
   "outputs": [],
   "source": [
    "random*4"
   ]
  },
  {
   "cell_type": "markdown",
   "id": "8f91cb36",
   "metadata": {},
   "source": [
    "# `np.arange` from the [NumPy](https://numpy.org/doc/stable/reference/generated/numpy.arange.html) module"
   ]
  },
  {
   "cell_type": "code",
   "execution_count": null,
   "id": "1dc2c1b2",
   "metadata": {},
   "outputs": [],
   "source": [
    "#np.arange(stop)\n",
    "np.arange(6)"
   ]
  },
  {
   "cell_type": "code",
   "execution_count": null,
   "id": "e3b883ef",
   "metadata": {},
   "outputs": [],
   "source": [
    "#np.arange(start,stop)\n",
    "np.arange(6,10)"
   ]
  },
  {
   "cell_type": "code",
   "execution_count": null,
   "id": "6f36e3fa",
   "metadata": {},
   "outputs": [],
   "source": [
    "#np.arange(start,stop,step)\n",
    "np.arange(2,8,3)"
   ]
  },
  {
   "cell_type": "markdown",
   "id": "32e02147",
   "metadata": {},
   "source": [
    "# Building Tables"
   ]
  },
  {
   "cell_type": "code",
   "execution_count": null,
   "id": "39e14385",
   "metadata": {},
   "outputs": [],
   "source": [
    "math211_survey = Table.read_table('MATH 211 Fall 2024 Data Science Survey (Responses) - Form Responses 1.csv')\n",
    "math211_survey.show(4)"
   ]
  },
  {
   "cell_type": "code",
   "execution_count": null,
   "id": "81599f63",
   "metadata": {},
   "outputs": [],
   "source": [
    "survey = Table.read_table('MATH 211 Fall 2024 Data Science Survey Cleaned Labels.csv')\n",
    "survey.show(5)"
   ]
  },
  {
   "cell_type": "code",
   "execution_count": null,
   "id": "1af07748",
   "metadata": {},
   "outputs": [],
   "source": [
    "subscription = make_array('Netflix','HBO Max','Hulu','Crunchyroll','Spotify','DoorDash','AmazonPrime','Discord Nitro')\n",
    "subscription"
   ]
  },
  {
   "cell_type": "code",
   "execution_count": null,
   "id": "6f3f00d7",
   "metadata": {},
   "outputs": [],
   "source": [
    "#Amazon and Discord are annual fees\n",
    "month_fee_cost = make_array(19.99,14.99,9.99,9.99,9.99,9.99,(130/12),(169.97/12))\n",
    "month_fee_cost"
   ]
  },
  {
   "cell_type": "code",
   "execution_count": null,
   "id": "7a2198d0",
   "metadata": {},
   "outputs": [],
   "source": [
    "bryans_monthly_subscriptions = Table().with_columns('Subscription',subscription,'$$ per month',month_fee_cost)\n",
    "bryans_monthly_subscriptions"
   ]
  },
  {
   "cell_type": "code",
   "execution_count": null,
   "id": "153b407f",
   "metadata": {},
   "outputs": [],
   "source": [
    "#annual_cost = bryans_monthly_subscriptions.column('$$ per month') * 12\n",
    "#OR, below\n",
    "annual_cost = month_fee_cost *12 \n",
    "annual_cost"
   ]
  },
  {
   "cell_type": "code",
   "execution_count": null,
   "id": "270a46b3",
   "metadata": {},
   "outputs": [],
   "source": [
    "new_table = bryans_monthly_subscriptions.with_column('$$ each year',annual_cost)#.drop('$$ per month')\n",
    "new_table"
   ]
  },
  {
   "cell_type": "code",
   "execution_count": null,
   "id": "aaaf5e30",
   "metadata": {},
   "outputs": [],
   "source": [
    "sum(annual_cost)"
   ]
  },
  {
   "cell_type": "code",
   "execution_count": null,
   "id": "1c77d652",
   "metadata": {},
   "outputs": [],
   "source": [
    "new_table.take(np.arange(4))"
   ]
  },
  {
   "cell_type": "code",
   "execution_count": null,
   "id": "10e0cabe",
   "metadata": {},
   "outputs": [],
   "source": [
    "#since new_table.take() was not assigned to a variable (old or new) the result of the .take() method was not saved\n",
    "new_table"
   ]
  },
  {
   "cell_type": "markdown",
   "id": "16e10c1f",
   "metadata": {},
   "source": [
    "# Order of Operations with tables"
   ]
  },
  {
   "cell_type": "markdown",
   "id": "858866ea",
   "metadata": {},
   "source": [
    "Let's run the cell below and take a look at the following movie dataset:"
   ]
  },
  {
   "cell_type": "code",
   "execution_count": null,
   "id": "bdd939fa",
   "metadata": {},
   "outputs": [],
   "source": [
    "movies = Table.read_table('Movies - Cleaned.csv')\n",
    "movies.show(5)"
   ]
  },
  {
   "cell_type": "markdown",
   "id": "a5727d2d",
   "metadata": {},
   "source": [
    "## Question: How many movies in this data set were sequels?"
   ]
  },
  {
   "cell_type": "code",
   "execution_count": null,
   "id": "2a58a3f6",
   "metadata": {},
   "outputs": [],
   "source": [
    "..."
   ]
  },
  {
   "cell_type": "code",
   "execution_count": null,
   "id": "effa7aa4",
   "metadata": {},
   "outputs": [],
   "source": []
  },
  {
   "cell_type": "code",
   "execution_count": null,
   "id": "994eb551",
   "metadata": {},
   "outputs": [],
   "source": []
  },
  {
   "cell_type": "markdown",
   "id": "6f2aede5",
   "metadata": {},
   "source": [
    "## How many movies had sequels that were rated higher than the original? On average, do they perform better, or worse? "
   ]
  },
  {
   "cell_type": "code",
   "execution_count": null,
   "id": "d1c7e4a0",
   "metadata": {},
   "outputs": [],
   "source": [
    "..."
   ]
  },
  {
   "cell_type": "code",
   "execution_count": null,
   "id": "136fb899",
   "metadata": {},
   "outputs": [],
   "source": []
  },
  {
   "cell_type": "markdown",
   "id": "ec47c936",
   "metadata": {},
   "source": [
    "## Challenge!"
   ]
  },
  {
   "cell_type": "markdown",
   "id": "be6a86a3",
   "metadata": {},
   "source": [
    "Let's suppose that you had the movies data stored in a USB Drive. You know how computers almost always scream at you for yanking out the USB Drive before you 'eject' it? Usually, nothing happens...\n",
    "\n",
    "But in this situation, let's say it does and you get the following table below: "
   ]
  },
  {
   "cell_type": "code",
   "execution_count": null,
   "id": "c7f3bcd6",
   "metadata": {},
   "outputs": [],
   "source": [
    "challenge_movies = movies.drop('Order','index','Description','URL','Num Votes','Directors','Release Date').sample(movies.num_rows,with_replacement = False)\n",
    "challenge_movies"
   ]
  },
  {
   "cell_type": "markdown",
   "id": "e0ef3e7c",
   "metadata": {},
   "source": [
    "### Question: How can we use our methods to re-order our rows back to their original state? We unfortunately lost the columns for good... :("
   ]
  },
  {
   "cell_type": "code",
   "execution_count": null,
   "id": "68c03b39",
   "metadata": {},
   "outputs": [],
   "source": [
    "..."
   ]
  }
 ],
 "metadata": {
  "kernelspec": {
   "display_name": "Python 3 (ipykernel)",
   "language": "python",
   "name": "python3"
  },
  "language_info": {
   "codemirror_mode": {
    "name": "ipython",
    "version": 3
   },
   "file_extension": ".py",
   "mimetype": "text/x-python",
   "name": "python",
   "nbconvert_exporter": "python",
   "pygments_lexer": "ipython3",
   "version": "3.10.11"
  }
 },
 "nbformat": 4,
 "nbformat_minor": 5
}
