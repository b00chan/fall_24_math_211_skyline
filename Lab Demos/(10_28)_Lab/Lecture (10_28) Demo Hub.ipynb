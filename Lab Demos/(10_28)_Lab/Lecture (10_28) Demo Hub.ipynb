{
 "cells": [
  {
   "cell_type": "markdown",
   "id": "8f246f8d",
   "metadata": {},
   "source": [
    "# [Python Reference Link](http://www.data8.org/sp20/python-reference.html)\n",
    "*Run the cell below so that we can set our modules up*"
   ]
  },
  {
   "cell_type": "code",
   "execution_count": null,
   "id": "b2ff526c",
   "metadata": {},
   "outputs": [],
   "source": [
    "import numpy as np\n",
    "from datascience import *\n",
    "from IPython.display import YouTubeVideo\n",
    "\n",
    "# These lines do some fancy plotting magic.\n",
    "import matplotlib\n",
    "%matplotlib inline\n",
    "import matplotlib.pyplot as plt\n",
    "plt.style.use('fivethirtyeight')\n",
    "import warnings\n",
    "warnings.simplefilter('ignore', FutureWarning)"
   ]
  },
  {
   "cell_type": "markdown",
   "id": "41698929",
   "metadata": {},
   "source": [
    "## Hypothesis Test Simulation: Jury Selection in Swain v. Alabama"
   ]
  },
  {
   "cell_type": "code",
   "execution_count": null,
   "id": "27024a43",
   "metadata": {},
   "outputs": [],
   "source": [
    "black_non_black_jurors = make_array(0.23,0.77)"
   ]
  },
  {
   "cell_type": "code",
   "execution_count": null,
   "id": "531bb582",
   "metadata": {},
   "outputs": [],
   "source": [
    "observed_num_of_black_jurors = 8"
   ]
  },
  {
   "cell_type": "code",
   "execution_count": null,
   "id": "aface4ea",
   "metadata": {},
   "outputs": [],
   "source": [
    "#Taking a look at what sample_proportions creates\n",
    "sample_proportions(100,black_non_black_jurors)"
   ]
  },
  {
   "cell_type": "code",
   "execution_count": null,
   "id": "0f7f3c0a",
   "metadata": {},
   "outputs": [],
   "source": [
    "#running one simulation of the experiment below \n",
    "100*sample_proportions(100,black_non_black_jurors).item(0)"
   ]
  },
  {
   "cell_type": "code",
   "execution_count": null,
   "id": "a0e24d62",
   "metadata": {},
   "outputs": [],
   "source": [
    "num_simulations = 10000"
   ]
  },
  {
   "cell_type": "code",
   "execution_count": null,
   "id": "6cf7dbff",
   "metadata": {},
   "outputs": [],
   "source": [
    "simulated_statistics = make_array()\n",
    "\n",
    "for i in np.arange(num_simulations):\n",
    "    one_statistic = 100*sample_proportions(100,black_non_black_jurors).item(0)\n",
    "    simulated_statistics = np.append(simulated_statistics, one_statistic)"
   ]
  },
  {
   "cell_type": "code",
   "execution_count": null,
   "id": "593a176d",
   "metadata": {},
   "outputs": [],
   "source": [
    "simulated_statistics"
   ]
  },
  {
   "cell_type": "code",
   "execution_count": null,
   "id": "86351629",
   "metadata": {},
   "outputs": [],
   "source": [
    "Table().with_columns('Simulated Statistic', simulated_statistics).hist()\n",
    "plt.scatter(observed_num_of_black_jurors, -0.002, color='red', s=40);"
   ]
  },
  {
   "cell_type": "code",
   "execution_count": null,
   "id": "64fcbe9f",
   "metadata": {},
   "outputs": [],
   "source": [
    "p_value = np.count_nonzero(simulated_statistics <= observed_num_of_black_jurors) / num_simulations \n",
    "p_value"
   ]
  },
  {
   "cell_type": "code",
   "execution_count": null,
   "id": "ce4b1f3f",
   "metadata": {},
   "outputs": [],
   "source": []
  }
 ],
 "metadata": {
  "kernelspec": {
   "display_name": "Python 3 (ipykernel)",
   "language": "python",
   "name": "python3"
  },
  "language_info": {
   "codemirror_mode": {
    "name": "ipython",
    "version": 3
   },
   "file_extension": ".py",
   "mimetype": "text/x-python",
   "name": "python",
   "nbconvert_exporter": "python",
   "pygments_lexer": "ipython3",
   "version": "3.10.11"
  }
 },
 "nbformat": 4,
 "nbformat_minor": 5
}
