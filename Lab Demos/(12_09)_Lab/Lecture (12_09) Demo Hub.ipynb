{
 "cells": [
  {
   "cell_type": "markdown",
   "id": "ef4f0a85",
   "metadata": {},
   "source": [
    "# [Python Reference Link](http://www.data8.org/sp20/python-reference.html)\n",
    "*Run the cell below so that we can set our modules up*"
   ]
  },
  {
   "cell_type": "code",
   "execution_count": null,
   "id": "43e6bb51",
   "metadata": {},
   "outputs": [],
   "source": [
    "import numpy as np\n",
    "from datascience import *\n",
    "import math as m\n",
    "\n",
    "# These lines do some fancy plotting magic.\n",
    "import matplotlib\n",
    "%matplotlib inline\n",
    "import matplotlib.pyplot as plt\n",
    "plt.style.use('fivethirtyeight')\n",
    "import warnings\n",
    "warnings.simplefilter('ignore', FutureWarning)"
   ]
  },
  {
   "cell_type": "markdown",
   "id": "8edf176e",
   "metadata": {},
   "source": [
    "# Classification - Examination through ScatterPlots"
   ]
  },
  {
   "cell_type": "code",
   "execution_count": null,
   "id": "3e4892ad",
   "metadata": {},
   "outputs": [],
   "source": [
    "iris =  Table.read_table(\"IRIS.csv\")\n",
    "iris"
   ]
  },
  {
   "cell_type": "code",
   "execution_count": null,
   "id": "092f3f44",
   "metadata": {},
   "outputs": [],
   "source": [
    "#let's pick two of the column labels above and observe the scatter plot. \n",
    "# Note that each of the three species will be a different color on the plot to help us differentiate \n",
    "# the iris flower species\n",
    "\n",
    "iris.scatter(... , ... , group = 'species')"
   ]
  },
  {
   "cell_type": "markdown",
   "id": "492d85f0",
   "metadata": {},
   "source": [
    "# Identifying key variables for classification"
   ]
  },
  {
   "cell_type": "code",
   "execution_count": null,
   "id": "d2aefd1c",
   "metadata": {},
   "outputs": [],
   "source": [
    "#Now let's look at comparing ALL of the labels to each other in pairwise comparisons\n",
    "#run the code below \n",
    "\n",
    "labels_without_species = list(iris.labels)[:-1]\n",
    "plotted_pairs = []\n",
    "\n",
    "for x in labels_without_species:\n",
    "    for y in labels_without_species:\n",
    "        \n",
    "        ordered_pair =  {x,y}\n",
    "        \n",
    "        if (x != y) and (ordered_pair not in plotted_pairs):\n",
    "            iris.scatter(x,y,group='species')\n",
    "            plotted_pairs.append(ordered_pair)\n",
    "            \n",
    "print(plotted_pairs)    "
   ]
  },
  {
   "cell_type": "markdown",
   "id": "6e57d826",
   "metadata": {},
   "source": [
    "# Creating Training and Testing Data Sets"
   ]
  },
  {
   "cell_type": "code",
   "execution_count": null,
   "id": "9b0c99ee",
   "metadata": {},
   "outputs": [],
   "source": [
    "print('The iris data set has',iris.num_rows,'flowers represented in the sameple')"
   ]
  },
  {
   "cell_type": "markdown",
   "id": "5b876d02",
   "metadata": {},
   "source": [
    "Let's separate 100 rows of data and use it for the training set, and then use the remaining 50 rows of data for the test set. Since the table is organized nicely by species (which is what we are classifying) we want to mix these rows up. We can do this using the `sample` method to shuffle, and then `take` the first 100 rows for training, and the last 50 rows for testing"
   ]
  },
  {
   "cell_type": "code",
   "execution_count": null,
   "id": "98283576",
   "metadata": {},
   "outputs": [],
   "source": [
    "shuffled_iris = ...\n",
    "\n",
    "train_iris = ...\n",
    "test_iris = ...\n",
    "\n",
    "print(\"Training set:\\t\",   train_iris.num_rows, \"examples\")\n",
    "print(\"Test set:\\t\",       test_iris.num_rows, \"examples\")\n",
    "train.show(5), test.show(5);"
   ]
  },
  {
   "cell_type": "markdown",
   "id": "efc21a88",
   "metadata": {},
   "source": [
    "Let's convert the above process into a single function: "
   ]
  },
  {
   "cell_type": "code",
   "execution_count": null,
   "id": "d155aa14",
   "metadata": {},
   "outputs": [],
   "source": [
    "def train_test_separation(tbl,num_for_train):\n",
    "    shuffled_tbl = ...\n",
    "    \n",
    "    train_tbl = ...\n",
    "    test_tbl = ...\n",
    "    \n",
    "    print(\"Training set:\\t\",   train_tbl.num_rows, \"examples\")\n",
    "    print(\"Test set:\\t\",       test_tbl.num_rows, \"examples\")\n",
    "    \n",
    "    return train_tbl, test_tbl"
   ]
  },
  {
   "cell_type": "code",
   "execution_count": null,
   "id": "d2ac3955",
   "metadata": {},
   "outputs": [],
   "source": [
    "train_test_separation(iris,100)"
   ]
  },
  {
   "cell_type": "markdown",
   "id": "72deeff4",
   "metadata": {},
   "source": [
    "# The Distance Formula"
   ]
  },
  {
   "cell_type": "code",
   "execution_count": null,
   "id": "279fe863",
   "metadata": {},
   "outputs": [],
   "source": [
    "((3 - 0)**2 + (4 - 0)**2)**(0.5)"
   ]
  },
  {
   "cell_type": "code",
   "execution_count": null,
   "id": "df710581",
   "metadata": {},
   "outputs": [],
   "source": [
    "first = make_array(0,0)\n",
    "second = make_array(3,4)\n",
    "\n",
    "..."
   ]
  },
  {
   "cell_type": "markdown",
   "id": "a414d70c",
   "metadata": {},
   "source": [
    "#### The following function below is defined for you homework 12"
   ]
  },
  {
   "cell_type": "code",
   "execution_count": null,
   "id": "07713eea",
   "metadata": {},
   "outputs": [],
   "source": [
    "# row (input): a row from the table \n",
    "# features (input): an array of column labels. These labels are the attributes that will help us classify individuals. \n",
    "# Note: the attributes must be numerical to help us pass them through the distance function defined above. \n",
    "\n",
    "def row_to_array(row, features):\n",
    "    \"\"\"Converts a row to an array of its features.\"\"\"\n",
    "    arr = make_array()\n",
    "    for feature in features:\n",
    "        arr = np.append(arr, row.item(feature))\n",
    "    return arr"
   ]
  },
  {
   "cell_type": "code",
   "execution_count": null,
   "id": "08c5ef26",
   "metadata": {},
   "outputs": [],
   "source": [
    "array_of_iris_features = iris.drop('species').labels\n",
    "\n",
    "first_setosa = row_to_array(iris.row(0),array_of_iris_features)\n",
    "second_setosa = row_to_array(iris.row(1),array_of_iris_features)\n",
    "last_virginica = row_to_array(iris.row(-1),array_of_iris_features)\n",
    "\n",
    "(sum((first_setosa - second_setosa)**2))**(0.5)"
   ]
  },
  {
   "cell_type": "markdown",
   "id": "01a2a690",
   "metadata": {},
   "source": [
    "Let's convert the above process into a single function:"
   ]
  },
  {
   "cell_type": "code",
   "execution_count": null,
   "id": "588fdec7",
   "metadata": {},
   "outputs": [],
   "source": [
    "def distance(array_one,array_two):\n",
    "    return ..."
   ]
  },
  {
   "cell_type": "code",
   "execution_count": null,
   "id": "33561ab9",
   "metadata": {},
   "outputs": [],
   "source": [
    "distance(first_setosa,second_setosa)"
   ]
  },
  {
   "cell_type": "code",
   "execution_count": null,
   "id": "57dee628",
   "metadata": {},
   "outputs": [],
   "source": [
    "distance(first_setosa,last_virginica)"
   ]
  },
  {
   "cell_type": "code",
   "execution_count": null,
   "id": "368af46d",
   "metadata": {},
   "outputs": [],
   "source": [
    "distance(second_setosa,last_virginica)"
   ]
  },
  {
   "cell_type": "markdown",
   "id": "21b3d43b",
   "metadata": {},
   "source": [
    "# Tumor: Let's take a look at ScatterPlots"
   ]
  },
  {
   "cell_type": "code",
   "execution_count": null,
   "id": "056a01a0",
   "metadata": {},
   "outputs": [],
   "source": [
    "tumor_data = Table.read_table(\"data.csv\").drop('id','Unnamed: 32')\n",
    "tumor_data"
   ]
  },
  {
   "cell_type": "code",
   "execution_count": null,
   "id": "c74ee93a",
   "metadata": {
    "scrolled": false
   },
   "outputs": [],
   "source": [
    "tumor_labels = list(tumor_data.labels)\n",
    "tumor_attribute_list = tumor_labels[1:]\n",
    "tumor_attribute_array = tumor_attribute_list"
   ]
  },
  {
   "cell_type": "code",
   "execution_count": null,
   "id": "18ba2393",
   "metadata": {},
   "outputs": [],
   "source": [
    "# Caution, this will crash the kernel due to the volume of outputs. \n",
    "\n",
    "for x in tumor_attribute_list:\n",
    "    tumor_attribute_list.remove(x)\n",
    "    for y in tumor_attribute_list:\n",
    "        tumor_data.scatter(x,y,group='diagnosis')"
   ]
  },
  {
   "cell_type": "code",
   "execution_count": null,
   "id": "e345e98f",
   "metadata": {},
   "outputs": [],
   "source": [
    "# This reduces the list of attributes to examine the means only, to avoid crashing the kernel. \n",
    "tumor_labels = list(tumor_data.labels)\n",
    "tumor_attribute_list_means_only = tumor_labels[1:11]\n",
    "tumor_attribute_array_means_only = tumor_attribute_list_means_only"
   ]
  },
  {
   "cell_type": "code",
   "execution_count": null,
   "id": "77140f34",
   "metadata": {
    "scrolled": false
   },
   "outputs": [],
   "source": [
    "# This reduces the list of attributes to examine the means only, to avoid crashing the kernel. \n",
    "for x in tumor_attribute_list_means_only:\n",
    "    tumor_attribute_list_means_only.remove(x)\n",
    "    for y in tumor_attribute_list_means_only:\n",
    "        tumor_data.scatter(x,y,group='diagnosis')"
   ]
  },
  {
   "cell_type": "markdown",
   "id": "5ac99e9b",
   "metadata": {},
   "source": [
    "# Let's classify these tumor cells"
   ]
  },
  {
   "cell_type": "markdown",
   "id": "fef73b49",
   "metadata": {},
   "source": [
    "## Finding the `k` Nearest Neighbors"
   ]
  },
  {
   "cell_type": "markdown",
   "id": "d4918bb5",
   "metadata": {},
   "source": [
    "### Some pre-formatting:"
   ]
  },
  {
   "cell_type": "code",
   "execution_count": null,
   "id": "863019f3",
   "metadata": {},
   "outputs": [],
   "source": [
    "train, test = train_test_separation(tumor_data,450)"
   ]
  },
  {
   "cell_type": "code",
   "execution_count": null,
   "id": "53457484",
   "metadata": {},
   "outputs": [],
   "source": [
    "row_to_test = test.row(0)\n",
    "row_to_test"
   ]
  },
  {
   "cell_type": "code",
   "execution_count": null,
   "id": "0726d0cc",
   "metadata": {},
   "outputs": [],
   "source": [
    "test_features_array = row_to_array(row_to_test,tumor_attribute_array)\n",
    "test_features_array"
   ]
  },
  {
   "cell_type": "markdown",
   "id": "9c95cb43",
   "metadata": {},
   "source": [
    "### Find the distance between the example (i.e. test row) and each example in the training set"
   ]
  },
  {
   "cell_type": "code",
   "execution_count": null,
   "id": "c9806361",
   "metadata": {},
   "outputs": [],
   "source": [
    "# we will store the distance between the test row with all the rows in the training set. \n",
    "distances = make_array()\n",
    "\n",
    "# we will iterate through the training set row by row.  \n",
    "for train_row in train.rows:\n",
    "    #convert the train_row into an array also\n",
    "    ...\n",
    "    \n",
    "    # compute the distance between the test row array and test row array\n",
    "    ...\n",
    "    \n",
    "    # save the distance between these two arrays (test row and train row) into the distances array\n",
    "    ...\n",
    "    \n",
    "\n",
    "distances"
   ]
  },
  {
   "cell_type": "markdown",
   "id": "a0034901",
   "metadata": {},
   "source": [
    "### Augment the training data table with a column containing all the distances"
   ]
  },
  {
   "cell_type": "code",
   "execution_count": null,
   "id": "5c7b2e55",
   "metadata": {},
   "outputs": [],
   "source": [
    "train_with_distances = ..."
   ]
  },
  {
   "cell_type": "code",
   "execution_count": null,
   "id": "d7feaa02",
   "metadata": {},
   "outputs": [],
   "source": [
    "train_with_distances"
   ]
  },
  {
   "cell_type": "markdown",
   "id": "649d9032",
   "metadata": {},
   "source": [
    "### Sort the augmented table in increasing order of the distances"
   ]
  },
  {
   "cell_type": "code",
   "execution_count": null,
   "id": "4526b973",
   "metadata": {},
   "outputs": [],
   "source": [
    "sorted_training = ..."
   ]
  },
  {
   "cell_type": "code",
   "execution_count": null,
   "id": "5bcef85f",
   "metadata": {},
   "outputs": [],
   "source": []
  },
  {
   "cell_type": "markdown",
   "id": "e875fb75",
   "metadata": {},
   "source": [
    "### Take the top `k` rows of the sorted table"
   ]
  },
  {
   "cell_type": "code",
   "execution_count": null,
   "id": "506da356",
   "metadata": {},
   "outputs": [],
   "source": [
    "top_k_training = "
   ]
  },
  {
   "cell_type": "code",
   "execution_count": null,
   "id": "586d29d6",
   "metadata": {},
   "outputs": [],
   "source": []
  },
  {
   "cell_type": "markdown",
   "id": "09b6ffa9",
   "metadata": {},
   "source": [
    "## The Classifier"
   ]
  },
  {
   "cell_type": "markdown",
   "id": "e37453d4",
   "metadata": {},
   "source": [
    "### Take a majority vote of the `k` nearest neighbors to see which of the two classes appear most often (visually)"
   ]
  },
  {
   "cell_type": "code",
   "execution_count": null,
   "id": "9e838ff0",
   "metadata": {},
   "outputs": [],
   "source": [
    "test.row(0)"
   ]
  },
  {
   "cell_type": "code",
   "execution_count": null,
   "id": "b91ed8c2",
   "metadata": {},
   "outputs": [],
   "source": [
    "top_k_training.scatter(...,...,group = 'diagnosis')"
   ]
  },
  {
   "cell_type": "markdown",
   "id": "9c862a55",
   "metadata": {},
   "source": [
    "### Take a majority vote of the `k` nearest neighbors to see which of the two classes appear most often (algorithm)"
   ]
  },
  {
   "cell_type": "code",
   "execution_count": null,
   "id": "e8e3a876",
   "metadata": {},
   "outputs": [],
   "source": [
    "decision = ..."
   ]
  },
  {
   "cell_type": "markdown",
   "id": "c37bea13",
   "metadata": {},
   "source": [
    "# Evaluating your classifier (Accuracy)\n",
    "What we did for the first row of the `test` table, we must repeat for the rest of the table. "
   ]
  },
  {
   "cell_type": "code",
   "execution_count": null,
   "id": "d408909d",
   "metadata": {},
   "outputs": [],
   "source": [
    "test"
   ]
  },
  {
   "cell_type": "markdown",
   "id": "8609a077",
   "metadata": {},
   "source": [
    "As daunting as that sounds, a for-loop can sufficiently handle this. We repeat the above steps for each row of the test table: "
   ]
  },
  {
   "cell_type": "code",
   "execution_count": null,
   "id": "ba4fbcbb",
   "metadata": {},
   "outputs": [],
   "source": [
    "diagnoses = make_array()\n",
    "\n",
    "for test_row in test.rows:\n",
    "    test_row_array = ...\n",
    "    distances = make_array()\n",
    "#######\n",
    "    for train_row in train.rows:\n",
    "        ...\n",
    "        \n",
    "#######\n",
    "    train_with_distances = train.with_column('distances',distances)\n",
    "    sorted_training = ...\n",
    "    top_k_training = ...\n",
    "    diagnosis = ...\n",
    "    diagnoses = np.append(diagnoses,diagnosis)\n",
    "    \n",
    "len(diagnoses) == test.num_rows "
   ]
  },
  {
   "cell_type": "code",
   "execution_count": null,
   "id": "72b40887",
   "metadata": {},
   "outputs": [],
   "source": [
    "diagnoses"
   ]
  },
  {
   "cell_type": "code",
   "execution_count": null,
   "id": "c1ddf8c7",
   "metadata": {},
   "outputs": [],
   "source": [
    "np.count_nonzero(test.column('diagnosis') == diagnoses)/len(diagnoses)"
   ]
  },
  {
   "cell_type": "code",
   "execution_count": null,
   "id": "6cd1f4c7",
   "metadata": {},
   "outputs": [],
   "source": [
    "test.select('diagnosis').with_column('predicted diagnosis',diagnoses)"
   ]
  }
 ],
 "metadata": {
  "kernelspec": {
   "display_name": "Python 3 (ipykernel)",
   "language": "python",
   "name": "python3"
  },
  "language_info": {
   "codemirror_mode": {
    "name": "ipython",
    "version": 3
   },
   "file_extension": ".py",
   "mimetype": "text/x-python",
   "name": "python",
   "nbconvert_exporter": "python",
   "pygments_lexer": "ipython3",
   "version": "3.10.11"
  }
 },
 "nbformat": 4,
 "nbformat_minor": 5
}
